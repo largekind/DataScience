{
 "cells": [
  {
   "cell_type": "markdown",
   "id": "bdae6cbc-5787-4d83-a50c-a8629b06d2eb",
   "metadata": {},
   "source": [
    "# pandas\n",
    "\n",
    "データ解析とかでよく使うライブラリ群。詳細はグーグル\n",
    "\n",
    "## 一次元のデータ列\n",
    "\n",
    "Seriesを用いる。"
   ]
  },
  {
   "cell_type": "code",
   "execution_count": 3,
   "id": "0ea876ea-1311-41d9-aac8-d650a961997f",
   "metadata": {},
   "outputs": [],
   "source": [
    "import pandas as pd \n",
    "from pandas import Series"
   ]
  },
  {
   "cell_type": "code",
   "execution_count": 2,
   "id": "96caab0d-5929-4c67-a38b-fca98a55daf9",
   "metadata": {},
   "outputs": [
    {
     "data": {
      "text/plain": [
       "0    3\n",
       "1    5\n",
       "2    6\n",
       "3    7\n",
       "dtype: int64"
      ]
     },
     "execution_count": 2,
     "metadata": {},
     "output_type": "execute_result"
    }
   ],
   "source": [
    "obj = Series([3,5,6,7])\n",
    "obj"
   ]
  },
  {
   "cell_type": "code",
   "execution_count": 3,
   "id": "869be028-b46a-4413-a11b-49eca3424898",
   "metadata": {},
   "outputs": [
    {
     "data": {
      "text/plain": [
       "array([3, 5, 6, 7])"
      ]
     },
     "execution_count": 3,
     "metadata": {},
     "output_type": "execute_result"
    }
   ],
   "source": [
    "obj.values"
   ]
  },
  {
   "cell_type": "code",
   "execution_count": 4,
   "id": "8a24d2bb-1bf4-4126-8f3b-b971bf04ff6c",
   "metadata": {},
   "outputs": [
    {
     "data": {
      "text/plain": [
       "RangeIndex(start=0, stop=4, step=1)"
      ]
     },
     "execution_count": 4,
     "metadata": {},
     "output_type": "execute_result"
    }
   ],
   "source": [
    "obj.index"
   ]
  },
  {
   "cell_type": "code",
   "execution_count": 5,
   "id": "d846770e-3278-47e5-8736-ecf878877384",
   "metadata": {},
   "outputs": [],
   "source": [
    "# indexに名前も使用可能\n",
    "m2_cos = Series([2,3,4,5],index=['A','B','C','D'])"
   ]
  },
  {
   "cell_type": "code",
   "execution_count": 6,
   "id": "d78b36be-1479-4ffa-8b73-786b50fd9c70",
   "metadata": {},
   "outputs": [
    {
     "data": {
      "text/plain": [
       "A    2\n",
       "B    3\n",
       "C    4\n",
       "D    5\n",
       "dtype: int64"
      ]
     },
     "execution_count": 6,
     "metadata": {},
     "output_type": "execute_result"
    }
   ],
   "source": [
    "m2_cos"
   ]
  },
  {
   "cell_type": "code",
   "execution_count": 7,
   "id": "e482dbe8-cda4-4cc7-a08f-42e3ef749259",
   "metadata": {},
   "outputs": [
    {
     "data": {
      "text/plain": [
       "2"
      ]
     },
     "execution_count": 7,
     "metadata": {},
     "output_type": "execute_result"
    }
   ],
   "source": [
    "m2_cos['A']"
   ]
  },
  {
   "cell_type": "code",
   "execution_count": 8,
   "id": "572666b0-c5a0-4f55-a75f-82d9a6fec28b",
   "metadata": {},
   "outputs": [
    {
     "data": {
      "text/plain": [
       "C    4\n",
       "D    5\n",
       "dtype: int64"
      ]
     },
     "execution_count": 8,
     "metadata": {},
     "output_type": "execute_result"
    }
   ],
   "source": [
    "m2_cos[m2_cos >= 4] #条件式を使えばデータ抜粋も可能"
   ]
  },
  {
   "cell_type": "code",
   "execution_count": 9,
   "id": "3538dd77-15bc-4f44-9c0d-d5bef76d95c7",
   "metadata": {},
   "outputs": [
    {
     "data": {
      "text/plain": [
       "A    False\n",
       "B    False\n",
       "C     True\n",
       "D     True\n",
       "dtype: bool"
      ]
     },
     "execution_count": 9,
     "metadata": {},
     "output_type": "execute_result"
    }
   ],
   "source": [
    "m2_cos >= 4"
   ]
  },
  {
   "cell_type": "code",
   "execution_count": 10,
   "id": "6a8406a2-a980-425f-b87e-7186b1aa75d1",
   "metadata": {},
   "outputs": [
    {
     "data": {
      "text/plain": [
       "True"
      ]
     },
     "execution_count": 10,
     "metadata": {},
     "output_type": "execute_result"
    }
   ],
   "source": [
    "# データを含むかの確認\n",
    "'B' in m2_cos"
   ]
  },
  {
   "cell_type": "code",
   "execution_count": 12,
   "id": "5fd7f7de-9882-4682-8b38-fbd6488bdf60",
   "metadata": {},
   "outputs": [],
   "source": [
    "# 辞書化も可能\n",
    "m2_dict = m2_cos.to_dict()"
   ]
  },
  {
   "cell_type": "code",
   "execution_count": 13,
   "id": "ecf6e114-79c3-4d63-a30d-4bb771de7c58",
   "metadata": {},
   "outputs": [
    {
     "data": {
      "text/plain": [
       "{'A': 2, 'B': 3, 'C': 4, 'D': 5}"
      ]
     },
     "execution_count": 13,
     "metadata": {},
     "output_type": "execute_result"
    }
   ],
   "source": [
    "m2_dict"
   ]
  },
  {
   "cell_type": "code",
   "execution_count": 14,
   "id": "1b3dc615-a32c-419e-8e26-6d617f80bd95",
   "metadata": {},
   "outputs": [],
   "source": [
    "categoriy = ['A','B','C','D','E']"
   ]
  },
  {
   "cell_type": "code",
   "execution_count": 17,
   "id": "3809c38b-22d9-470e-ac41-9878a2e714cb",
   "metadata": {},
   "outputs": [],
   "source": [
    "m3_cos = Series(m2_dict , index=categoriy)"
   ]
  },
  {
   "cell_type": "code",
   "execution_count": 18,
   "id": "c6f9e717-a2bc-4103-a0bd-175a35628b82",
   "metadata": {},
   "outputs": [
    {
     "data": {
      "text/plain": [
       "A    2.0\n",
       "B    3.0\n",
       "C    4.0\n",
       "D    5.0\n",
       "E    NaN\n",
       "dtype: float64"
      ]
     },
     "execution_count": 18,
     "metadata": {},
     "output_type": "execute_result"
    }
   ],
   "source": [
    "m3_cos"
   ]
  },
  {
   "cell_type": "code",
   "execution_count": 19,
   "id": "ffb07389-c5df-4c09-bf0e-bf847371b88e",
   "metadata": {},
   "outputs": [
    {
     "data": {
      "text/plain": [
       "A    False\n",
       "B    False\n",
       "C    False\n",
       "D    False\n",
       "E     True\n",
       "dtype: bool"
      ]
     },
     "execution_count": 19,
     "metadata": {},
     "output_type": "execute_result"
    }
   ],
   "source": [
    "# NaN判定も可能\n",
    "pd.isnull(m3_cos)"
   ]
  },
  {
   "cell_type": "code",
   "execution_count": 20,
   "id": "5793d40b-4049-4e65-9ae9-5b9dcc53815f",
   "metadata": {},
   "outputs": [
    {
     "data": {
      "text/plain": [
       "A     True\n",
       "B     True\n",
       "C     True\n",
       "D     True\n",
       "E    False\n",
       "dtype: bool"
      ]
     },
     "execution_count": 20,
     "metadata": {},
     "output_type": "execute_result"
    }
   ],
   "source": [
    "pd.notnull(m3_cos)"
   ]
  },
  {
   "cell_type": "code",
   "execution_count": 21,
   "id": "a8d4fcb3-8559-4491-ac46-d5abe1e44975",
   "metadata": {},
   "outputs": [
    {
     "data": {
      "text/plain": [
       "A     4.0\n",
       "B     6.0\n",
       "C     8.0\n",
       "D    10.0\n",
       "E     NaN\n",
       "dtype: float64"
      ]
     },
     "execution_count": 21,
     "metadata": {},
     "output_type": "execute_result"
    }
   ],
   "source": [
    "# Indexが同じであれば総和も可能\n",
    "m2_cos + m3_cos"
   ]
  },
  {
   "cell_type": "code",
   "execution_count": 22,
   "id": "b476c280-0ef9-405d-8ade-09292014c48d",
   "metadata": {},
   "outputs": [],
   "source": [
    "# 名前の追加\n",
    "m2_cos.name = 'ほげほげ'"
   ]
  },
  {
   "cell_type": "code",
   "execution_count": 23,
   "id": "6d19bc70-4a88-4ba1-bb25-19df23760365",
   "metadata": {},
   "outputs": [
    {
     "data": {
      "text/plain": [
       "A    2\n",
       "B    3\n",
       "C    4\n",
       "D    5\n",
       "Name: ほげほげ, dtype: int64"
      ]
     },
     "execution_count": 23,
     "metadata": {},
     "output_type": "execute_result"
    }
   ],
   "source": [
    "m2_cos"
   ]
  },
  {
   "cell_type": "code",
   "execution_count": 24,
   "id": "6b811d10-b7b1-42f2-be62-a2b44f6c2fd0",
   "metadata": {},
   "outputs": [],
   "source": [
    "# Indexにも名前を付けられる\n",
    "m2_cos.index.name = \"ふがふが\""
   ]
  },
  {
   "cell_type": "code",
   "execution_count": 25,
   "id": "9a6f2c99-0103-4780-a153-1301ba7bb157",
   "metadata": {},
   "outputs": [
    {
     "data": {
      "text/plain": [
       "ふがふが\n",
       "A    2\n",
       "B    3\n",
       "C    4\n",
       "D    5\n",
       "Name: ほげほげ, dtype: int64"
      ]
     },
     "execution_count": 25,
     "metadata": {},
     "output_type": "execute_result"
    }
   ],
   "source": [
    "m2_cos"
   ]
  },
  {
   "cell_type": "markdown",
   "id": "e0b8b12d-1e37-4cdd-b777-1fab991b4b36",
   "metadata": {},
   "source": [
    "# DataFrame\n",
    "\n",
    "2次元のテーブル型のデータ。こちらもいろいろ使用可能\n",
    "\n",
    "## 使用データ\n",
    "https://en.wikipedia.org/wiki/List_of_all-time_NFL_win%E2%80%93loss_records"
   ]
  },
  {
   "cell_type": "code",
   "execution_count": 2,
   "id": "575b847b-211c-4adb-9660-6e6e1479cfa5",
   "metadata": {},
   "outputs": [],
   "source": [
    "from pandas import Series, DataFrame"
   ]
  },
  {
   "cell_type": "code",
   "execution_count": 8,
   "id": "0675158e-9b24-42ee-bc14-c3949a7a21e7",
   "metadata": {},
   "outputs": [],
   "source": [
    "#クリップボードからデータ取得\n",
    "# 次のURLにある表からコピーしておくのが元だが、docker+jupyter上では不可能 普通にcsvを作ったので、そちらを読み込ませる\n",
    "\n",
    "# nfl_frame = pd.read_clipboard() #大本\n",
    "nfl_frame = pd.read_csv(\"./NFLdata.csv\")"
   ]
  },
  {
   "cell_type": "code",
   "execution_count": 9,
   "id": "d1111a66-ed93-4248-b8d5-69b91cbc731c",
   "metadata": {},
   "outputs": [
    {
     "data": {
      "text/html": [
       "<div>\n",
       "<style scoped>\n",
       "    .dataframe tbody tr th:only-of-type {\n",
       "        vertical-align: middle;\n",
       "    }\n",
       "\n",
       "    .dataframe tbody tr th {\n",
       "        vertical-align: top;\n",
       "    }\n",
       "\n",
       "    .dataframe thead th {\n",
       "        text-align: right;\n",
       "    }\n",
       "</style>\n",
       "<table border=\"1\" class=\"dataframe\">\n",
       "  <thead>\n",
       "    <tr style=\"text-align: right;\">\n",
       "      <th></th>\n",
       "      <th>Rank</th>\n",
       "      <th>Team</th>\n",
       "      <th>GP</th>\n",
       "      <th>Won</th>\n",
       "      <th>Lost</th>\n",
       "      <th>Tied</th>\n",
       "      <th>Pct.</th>\n",
       "      <th>First NFL season</th>\n",
       "      <th>Division</th>\n",
       "    </tr>\n",
       "  </thead>\n",
       "  <tbody>\n",
       "    <tr>\n",
       "      <th>0</th>\n",
       "      <td>1</td>\n",
       "      <td>Dallas Cowboys</td>\n",
       "      <td>964</td>\n",
       "      <td>550</td>\n",
       "      <td>408</td>\n",
       "      <td>6</td>\n",
       "      <td>0.574</td>\n",
       "      <td>1960</td>\n",
       "      <td>NFC East</td>\n",
       "    </tr>\n",
       "    <tr>\n",
       "      <th>1</th>\n",
       "      <td>2</td>\n",
       "      <td>Green Bay Packers</td>\n",
       "      <td>1,418</td>\n",
       "      <td>790</td>\n",
       "      <td>590</td>\n",
       "      <td>38</td>\n",
       "      <td>0.571</td>\n",
       "      <td>1921</td>\n",
       "      <td>NFC North</td>\n",
       "    </tr>\n",
       "    <tr>\n",
       "      <th>2</th>\n",
       "      <td>3</td>\n",
       "      <td>Baltimore Ravens</td>\n",
       "      <td>434</td>\n",
       "      <td>243</td>\n",
       "      <td>190</td>\n",
       "      <td>1</td>\n",
       "      <td>0.561</td>\n",
       "      <td>1996</td>\n",
       "      <td>AFC North</td>\n",
       "    </tr>\n",
       "    <tr>\n",
       "      <th>3</th>\n",
       "      <td>4</td>\n",
       "      <td>New England Patriots</td>\n",
       "      <td>966</td>\n",
       "      <td>537</td>\n",
       "      <td>420</td>\n",
       "      <td>9</td>\n",
       "      <td>0.561</td>\n",
       "      <td>1960</td>\n",
       "      <td>AFC East</td>\n",
       "    </tr>\n",
       "    <tr>\n",
       "      <th>4</th>\n",
       "      <td>5</td>\n",
       "      <td>Chicago Bears</td>\n",
       "      <td>1,452</td>\n",
       "      <td>786</td>\n",
       "      <td>624</td>\n",
       "      <td>42</td>\n",
       "      <td>0.556</td>\n",
       "      <td>1920</td>\n",
       "      <td>NFC North</td>\n",
       "    </tr>\n",
       "    <tr>\n",
       "      <th>5</th>\n",
       "      <td>6</td>\n",
       "      <td>Miami Dolphins</td>\n",
       "      <td>882</td>\n",
       "      <td>485</td>\n",
       "      <td>393</td>\n",
       "      <td>4</td>\n",
       "      <td>0.552</td>\n",
       "      <td>1966</td>\n",
       "      <td>AFC East</td>\n",
       "    </tr>\n",
       "    <tr>\n",
       "      <th>6</th>\n",
       "      <td>7</td>\n",
       "      <td>Minnesota Vikings</td>\n",
       "      <td>952</td>\n",
       "      <td>516</td>\n",
       "      <td>425</td>\n",
       "      <td>11</td>\n",
       "      <td>0.548</td>\n",
       "      <td>1961</td>\n",
       "      <td>NFC North</td>\n",
       "    </tr>\n",
       "    <tr>\n",
       "      <th>7</th>\n",
       "      <td>8</td>\n",
       "      <td>Kansas City Chiefs</td>\n",
       "      <td>966</td>\n",
       "      <td>521</td>\n",
       "      <td>433</td>\n",
       "      <td>12</td>\n",
       "      <td>0.546</td>\n",
       "      <td>1960</td>\n",
       "      <td>AFC West</td>\n",
       "    </tr>\n",
       "    <tr>\n",
       "      <th>8</th>\n",
       "      <td>9</td>\n",
       "      <td>San Francisco 49ers[b]</td>\n",
       "      <td>1,084</td>\n",
       "      <td>574</td>\n",
       "      <td>496</td>\n",
       "      <td>14</td>\n",
       "      <td>0.536</td>\n",
       "      <td>1950</td>\n",
       "      <td>NFC West</td>\n",
       "    </tr>\n",
       "    <tr>\n",
       "      <th>9</th>\n",
       "      <td>10</td>\n",
       "      <td>Pittsburgh Steelers</td>\n",
       "      <td>1,254</td>\n",
       "      <td>661</td>\n",
       "      <td>571</td>\n",
       "      <td>22</td>\n",
       "      <td>0.536</td>\n",
       "      <td>1933</td>\n",
       "      <td>AFC North</td>\n",
       "    </tr>\n",
       "    <tr>\n",
       "      <th>10</th>\n",
       "      <td>11</td>\n",
       "      <td>New York Giants</td>\n",
       "      <td>1,387</td>\n",
       "      <td>715</td>\n",
       "      <td>638</td>\n",
       "      <td>34</td>\n",
       "      <td>0.528</td>\n",
       "      <td>1925</td>\n",
       "      <td>NFC East</td>\n",
       "    </tr>\n",
       "    <tr>\n",
       "      <th>11</th>\n",
       "      <td>12</td>\n",
       "      <td>Indianapolis Colts[c]</td>\n",
       "      <td>1,048</td>\n",
       "      <td>547</td>\n",
       "      <td>493</td>\n",
       "      <td>8</td>\n",
       "      <td>0.526</td>\n",
       "      <td>1953</td>\n",
       "      <td>AFC South</td>\n",
       "    </tr>\n",
       "    <tr>\n",
       "      <th>12</th>\n",
       "      <td>13</td>\n",
       "      <td>Denver Broncos</td>\n",
       "      <td>966</td>\n",
       "      <td>500</td>\n",
       "      <td>456</td>\n",
       "      <td>10</td>\n",
       "      <td>0.523</td>\n",
       "      <td>1960</td>\n",
       "      <td>AFC West</td>\n",
       "    </tr>\n",
       "    <tr>\n",
       "      <th>13</th>\n",
       "      <td>14</td>\n",
       "      <td>Las Vegas Raiders</td>\n",
       "      <td>966</td>\n",
       "      <td>497</td>\n",
       "      <td>458</td>\n",
       "      <td>11</td>\n",
       "      <td>0.520</td>\n",
       "      <td>1960</td>\n",
       "      <td>AFC West</td>\n",
       "    </tr>\n",
       "    <tr>\n",
       "      <th>14</th>\n",
       "      <td>15</td>\n",
       "      <td>Seattle Seahawks</td>\n",
       "      <td>742</td>\n",
       "      <td>383</td>\n",
       "      <td>358</td>\n",
       "      <td>1</td>\n",
       "      <td>0.517</td>\n",
       "      <td>1976</td>\n",
       "      <td>NFC West</td>\n",
       "    </tr>\n",
       "    <tr>\n",
       "      <th>15</th>\n",
       "      <td>16</td>\n",
       "      <td>Los Angeles Rams</td>\n",
       "      <td>1,217</td>\n",
       "      <td>604</td>\n",
       "      <td>592</td>\n",
       "      <td>21</td>\n",
       "      <td>0.505</td>\n",
       "      <td>1937</td>\n",
       "      <td>NFC West</td>\n",
       "    </tr>\n",
       "    <tr>\n",
       "      <th>16</th>\n",
       "      <td>17</td>\n",
       "      <td>Los Angeles Chargers</td>\n",
       "      <td>966</td>\n",
       "      <td>478</td>\n",
       "      <td>477</td>\n",
       "      <td>11</td>\n",
       "      <td>0.501</td>\n",
       "      <td>1960</td>\n",
       "      <td>AFC West</td>\n",
       "    </tr>\n",
       "    <tr>\n",
       "      <th>17</th>\n",
       "      <td>18</td>\n",
       "      <td>Washington Commanders</td>\n",
       "      <td>1,284</td>\n",
       "      <td>625</td>\n",
       "      <td>630</td>\n",
       "      <td>29</td>\n",
       "      <td>0.498</td>\n",
       "      <td>1932</td>\n",
       "      <td>NFC East</td>\n",
       "    </tr>\n",
       "    <tr>\n",
       "      <th>18</th>\n",
       "      <td>19</td>\n",
       "      <td>Philadelphia Eagles</td>\n",
       "      <td>1,270</td>\n",
       "      <td>613</td>\n",
       "      <td>630</td>\n",
       "      <td>27</td>\n",
       "      <td>0.493</td>\n",
       "      <td>1933</td>\n",
       "      <td>NFC East</td>\n",
       "    </tr>\n",
       "    <tr>\n",
       "      <th>19</th>\n",
       "      <td>20</td>\n",
       "      <td>Tennessee Titans</td>\n",
       "      <td>966</td>\n",
       "      <td>470</td>\n",
       "      <td>490</td>\n",
       "      <td>6</td>\n",
       "      <td>0.490</td>\n",
       "      <td>1960</td>\n",
       "      <td>AFC South</td>\n",
       "    </tr>\n",
       "    <tr>\n",
       "      <th>20</th>\n",
       "      <td>21</td>\n",
       "      <td>Cleveland Browns[b][d]</td>\n",
       "      <td>1,036</td>\n",
       "      <td>501</td>\n",
       "      <td>524</td>\n",
       "      <td>11</td>\n",
       "      <td>0.489</td>\n",
       "      <td>1950</td>\n",
       "      <td>AFC North</td>\n",
       "    </tr>\n",
       "    <tr>\n",
       "      <th>21</th>\n",
       "      <td>22</td>\n",
       "      <td>Buffalo Bills</td>\n",
       "      <td>965</td>\n",
       "      <td>462</td>\n",
       "      <td>495</td>\n",
       "      <td>8</td>\n",
       "      <td>0.483</td>\n",
       "      <td>1960</td>\n",
       "      <td>AFC East</td>\n",
       "    </tr>\n",
       "    <tr>\n",
       "      <th>22</th>\n",
       "      <td>23</td>\n",
       "      <td>Carolina Panthers</td>\n",
       "      <td>450</td>\n",
       "      <td>212</td>\n",
       "      <td>237</td>\n",
       "      <td>1</td>\n",
       "      <td>0.472</td>\n",
       "      <td>1995</td>\n",
       "      <td>NFC South</td>\n",
       "    </tr>\n",
       "    <tr>\n",
       "      <th>23</th>\n",
       "      <td>24</td>\n",
       "      <td>New Orleans Saints</td>\n",
       "      <td>868</td>\n",
       "      <td>403</td>\n",
       "      <td>460</td>\n",
       "      <td>5</td>\n",
       "      <td>0.467</td>\n",
       "      <td>1967</td>\n",
       "      <td>NFC South</td>\n",
       "    </tr>\n",
       "    <tr>\n",
       "      <th>24</th>\n",
       "      <td>25</td>\n",
       "      <td>Cincinnati Bengals</td>\n",
       "      <td>853</td>\n",
       "      <td>385</td>\n",
       "      <td>463</td>\n",
       "      <td>5</td>\n",
       "      <td>0.454</td>\n",
       "      <td>1968</td>\n",
       "      <td>AFC North</td>\n",
       "    </tr>\n",
       "    <tr>\n",
       "      <th>25</th>\n",
       "      <td>26</td>\n",
       "      <td>Detroit Lions</td>\n",
       "      <td>1,315</td>\n",
       "      <td>579</td>\n",
       "      <td>702</td>\n",
       "      <td>34</td>\n",
       "      <td>0.453</td>\n",
       "      <td>1930</td>\n",
       "      <td>NFC North</td>\n",
       "    </tr>\n",
       "    <tr>\n",
       "      <th>26</th>\n",
       "      <td>27</td>\n",
       "      <td>New York Jets</td>\n",
       "      <td>966</td>\n",
       "      <td>421</td>\n",
       "      <td>537</td>\n",
       "      <td>8</td>\n",
       "      <td>0.440</td>\n",
       "      <td>1960</td>\n",
       "      <td>AFC East</td>\n",
       "    </tr>\n",
       "    <tr>\n",
       "      <th>27</th>\n",
       "      <td>28</td>\n",
       "      <td>Atlanta Falcons</td>\n",
       "      <td>882</td>\n",
       "      <td>383</td>\n",
       "      <td>493</td>\n",
       "      <td>6</td>\n",
       "      <td>0.438</td>\n",
       "      <td>1966</td>\n",
       "      <td>NFC South</td>\n",
       "    </tr>\n",
       "    <tr>\n",
       "      <th>28</th>\n",
       "      <td>29</td>\n",
       "      <td>Houston Texans</td>\n",
       "      <td>338</td>\n",
       "      <td>142</td>\n",
       "      <td>195</td>\n",
       "      <td>1</td>\n",
       "      <td>0.434</td>\n",
       "      <td>2002</td>\n",
       "      <td>AFC South</td>\n",
       "    </tr>\n",
       "    <tr>\n",
       "      <th>29</th>\n",
       "      <td>30</td>\n",
       "      <td>Arizona Cardinals</td>\n",
       "      <td>1,412</td>\n",
       "      <td>581</td>\n",
       "      <td>790</td>\n",
       "      <td>41</td>\n",
       "      <td>0.426</td>\n",
       "      <td>1920</td>\n",
       "      <td>NFC West</td>\n",
       "    </tr>\n",
       "    <tr>\n",
       "      <th>30</th>\n",
       "      <td>31</td>\n",
       "      <td>Jacksonville Jaguars</td>\n",
       "      <td>450</td>\n",
       "      <td>189</td>\n",
       "      <td>261</td>\n",
       "      <td>0</td>\n",
       "      <td>0.420</td>\n",
       "      <td>1995</td>\n",
       "      <td>AFC South</td>\n",
       "    </tr>\n",
       "    <tr>\n",
       "      <th>31</th>\n",
       "      <td>32</td>\n",
       "      <td>Tampa Bay Buccaneers</td>\n",
       "      <td>742</td>\n",
       "      <td>299</td>\n",
       "      <td>442</td>\n",
       "      <td>1</td>\n",
       "      <td>0.404</td>\n",
       "      <td>1976</td>\n",
       "      <td>NFC South</td>\n",
       "    </tr>\n",
       "  </tbody>\n",
       "</table>\n",
       "</div>"
      ],
      "text/plain": [
       "    Rank                    Team     GP  ...   Pct.  First NFL season   Division\n",
       "0      1          Dallas Cowboys    964  ...  0.574              1960   NFC East\n",
       "1      2       Green Bay Packers  1,418  ...  0.571              1921  NFC North\n",
       "2      3        Baltimore Ravens    434  ...  0.561              1996  AFC North\n",
       "3      4    New England Patriots    966  ...  0.561              1960   AFC East\n",
       "4      5           Chicago Bears  1,452  ...  0.556              1920  NFC North\n",
       "5      6          Miami Dolphins    882  ...  0.552              1966   AFC East\n",
       "6      7       Minnesota Vikings    952  ...  0.548              1961  NFC North\n",
       "7      8      Kansas City Chiefs    966  ...  0.546              1960   AFC West\n",
       "8      9  San Francisco 49ers[b]  1,084  ...  0.536              1950   NFC West\n",
       "9     10     Pittsburgh Steelers  1,254  ...  0.536              1933  AFC North\n",
       "10    11         New York Giants  1,387  ...  0.528              1925   NFC East\n",
       "11    12   Indianapolis Colts[c]  1,048  ...  0.526              1953  AFC South\n",
       "12    13          Denver Broncos    966  ...  0.523              1960   AFC West\n",
       "13    14       Las Vegas Raiders    966  ...  0.520              1960   AFC West\n",
       "14    15        Seattle Seahawks    742  ...  0.517              1976   NFC West\n",
       "15    16        Los Angeles Rams  1,217  ...  0.505              1937   NFC West\n",
       "16    17    Los Angeles Chargers    966  ...  0.501              1960   AFC West\n",
       "17    18   Washington Commanders  1,284  ...  0.498              1932   NFC East\n",
       "18    19     Philadelphia Eagles  1,270  ...  0.493              1933   NFC East\n",
       "19    20        Tennessee Titans    966  ...  0.490              1960  AFC South\n",
       "20    21  Cleveland Browns[b][d]  1,036  ...  0.489              1950  AFC North\n",
       "21    22           Buffalo Bills    965  ...  0.483              1960   AFC East\n",
       "22    23       Carolina Panthers    450  ...  0.472              1995  NFC South\n",
       "23    24      New Orleans Saints    868  ...  0.467              1967  NFC South\n",
       "24    25      Cincinnati Bengals    853  ...  0.454              1968  AFC North\n",
       "25    26           Detroit Lions  1,315  ...  0.453              1930  NFC North\n",
       "26    27           New York Jets    966  ...  0.440              1960   AFC East\n",
       "27    28         Atlanta Falcons    882  ...  0.438              1966  NFC South\n",
       "28    29          Houston Texans    338  ...  0.434              2002  AFC South\n",
       "29    30       Arizona Cardinals  1,412  ...  0.426              1920   NFC West\n",
       "30    31    Jacksonville Jaguars    450  ...  0.420              1995  AFC South\n",
       "31    32    Tampa Bay Buccaneers    742  ...  0.404              1976  NFC South\n",
       "\n",
       "[32 rows x 9 columns]"
      ]
     },
     "execution_count": 9,
     "metadata": {},
     "output_type": "execute_result"
    }
   ],
   "source": [
    "nfl_frame"
   ]
  },
  {
   "cell_type": "code",
   "execution_count": 10,
   "id": "51b28725-a9da-4c5b-990a-5ae937a60513",
   "metadata": {},
   "outputs": [
    {
     "data": {
      "text/plain": [
       "Index(['Rank', 'Team', 'GP', 'Won', 'Lost', 'Tied', 'Pct.', 'First NFL season',\n",
       "       'Division'],\n",
       "      dtype='object')"
      ]
     },
     "execution_count": 10,
     "metadata": {},
     "output_type": "execute_result"
    }
   ],
   "source": [
    "nfl_frame.columns #列表示"
   ]
  },
  {
   "cell_type": "code",
   "execution_count": 13,
   "id": "201aea35-43f5-47bc-8293-7814350e406b",
   "metadata": {},
   "outputs": [
    {
     "data": {
      "text/html": [
       "<div>\n",
       "<style scoped>\n",
       "    .dataframe tbody tr th:only-of-type {\n",
       "        vertical-align: middle;\n",
       "    }\n",
       "\n",
       "    .dataframe tbody tr th {\n",
       "        vertical-align: top;\n",
       "    }\n",
       "\n",
       "    .dataframe thead th {\n",
       "        text-align: right;\n",
       "    }\n",
       "</style>\n",
       "<table border=\"1\" class=\"dataframe\">\n",
       "  <thead>\n",
       "    <tr style=\"text-align: right;\">\n",
       "      <th></th>\n",
       "      <th>Team</th>\n",
       "      <th>First NFL season</th>\n",
       "    </tr>\n",
       "  </thead>\n",
       "  <tbody>\n",
       "    <tr>\n",
       "      <th>0</th>\n",
       "      <td>Dallas Cowboys</td>\n",
       "      <td>1960</td>\n",
       "    </tr>\n",
       "    <tr>\n",
       "      <th>1</th>\n",
       "      <td>Green Bay Packers</td>\n",
       "      <td>1921</td>\n",
       "    </tr>\n",
       "    <tr>\n",
       "      <th>2</th>\n",
       "      <td>Baltimore Ravens</td>\n",
       "      <td>1996</td>\n",
       "    </tr>\n",
       "    <tr>\n",
       "      <th>3</th>\n",
       "      <td>New England Patriots</td>\n",
       "      <td>1960</td>\n",
       "    </tr>\n",
       "    <tr>\n",
       "      <th>4</th>\n",
       "      <td>Chicago Bears</td>\n",
       "      <td>1920</td>\n",
       "    </tr>\n",
       "    <tr>\n",
       "      <th>5</th>\n",
       "      <td>Miami Dolphins</td>\n",
       "      <td>1966</td>\n",
       "    </tr>\n",
       "    <tr>\n",
       "      <th>6</th>\n",
       "      <td>Minnesota Vikings</td>\n",
       "      <td>1961</td>\n",
       "    </tr>\n",
       "    <tr>\n",
       "      <th>7</th>\n",
       "      <td>Kansas City Chiefs</td>\n",
       "      <td>1960</td>\n",
       "    </tr>\n",
       "    <tr>\n",
       "      <th>8</th>\n",
       "      <td>San Francisco 49ers[b]</td>\n",
       "      <td>1950</td>\n",
       "    </tr>\n",
       "    <tr>\n",
       "      <th>9</th>\n",
       "      <td>Pittsburgh Steelers</td>\n",
       "      <td>1933</td>\n",
       "    </tr>\n",
       "    <tr>\n",
       "      <th>10</th>\n",
       "      <td>New York Giants</td>\n",
       "      <td>1925</td>\n",
       "    </tr>\n",
       "    <tr>\n",
       "      <th>11</th>\n",
       "      <td>Indianapolis Colts[c]</td>\n",
       "      <td>1953</td>\n",
       "    </tr>\n",
       "    <tr>\n",
       "      <th>12</th>\n",
       "      <td>Denver Broncos</td>\n",
       "      <td>1960</td>\n",
       "    </tr>\n",
       "    <tr>\n",
       "      <th>13</th>\n",
       "      <td>Las Vegas Raiders</td>\n",
       "      <td>1960</td>\n",
       "    </tr>\n",
       "    <tr>\n",
       "      <th>14</th>\n",
       "      <td>Seattle Seahawks</td>\n",
       "      <td>1976</td>\n",
       "    </tr>\n",
       "    <tr>\n",
       "      <th>15</th>\n",
       "      <td>Los Angeles Rams</td>\n",
       "      <td>1937</td>\n",
       "    </tr>\n",
       "    <tr>\n",
       "      <th>16</th>\n",
       "      <td>Los Angeles Chargers</td>\n",
       "      <td>1960</td>\n",
       "    </tr>\n",
       "    <tr>\n",
       "      <th>17</th>\n",
       "      <td>Washington Commanders</td>\n",
       "      <td>1932</td>\n",
       "    </tr>\n",
       "    <tr>\n",
       "      <th>18</th>\n",
       "      <td>Philadelphia Eagles</td>\n",
       "      <td>1933</td>\n",
       "    </tr>\n",
       "    <tr>\n",
       "      <th>19</th>\n",
       "      <td>Tennessee Titans</td>\n",
       "      <td>1960</td>\n",
       "    </tr>\n",
       "    <tr>\n",
       "      <th>20</th>\n",
       "      <td>Cleveland Browns[b][d]</td>\n",
       "      <td>1950</td>\n",
       "    </tr>\n",
       "    <tr>\n",
       "      <th>21</th>\n",
       "      <td>Buffalo Bills</td>\n",
       "      <td>1960</td>\n",
       "    </tr>\n",
       "    <tr>\n",
       "      <th>22</th>\n",
       "      <td>Carolina Panthers</td>\n",
       "      <td>1995</td>\n",
       "    </tr>\n",
       "    <tr>\n",
       "      <th>23</th>\n",
       "      <td>New Orleans Saints</td>\n",
       "      <td>1967</td>\n",
       "    </tr>\n",
       "    <tr>\n",
       "      <th>24</th>\n",
       "      <td>Cincinnati Bengals</td>\n",
       "      <td>1968</td>\n",
       "    </tr>\n",
       "    <tr>\n",
       "      <th>25</th>\n",
       "      <td>Detroit Lions</td>\n",
       "      <td>1930</td>\n",
       "    </tr>\n",
       "    <tr>\n",
       "      <th>26</th>\n",
       "      <td>New York Jets</td>\n",
       "      <td>1960</td>\n",
       "    </tr>\n",
       "    <tr>\n",
       "      <th>27</th>\n",
       "      <td>Atlanta Falcons</td>\n",
       "      <td>1966</td>\n",
       "    </tr>\n",
       "    <tr>\n",
       "      <th>28</th>\n",
       "      <td>Houston Texans</td>\n",
       "      <td>2002</td>\n",
       "    </tr>\n",
       "    <tr>\n",
       "      <th>29</th>\n",
       "      <td>Arizona Cardinals</td>\n",
       "      <td>1920</td>\n",
       "    </tr>\n",
       "    <tr>\n",
       "      <th>30</th>\n",
       "      <td>Jacksonville Jaguars</td>\n",
       "      <td>1995</td>\n",
       "    </tr>\n",
       "    <tr>\n",
       "      <th>31</th>\n",
       "      <td>Tampa Bay Buccaneers</td>\n",
       "      <td>1976</td>\n",
       "    </tr>\n",
       "  </tbody>\n",
       "</table>\n",
       "</div>"
      ],
      "text/plain": [
       "                      Team  First NFL season\n",
       "0           Dallas Cowboys              1960\n",
       "1        Green Bay Packers              1921\n",
       "2         Baltimore Ravens              1996\n",
       "3     New England Patriots              1960\n",
       "4            Chicago Bears              1920\n",
       "5           Miami Dolphins              1966\n",
       "6        Minnesota Vikings              1961\n",
       "7       Kansas City Chiefs              1960\n",
       "8   San Francisco 49ers[b]              1950\n",
       "9      Pittsburgh Steelers              1933\n",
       "10         New York Giants              1925\n",
       "11   Indianapolis Colts[c]              1953\n",
       "12          Denver Broncos              1960\n",
       "13       Las Vegas Raiders              1960\n",
       "14        Seattle Seahawks              1976\n",
       "15        Los Angeles Rams              1937\n",
       "16    Los Angeles Chargers              1960\n",
       "17   Washington Commanders              1932\n",
       "18     Philadelphia Eagles              1933\n",
       "19        Tennessee Titans              1960\n",
       "20  Cleveland Browns[b][d]              1950\n",
       "21           Buffalo Bills              1960\n",
       "22       Carolina Panthers              1995\n",
       "23      New Orleans Saints              1967\n",
       "24      Cincinnati Bengals              1968\n",
       "25           Detroit Lions              1930\n",
       "26           New York Jets              1960\n",
       "27         Atlanta Falcons              1966\n",
       "28          Houston Texans              2002\n",
       "29       Arizona Cardinals              1920\n",
       "30    Jacksonville Jaguars              1995\n",
       "31    Tampa Bay Buccaneers              1976"
      ]
     },
     "execution_count": 13,
     "metadata": {},
     "output_type": "execute_result"
    }
   ],
   "source": [
    "#特定の列取得\n",
    "nfl_frame[['Team','First NFL season']]"
   ]
  },
  {
   "cell_type": "code",
   "execution_count": 20,
   "id": "3c5138b3-5e8e-40a9-ac69-390927c3ec89",
   "metadata": {},
   "outputs": [],
   "source": [
    "# 新しいデータの取得\n",
    "new_frame = DataFrame(nfl_frame,columns=['Team','First NFL season', 'Sad'])"
   ]
  },
  {
   "cell_type": "code",
   "execution_count": 21,
   "id": "8e560552-cf50-46e7-a33c-3a1d87df6966",
   "metadata": {},
   "outputs": [
    {
     "data": {
      "text/html": [
       "<div>\n",
       "<style scoped>\n",
       "    .dataframe tbody tr th:only-of-type {\n",
       "        vertical-align: middle;\n",
       "    }\n",
       "\n",
       "    .dataframe tbody tr th {\n",
       "        vertical-align: top;\n",
       "    }\n",
       "\n",
       "    .dataframe thead th {\n",
       "        text-align: right;\n",
       "    }\n",
       "</style>\n",
       "<table border=\"1\" class=\"dataframe\">\n",
       "  <thead>\n",
       "    <tr style=\"text-align: right;\">\n",
       "      <th></th>\n",
       "      <th>Rank</th>\n",
       "      <th>Team</th>\n",
       "      <th>GP</th>\n",
       "      <th>Won</th>\n",
       "      <th>Lost</th>\n",
       "      <th>Tied</th>\n",
       "      <th>Pct.</th>\n",
       "      <th>First NFL season</th>\n",
       "      <th>Division</th>\n",
       "    </tr>\n",
       "  </thead>\n",
       "  <tbody>\n",
       "    <tr>\n",
       "      <th>0</th>\n",
       "      <td>1</td>\n",
       "      <td>Dallas Cowboys</td>\n",
       "      <td>964</td>\n",
       "      <td>550</td>\n",
       "      <td>408</td>\n",
       "      <td>6</td>\n",
       "      <td>0.574</td>\n",
       "      <td>1960</td>\n",
       "      <td>NFC East</td>\n",
       "    </tr>\n",
       "    <tr>\n",
       "      <th>1</th>\n",
       "      <td>2</td>\n",
       "      <td>Green Bay Packers</td>\n",
       "      <td>1,418</td>\n",
       "      <td>790</td>\n",
       "      <td>590</td>\n",
       "      <td>38</td>\n",
       "      <td>0.571</td>\n",
       "      <td>1921</td>\n",
       "      <td>NFC North</td>\n",
       "    </tr>\n",
       "    <tr>\n",
       "      <th>2</th>\n",
       "      <td>3</td>\n",
       "      <td>Baltimore Ravens</td>\n",
       "      <td>434</td>\n",
       "      <td>243</td>\n",
       "      <td>190</td>\n",
       "      <td>1</td>\n",
       "      <td>0.561</td>\n",
       "      <td>1996</td>\n",
       "      <td>AFC North</td>\n",
       "    </tr>\n",
       "    <tr>\n",
       "      <th>3</th>\n",
       "      <td>4</td>\n",
       "      <td>New England Patriots</td>\n",
       "      <td>966</td>\n",
       "      <td>537</td>\n",
       "      <td>420</td>\n",
       "      <td>9</td>\n",
       "      <td>0.561</td>\n",
       "      <td>1960</td>\n",
       "      <td>AFC East</td>\n",
       "    </tr>\n",
       "    <tr>\n",
       "      <th>4</th>\n",
       "      <td>5</td>\n",
       "      <td>Chicago Bears</td>\n",
       "      <td>1,452</td>\n",
       "      <td>786</td>\n",
       "      <td>624</td>\n",
       "      <td>42</td>\n",
       "      <td>0.556</td>\n",
       "      <td>1920</td>\n",
       "      <td>NFC North</td>\n",
       "    </tr>\n",
       "    <tr>\n",
       "      <th>5</th>\n",
       "      <td>6</td>\n",
       "      <td>Miami Dolphins</td>\n",
       "      <td>882</td>\n",
       "      <td>485</td>\n",
       "      <td>393</td>\n",
       "      <td>4</td>\n",
       "      <td>0.552</td>\n",
       "      <td>1966</td>\n",
       "      <td>AFC East</td>\n",
       "    </tr>\n",
       "    <tr>\n",
       "      <th>6</th>\n",
       "      <td>7</td>\n",
       "      <td>Minnesota Vikings</td>\n",
       "      <td>952</td>\n",
       "      <td>516</td>\n",
       "      <td>425</td>\n",
       "      <td>11</td>\n",
       "      <td>0.548</td>\n",
       "      <td>1961</td>\n",
       "      <td>NFC North</td>\n",
       "    </tr>\n",
       "    <tr>\n",
       "      <th>7</th>\n",
       "      <td>8</td>\n",
       "      <td>Kansas City Chiefs</td>\n",
       "      <td>966</td>\n",
       "      <td>521</td>\n",
       "      <td>433</td>\n",
       "      <td>12</td>\n",
       "      <td>0.546</td>\n",
       "      <td>1960</td>\n",
       "      <td>AFC West</td>\n",
       "    </tr>\n",
       "    <tr>\n",
       "      <th>8</th>\n",
       "      <td>9</td>\n",
       "      <td>San Francisco 49ers[b]</td>\n",
       "      <td>1,084</td>\n",
       "      <td>574</td>\n",
       "      <td>496</td>\n",
       "      <td>14</td>\n",
       "      <td>0.536</td>\n",
       "      <td>1950</td>\n",
       "      <td>NFC West</td>\n",
       "    </tr>\n",
       "    <tr>\n",
       "      <th>9</th>\n",
       "      <td>10</td>\n",
       "      <td>Pittsburgh Steelers</td>\n",
       "      <td>1,254</td>\n",
       "      <td>661</td>\n",
       "      <td>571</td>\n",
       "      <td>22</td>\n",
       "      <td>0.536</td>\n",
       "      <td>1933</td>\n",
       "      <td>AFC North</td>\n",
       "    </tr>\n",
       "    <tr>\n",
       "      <th>10</th>\n",
       "      <td>11</td>\n",
       "      <td>New York Giants</td>\n",
       "      <td>1,387</td>\n",
       "      <td>715</td>\n",
       "      <td>638</td>\n",
       "      <td>34</td>\n",
       "      <td>0.528</td>\n",
       "      <td>1925</td>\n",
       "      <td>NFC East</td>\n",
       "    </tr>\n",
       "    <tr>\n",
       "      <th>11</th>\n",
       "      <td>12</td>\n",
       "      <td>Indianapolis Colts[c]</td>\n",
       "      <td>1,048</td>\n",
       "      <td>547</td>\n",
       "      <td>493</td>\n",
       "      <td>8</td>\n",
       "      <td>0.526</td>\n",
       "      <td>1953</td>\n",
       "      <td>AFC South</td>\n",
       "    </tr>\n",
       "    <tr>\n",
       "      <th>12</th>\n",
       "      <td>13</td>\n",
       "      <td>Denver Broncos</td>\n",
       "      <td>966</td>\n",
       "      <td>500</td>\n",
       "      <td>456</td>\n",
       "      <td>10</td>\n",
       "      <td>0.523</td>\n",
       "      <td>1960</td>\n",
       "      <td>AFC West</td>\n",
       "    </tr>\n",
       "    <tr>\n",
       "      <th>13</th>\n",
       "      <td>14</td>\n",
       "      <td>Las Vegas Raiders</td>\n",
       "      <td>966</td>\n",
       "      <td>497</td>\n",
       "      <td>458</td>\n",
       "      <td>11</td>\n",
       "      <td>0.520</td>\n",
       "      <td>1960</td>\n",
       "      <td>AFC West</td>\n",
       "    </tr>\n",
       "    <tr>\n",
       "      <th>14</th>\n",
       "      <td>15</td>\n",
       "      <td>Seattle Seahawks</td>\n",
       "      <td>742</td>\n",
       "      <td>383</td>\n",
       "      <td>358</td>\n",
       "      <td>1</td>\n",
       "      <td>0.517</td>\n",
       "      <td>1976</td>\n",
       "      <td>NFC West</td>\n",
       "    </tr>\n",
       "    <tr>\n",
       "      <th>15</th>\n",
       "      <td>16</td>\n",
       "      <td>Los Angeles Rams</td>\n",
       "      <td>1,217</td>\n",
       "      <td>604</td>\n",
       "      <td>592</td>\n",
       "      <td>21</td>\n",
       "      <td>0.505</td>\n",
       "      <td>1937</td>\n",
       "      <td>NFC West</td>\n",
       "    </tr>\n",
       "    <tr>\n",
       "      <th>16</th>\n",
       "      <td>17</td>\n",
       "      <td>Los Angeles Chargers</td>\n",
       "      <td>966</td>\n",
       "      <td>478</td>\n",
       "      <td>477</td>\n",
       "      <td>11</td>\n",
       "      <td>0.501</td>\n",
       "      <td>1960</td>\n",
       "      <td>AFC West</td>\n",
       "    </tr>\n",
       "    <tr>\n",
       "      <th>17</th>\n",
       "      <td>18</td>\n",
       "      <td>Washington Commanders</td>\n",
       "      <td>1,284</td>\n",
       "      <td>625</td>\n",
       "      <td>630</td>\n",
       "      <td>29</td>\n",
       "      <td>0.498</td>\n",
       "      <td>1932</td>\n",
       "      <td>NFC East</td>\n",
       "    </tr>\n",
       "    <tr>\n",
       "      <th>18</th>\n",
       "      <td>19</td>\n",
       "      <td>Philadelphia Eagles</td>\n",
       "      <td>1,270</td>\n",
       "      <td>613</td>\n",
       "      <td>630</td>\n",
       "      <td>27</td>\n",
       "      <td>0.493</td>\n",
       "      <td>1933</td>\n",
       "      <td>NFC East</td>\n",
       "    </tr>\n",
       "    <tr>\n",
       "      <th>19</th>\n",
       "      <td>20</td>\n",
       "      <td>Tennessee Titans</td>\n",
       "      <td>966</td>\n",
       "      <td>470</td>\n",
       "      <td>490</td>\n",
       "      <td>6</td>\n",
       "      <td>0.490</td>\n",
       "      <td>1960</td>\n",
       "      <td>AFC South</td>\n",
       "    </tr>\n",
       "    <tr>\n",
       "      <th>20</th>\n",
       "      <td>21</td>\n",
       "      <td>Cleveland Browns[b][d]</td>\n",
       "      <td>1,036</td>\n",
       "      <td>501</td>\n",
       "      <td>524</td>\n",
       "      <td>11</td>\n",
       "      <td>0.489</td>\n",
       "      <td>1950</td>\n",
       "      <td>AFC North</td>\n",
       "    </tr>\n",
       "    <tr>\n",
       "      <th>21</th>\n",
       "      <td>22</td>\n",
       "      <td>Buffalo Bills</td>\n",
       "      <td>965</td>\n",
       "      <td>462</td>\n",
       "      <td>495</td>\n",
       "      <td>8</td>\n",
       "      <td>0.483</td>\n",
       "      <td>1960</td>\n",
       "      <td>AFC East</td>\n",
       "    </tr>\n",
       "    <tr>\n",
       "      <th>22</th>\n",
       "      <td>23</td>\n",
       "      <td>Carolina Panthers</td>\n",
       "      <td>450</td>\n",
       "      <td>212</td>\n",
       "      <td>237</td>\n",
       "      <td>1</td>\n",
       "      <td>0.472</td>\n",
       "      <td>1995</td>\n",
       "      <td>NFC South</td>\n",
       "    </tr>\n",
       "    <tr>\n",
       "      <th>23</th>\n",
       "      <td>24</td>\n",
       "      <td>New Orleans Saints</td>\n",
       "      <td>868</td>\n",
       "      <td>403</td>\n",
       "      <td>460</td>\n",
       "      <td>5</td>\n",
       "      <td>0.467</td>\n",
       "      <td>1967</td>\n",
       "      <td>NFC South</td>\n",
       "    </tr>\n",
       "    <tr>\n",
       "      <th>24</th>\n",
       "      <td>25</td>\n",
       "      <td>Cincinnati Bengals</td>\n",
       "      <td>853</td>\n",
       "      <td>385</td>\n",
       "      <td>463</td>\n",
       "      <td>5</td>\n",
       "      <td>0.454</td>\n",
       "      <td>1968</td>\n",
       "      <td>AFC North</td>\n",
       "    </tr>\n",
       "    <tr>\n",
       "      <th>25</th>\n",
       "      <td>26</td>\n",
       "      <td>Detroit Lions</td>\n",
       "      <td>1,315</td>\n",
       "      <td>579</td>\n",
       "      <td>702</td>\n",
       "      <td>34</td>\n",
       "      <td>0.453</td>\n",
       "      <td>1930</td>\n",
       "      <td>NFC North</td>\n",
       "    </tr>\n",
       "    <tr>\n",
       "      <th>26</th>\n",
       "      <td>27</td>\n",
       "      <td>New York Jets</td>\n",
       "      <td>966</td>\n",
       "      <td>421</td>\n",
       "      <td>537</td>\n",
       "      <td>8</td>\n",
       "      <td>0.440</td>\n",
       "      <td>1960</td>\n",
       "      <td>AFC East</td>\n",
       "    </tr>\n",
       "    <tr>\n",
       "      <th>27</th>\n",
       "      <td>28</td>\n",
       "      <td>Atlanta Falcons</td>\n",
       "      <td>882</td>\n",
       "      <td>383</td>\n",
       "      <td>493</td>\n",
       "      <td>6</td>\n",
       "      <td>0.438</td>\n",
       "      <td>1966</td>\n",
       "      <td>NFC South</td>\n",
       "    </tr>\n",
       "    <tr>\n",
       "      <th>28</th>\n",
       "      <td>29</td>\n",
       "      <td>Houston Texans</td>\n",
       "      <td>338</td>\n",
       "      <td>142</td>\n",
       "      <td>195</td>\n",
       "      <td>1</td>\n",
       "      <td>0.434</td>\n",
       "      <td>2002</td>\n",
       "      <td>AFC South</td>\n",
       "    </tr>\n",
       "    <tr>\n",
       "      <th>29</th>\n",
       "      <td>30</td>\n",
       "      <td>Arizona Cardinals</td>\n",
       "      <td>1,412</td>\n",
       "      <td>581</td>\n",
       "      <td>790</td>\n",
       "      <td>41</td>\n",
       "      <td>0.426</td>\n",
       "      <td>1920</td>\n",
       "      <td>NFC West</td>\n",
       "    </tr>\n",
       "    <tr>\n",
       "      <th>30</th>\n",
       "      <td>31</td>\n",
       "      <td>Jacksonville Jaguars</td>\n",
       "      <td>450</td>\n",
       "      <td>189</td>\n",
       "      <td>261</td>\n",
       "      <td>0</td>\n",
       "      <td>0.420</td>\n",
       "      <td>1995</td>\n",
       "      <td>AFC South</td>\n",
       "    </tr>\n",
       "    <tr>\n",
       "      <th>31</th>\n",
       "      <td>32</td>\n",
       "      <td>Tampa Bay Buccaneers</td>\n",
       "      <td>742</td>\n",
       "      <td>299</td>\n",
       "      <td>442</td>\n",
       "      <td>1</td>\n",
       "      <td>0.404</td>\n",
       "      <td>1976</td>\n",
       "      <td>NFC South</td>\n",
       "    </tr>\n",
       "  </tbody>\n",
       "</table>\n",
       "</div>"
      ],
      "text/plain": [
       "    Rank                    Team     GP  ...   Pct.  First NFL season   Division\n",
       "0      1          Dallas Cowboys    964  ...  0.574              1960   NFC East\n",
       "1      2       Green Bay Packers  1,418  ...  0.571              1921  NFC North\n",
       "2      3        Baltimore Ravens    434  ...  0.561              1996  AFC North\n",
       "3      4    New England Patriots    966  ...  0.561              1960   AFC East\n",
       "4      5           Chicago Bears  1,452  ...  0.556              1920  NFC North\n",
       "5      6          Miami Dolphins    882  ...  0.552              1966   AFC East\n",
       "6      7       Minnesota Vikings    952  ...  0.548              1961  NFC North\n",
       "7      8      Kansas City Chiefs    966  ...  0.546              1960   AFC West\n",
       "8      9  San Francisco 49ers[b]  1,084  ...  0.536              1950   NFC West\n",
       "9     10     Pittsburgh Steelers  1,254  ...  0.536              1933  AFC North\n",
       "10    11         New York Giants  1,387  ...  0.528              1925   NFC East\n",
       "11    12   Indianapolis Colts[c]  1,048  ...  0.526              1953  AFC South\n",
       "12    13          Denver Broncos    966  ...  0.523              1960   AFC West\n",
       "13    14       Las Vegas Raiders    966  ...  0.520              1960   AFC West\n",
       "14    15        Seattle Seahawks    742  ...  0.517              1976   NFC West\n",
       "15    16        Los Angeles Rams  1,217  ...  0.505              1937   NFC West\n",
       "16    17    Los Angeles Chargers    966  ...  0.501              1960   AFC West\n",
       "17    18   Washington Commanders  1,284  ...  0.498              1932   NFC East\n",
       "18    19     Philadelphia Eagles  1,270  ...  0.493              1933   NFC East\n",
       "19    20        Tennessee Titans    966  ...  0.490              1960  AFC South\n",
       "20    21  Cleveland Browns[b][d]  1,036  ...  0.489              1950  AFC North\n",
       "21    22           Buffalo Bills    965  ...  0.483              1960   AFC East\n",
       "22    23       Carolina Panthers    450  ...  0.472              1995  NFC South\n",
       "23    24      New Orleans Saints    868  ...  0.467              1967  NFC South\n",
       "24    25      Cincinnati Bengals    853  ...  0.454              1968  AFC North\n",
       "25    26           Detroit Lions  1,315  ...  0.453              1930  NFC North\n",
       "26    27           New York Jets    966  ...  0.440              1960   AFC East\n",
       "27    28         Atlanta Falcons    882  ...  0.438              1966  NFC South\n",
       "28    29          Houston Texans    338  ...  0.434              2002  AFC South\n",
       "29    30       Arizona Cardinals  1,412  ...  0.426              1920   NFC West\n",
       "30    31    Jacksonville Jaguars    450  ...  0.420              1995  AFC South\n",
       "31    32    Tampa Bay Buccaneers    742  ...  0.404              1976  NFC South\n",
       "\n",
       "[32 rows x 9 columns]"
      ]
     },
     "execution_count": 21,
     "metadata": {},
     "output_type": "execute_result"
    }
   ],
   "source": [
    "# 先頭/末尾取得\n",
    "nfl_frame.head(5)\n",
    "nfl_frame"
   ]
  },
  {
   "cell_type": "code",
   "execution_count": 22,
   "id": "0140b5c7-e288-4924-a2d5-0f1964a85480",
   "metadata": {},
   "outputs": [
    {
     "data": {
      "text/plain": [
       "Rank                             6\n",
       "Team                Miami Dolphins\n",
       "GP                             882\n",
       "Won                            485\n",
       "Lost                           393\n",
       "Tied                             4\n",
       "Pct.                         0.552\n",
       "First NFL season              1966\n",
       "Division                  AFC East\n",
       "Name: 5, dtype: object"
      ]
     },
     "execution_count": 22,
     "metadata": {},
     "output_type": "execute_result"
    }
   ],
   "source": [
    "# 特定のIndex取得 ixは古いのでloc/ilocを使う\n",
    "# nfl_frame.ix(5) #非推奨\n",
    "nfl_frame.iloc[5]"
   ]
  },
  {
   "cell_type": "code",
   "execution_count": 23,
   "id": "e07113df-c5bf-4439-b8b9-d30a9a8515b5",
   "metadata": {},
   "outputs": [],
   "source": [
    "# 列削除\n",
    "del new_frame['Sad']"
   ]
  },
  {
   "cell_type": "code",
   "execution_count": 24,
   "id": "09adb365-cc23-4d33-ad5d-3082aae7b3b0",
   "metadata": {},
   "outputs": [
    {
     "data": {
      "text/html": [
       "<div>\n",
       "<style scoped>\n",
       "    .dataframe tbody tr th:only-of-type {\n",
       "        vertical-align: middle;\n",
       "    }\n",
       "\n",
       "    .dataframe tbody tr th {\n",
       "        vertical-align: top;\n",
       "    }\n",
       "\n",
       "    .dataframe thead th {\n",
       "        text-align: right;\n",
       "    }\n",
       "</style>\n",
       "<table border=\"1\" class=\"dataframe\">\n",
       "  <thead>\n",
       "    <tr style=\"text-align: right;\">\n",
       "      <th></th>\n",
       "      <th>Team</th>\n",
       "      <th>First NFL season</th>\n",
       "    </tr>\n",
       "  </thead>\n",
       "  <tbody>\n",
       "    <tr>\n",
       "      <th>0</th>\n",
       "      <td>Dallas Cowboys</td>\n",
       "      <td>1960</td>\n",
       "    </tr>\n",
       "    <tr>\n",
       "      <th>1</th>\n",
       "      <td>Green Bay Packers</td>\n",
       "      <td>1921</td>\n",
       "    </tr>\n",
       "    <tr>\n",
       "      <th>2</th>\n",
       "      <td>Baltimore Ravens</td>\n",
       "      <td>1996</td>\n",
       "    </tr>\n",
       "    <tr>\n",
       "      <th>3</th>\n",
       "      <td>New England Patriots</td>\n",
       "      <td>1960</td>\n",
       "    </tr>\n",
       "    <tr>\n",
       "      <th>4</th>\n",
       "      <td>Chicago Bears</td>\n",
       "      <td>1920</td>\n",
       "    </tr>\n",
       "    <tr>\n",
       "      <th>5</th>\n",
       "      <td>Miami Dolphins</td>\n",
       "      <td>1966</td>\n",
       "    </tr>\n",
       "    <tr>\n",
       "      <th>6</th>\n",
       "      <td>Minnesota Vikings</td>\n",
       "      <td>1961</td>\n",
       "    </tr>\n",
       "    <tr>\n",
       "      <th>7</th>\n",
       "      <td>Kansas City Chiefs</td>\n",
       "      <td>1960</td>\n",
       "    </tr>\n",
       "    <tr>\n",
       "      <th>8</th>\n",
       "      <td>San Francisco 49ers[b]</td>\n",
       "      <td>1950</td>\n",
       "    </tr>\n",
       "    <tr>\n",
       "      <th>9</th>\n",
       "      <td>Pittsburgh Steelers</td>\n",
       "      <td>1933</td>\n",
       "    </tr>\n",
       "    <tr>\n",
       "      <th>10</th>\n",
       "      <td>New York Giants</td>\n",
       "      <td>1925</td>\n",
       "    </tr>\n",
       "    <tr>\n",
       "      <th>11</th>\n",
       "      <td>Indianapolis Colts[c]</td>\n",
       "      <td>1953</td>\n",
       "    </tr>\n",
       "    <tr>\n",
       "      <th>12</th>\n",
       "      <td>Denver Broncos</td>\n",
       "      <td>1960</td>\n",
       "    </tr>\n",
       "    <tr>\n",
       "      <th>13</th>\n",
       "      <td>Las Vegas Raiders</td>\n",
       "      <td>1960</td>\n",
       "    </tr>\n",
       "    <tr>\n",
       "      <th>14</th>\n",
       "      <td>Seattle Seahawks</td>\n",
       "      <td>1976</td>\n",
       "    </tr>\n",
       "    <tr>\n",
       "      <th>15</th>\n",
       "      <td>Los Angeles Rams</td>\n",
       "      <td>1937</td>\n",
       "    </tr>\n",
       "    <tr>\n",
       "      <th>16</th>\n",
       "      <td>Los Angeles Chargers</td>\n",
       "      <td>1960</td>\n",
       "    </tr>\n",
       "    <tr>\n",
       "      <th>17</th>\n",
       "      <td>Washington Commanders</td>\n",
       "      <td>1932</td>\n",
       "    </tr>\n",
       "    <tr>\n",
       "      <th>18</th>\n",
       "      <td>Philadelphia Eagles</td>\n",
       "      <td>1933</td>\n",
       "    </tr>\n",
       "    <tr>\n",
       "      <th>19</th>\n",
       "      <td>Tennessee Titans</td>\n",
       "      <td>1960</td>\n",
       "    </tr>\n",
       "    <tr>\n",
       "      <th>20</th>\n",
       "      <td>Cleveland Browns[b][d]</td>\n",
       "      <td>1950</td>\n",
       "    </tr>\n",
       "    <tr>\n",
       "      <th>21</th>\n",
       "      <td>Buffalo Bills</td>\n",
       "      <td>1960</td>\n",
       "    </tr>\n",
       "    <tr>\n",
       "      <th>22</th>\n",
       "      <td>Carolina Panthers</td>\n",
       "      <td>1995</td>\n",
       "    </tr>\n",
       "    <tr>\n",
       "      <th>23</th>\n",
       "      <td>New Orleans Saints</td>\n",
       "      <td>1967</td>\n",
       "    </tr>\n",
       "    <tr>\n",
       "      <th>24</th>\n",
       "      <td>Cincinnati Bengals</td>\n",
       "      <td>1968</td>\n",
       "    </tr>\n",
       "    <tr>\n",
       "      <th>25</th>\n",
       "      <td>Detroit Lions</td>\n",
       "      <td>1930</td>\n",
       "    </tr>\n",
       "    <tr>\n",
       "      <th>26</th>\n",
       "      <td>New York Jets</td>\n",
       "      <td>1960</td>\n",
       "    </tr>\n",
       "    <tr>\n",
       "      <th>27</th>\n",
       "      <td>Atlanta Falcons</td>\n",
       "      <td>1966</td>\n",
       "    </tr>\n",
       "    <tr>\n",
       "      <th>28</th>\n",
       "      <td>Houston Texans</td>\n",
       "      <td>2002</td>\n",
       "    </tr>\n",
       "    <tr>\n",
       "      <th>29</th>\n",
       "      <td>Arizona Cardinals</td>\n",
       "      <td>1920</td>\n",
       "    </tr>\n",
       "    <tr>\n",
       "      <th>30</th>\n",
       "      <td>Jacksonville Jaguars</td>\n",
       "      <td>1995</td>\n",
       "    </tr>\n",
       "    <tr>\n",
       "      <th>31</th>\n",
       "      <td>Tampa Bay Buccaneers</td>\n",
       "      <td>1976</td>\n",
       "    </tr>\n",
       "  </tbody>\n",
       "</table>\n",
       "</div>"
      ],
      "text/plain": [
       "                      Team  First NFL season\n",
       "0           Dallas Cowboys              1960\n",
       "1        Green Bay Packers              1921\n",
       "2         Baltimore Ravens              1996\n",
       "3     New England Patriots              1960\n",
       "4            Chicago Bears              1920\n",
       "5           Miami Dolphins              1966\n",
       "6        Minnesota Vikings              1961\n",
       "7       Kansas City Chiefs              1960\n",
       "8   San Francisco 49ers[b]              1950\n",
       "9      Pittsburgh Steelers              1933\n",
       "10         New York Giants              1925\n",
       "11   Indianapolis Colts[c]              1953\n",
       "12          Denver Broncos              1960\n",
       "13       Las Vegas Raiders              1960\n",
       "14        Seattle Seahawks              1976\n",
       "15        Los Angeles Rams              1937\n",
       "16    Los Angeles Chargers              1960\n",
       "17   Washington Commanders              1932\n",
       "18     Philadelphia Eagles              1933\n",
       "19        Tennessee Titans              1960\n",
       "20  Cleveland Browns[b][d]              1950\n",
       "21           Buffalo Bills              1960\n",
       "22       Carolina Panthers              1995\n",
       "23      New Orleans Saints              1967\n",
       "24      Cincinnati Bengals              1968\n",
       "25           Detroit Lions              1930\n",
       "26           New York Jets              1960\n",
       "27         Atlanta Falcons              1966\n",
       "28          Houston Texans              2002\n",
       "29       Arizona Cardinals              1920\n",
       "30    Jacksonville Jaguars              1995\n",
       "31    Tampa Bay Buccaneers              1976"
      ]
     },
     "execution_count": 24,
     "metadata": {},
     "output_type": "execute_result"
    }
   ],
   "source": [
    "new_frame"
   ]
  },
  {
   "cell_type": "markdown",
   "id": "a6a7b8a9-ebef-4e21-8e66-fe196592276a",
   "metadata": {},
   "source": [
    "# Index操作\n",
    "\n",
    "Indexの基本的な操作部分のまとめ"
   ]
  },
  {
   "cell_type": "code",
   "execution_count": 25,
   "id": "3cc34b7d-44f5-4e1d-822e-1c5914f917c0",
   "metadata": {},
   "outputs": [],
   "source": [
    "my_ser = Series([1,2,3,4],index=['A','B','C','D'])"
   ]
  },
  {
   "cell_type": "code",
   "execution_count": 26,
   "id": "1dde6174-4f9a-4b17-89a4-c65bebfbea9f",
   "metadata": {},
   "outputs": [
    {
     "data": {
      "text/plain": [
       "A    1\n",
       "B    2\n",
       "C    3\n",
       "D    4\n",
       "dtype: int64"
      ]
     },
     "execution_count": 26,
     "metadata": {},
     "output_type": "execute_result"
    }
   ],
   "source": [
    "my_ser"
   ]
  },
  {
   "cell_type": "code",
   "execution_count": 27,
   "id": "efdec5b3-ede1-4581-8d2b-a09b9f9253e5",
   "metadata": {},
   "outputs": [],
   "source": [
    "#indexの取得\n",
    "my_index = my_ser.index"
   ]
  },
  {
   "cell_type": "code",
   "execution_count": 28,
   "id": "021ae7c3-e89b-4038-91fd-a633e0a96264",
   "metadata": {},
   "outputs": [
    {
     "data": {
      "text/plain": [
       "'A'"
      ]
     },
     "execution_count": 28,
     "metadata": {},
     "output_type": "execute_result"
    }
   ],
   "source": [
    "my_index[0]"
   ]
  },
  {
   "cell_type": "code",
   "execution_count": 29,
   "id": "197392a7-85a1-46de-a704-ea9007467fde",
   "metadata": {},
   "outputs": [
    {
     "data": {
      "text/plain": [
       "Index(['C', 'D'], dtype='object')"
      ]
     },
     "execution_count": 29,
     "metadata": {},
     "output_type": "execute_result"
    }
   ],
   "source": [
    "my_index[2:]"
   ]
  },
  {
   "cell_type": "code",
   "execution_count": 30,
   "id": "2c38baae-d8fb-4fb2-bde2-2a97d20930a8",
   "metadata": {},
   "outputs": [
    {
     "ename": "TypeError",
     "evalue": "Index does not support mutable operations",
     "output_type": "error",
     "traceback": [
      "\u001b[0;31m---------------------------------------------------------------------------\u001b[0m",
      "\u001b[0;31mTypeError\u001b[0m                                 Traceback (most recent call last)",
      "\u001b[0;32m/tmp/ipykernel_500/3472449438.py\u001b[0m in \u001b[0;36m<module>\u001b[0;34m\u001b[0m\n\u001b[1;32m      1\u001b[0m \u001b[0;31m#pandasではindex置き換えは不可能 これはデータの信頼性向上のためのpandaの仕様によるもの\u001b[0m\u001b[0;34m\u001b[0m\u001b[0;34m\u001b[0m\u001b[0m\n\u001b[0;32m----> 2\u001b[0;31m \u001b[0mmy_index\u001b[0m\u001b[0;34m[\u001b[0m\u001b[0;36m0\u001b[0m\u001b[0;34m]\u001b[0m \u001b[0;34m=\u001b[0m \u001b[0;34m'Z'\u001b[0m\u001b[0;34m\u001b[0m\u001b[0;34m\u001b[0m\u001b[0m\n\u001b[0m",
      "\u001b[0;32m/opt/conda/lib/python3.9/site-packages/pandas/core/indexes/base.py\u001b[0m in \u001b[0;36m__setitem__\u001b[0;34m(self, key, value)\u001b[0m\n\u001b[1;32m   5033\u001b[0m     \u001b[0;34m@\u001b[0m\u001b[0mfinal\u001b[0m\u001b[0;34m\u001b[0m\u001b[0;34m\u001b[0m\u001b[0m\n\u001b[1;32m   5034\u001b[0m     \u001b[0;32mdef\u001b[0m \u001b[0m__setitem__\u001b[0m\u001b[0;34m(\u001b[0m\u001b[0mself\u001b[0m\u001b[0;34m,\u001b[0m \u001b[0mkey\u001b[0m\u001b[0;34m,\u001b[0m \u001b[0mvalue\u001b[0m\u001b[0;34m)\u001b[0m\u001b[0;34m:\u001b[0m\u001b[0;34m\u001b[0m\u001b[0;34m\u001b[0m\u001b[0m\n\u001b[0;32m-> 5035\u001b[0;31m         \u001b[0;32mraise\u001b[0m \u001b[0mTypeError\u001b[0m\u001b[0;34m(\u001b[0m\u001b[0;34m\"Index does not support mutable operations\"\u001b[0m\u001b[0;34m)\u001b[0m\u001b[0;34m\u001b[0m\u001b[0;34m\u001b[0m\u001b[0m\n\u001b[0m\u001b[1;32m   5036\u001b[0m \u001b[0;34m\u001b[0m\u001b[0m\n\u001b[1;32m   5037\u001b[0m     \u001b[0;32mdef\u001b[0m \u001b[0m__getitem__\u001b[0m\u001b[0;34m(\u001b[0m\u001b[0mself\u001b[0m\u001b[0;34m,\u001b[0m \u001b[0mkey\u001b[0m\u001b[0;34m)\u001b[0m\u001b[0;34m:\u001b[0m\u001b[0;34m\u001b[0m\u001b[0;34m\u001b[0m\u001b[0m\n",
      "\u001b[0;31mTypeError\u001b[0m: Index does not support mutable operations"
     ]
    }
   ],
   "source": [
    "#pandasではindex置き換えは不可能 これはデータの信頼性向上のためのpandaの仕様によるもの\n",
    "my_index[0] = 'Z'"
   ]
  },
  {
   "cell_type": "markdown",
   "id": "88ced3c2-d42f-45b5-b41c-8baf961435f2",
   "metadata": {},
   "source": [
    "# Indexの変更\n",
    "\n",
    "pandasではIndexを直接変更できないため、その場合の変更方法\n",
    "\n",
    "変更したい対象に対してメソッド「reindex」を使用するだけでよい"
   ]
  },
  {
   "cell_type": "code",
   "execution_count": 33,
   "id": "f90e6d1c-55bc-4a87-b1b6-611cac57e787",
   "metadata": {},
   "outputs": [
    {
     "data": {
      "text/plain": [
       "A    1\n",
       "B    2\n",
       "C    3\n",
       "D    4\n",
       "dtype: int64"
      ]
     },
     "execution_count": 33,
     "metadata": {},
     "output_type": "execute_result"
    }
   ],
   "source": [
    "# テーブルの作成\n",
    "from numpy.random import randn\n",
    "\n",
    "serl = Series([1,2,3,4],index=['A','B','C','D'])\n",
    "\n",
    "serl"
   ]
  },
  {
   "cell_type": "code",
   "execution_count": 35,
   "id": "42e78fbb-3c3a-41f5-ac03-58dc44432539",
   "metadata": {},
   "outputs": [
    {
     "data": {
      "text/plain": [
       "A    1\n",
       "B    2\n",
       "C    3\n",
       "D    4\n",
       "E    0\n",
       "F    0\n",
       "dtype: int64"
      ]
     },
     "execution_count": 35,
     "metadata": {},
     "output_type": "execute_result"
    }
   ],
   "source": [
    "# 新しいIndexのテーブルをもとのserlから”新規作成\"する。元のテーブルに影響はない\n",
    "serl2 = serl.reindex(['A','B','C','D','E','F'],fill_value=0)\n",
    "serl2"
   ]
  },
  {
   "cell_type": "code",
   "execution_count": 36,
   "id": "933b2594-03c8-4637-9443-f828fbbbb2a7",
   "metadata": {},
   "outputs": [
    {
     "data": {
      "text/plain": [
       "A    1\n",
       "B    2\n",
       "C    3\n",
       "D    4\n",
       "dtype: int64"
      ]
     },
     "execution_count": 36,
     "metadata": {},
     "output_type": "execute_result"
    }
   ],
   "source": [
    "serl"
   ]
  },
  {
   "cell_type": "code",
   "execution_count": 39,
   "id": "9392c582-bba0-45c2-8184-6b8e2f7df6dd",
   "metadata": {},
   "outputs": [
    {
     "data": {
      "text/plain": [
       "0        USA\n",
       "5     Mexico\n",
       "10    Canada\n",
       "dtype: object"
      ]
     },
     "execution_count": 39,
     "metadata": {},
     "output_type": "execute_result"
    }
   ],
   "source": [
    "ser3 = Series(['USA','Mexico','Canada'], index=[0,5,10])\n",
    "ser3"
   ]
  },
  {
   "cell_type": "code",
   "execution_count": 40,
   "id": "83db0fdb-6fff-4e49-b386-f3d82783d7bd",
   "metadata": {},
   "outputs": [
    {
     "data": {
      "text/plain": [
       "0        USA\n",
       "1        USA\n",
       "2        USA\n",
       "3        USA\n",
       "4        USA\n",
       "5     Mexico\n",
       "6     Mexico\n",
       "7     Mexico\n",
       "8     Mexico\n",
       "9     Mexico\n",
       "10    Canada\n",
       "11    Canada\n",
       "12    Canada\n",
       "13    Canada\n",
       "14    Canada\n",
       "dtype: object"
      ]
     },
     "execution_count": 40,
     "metadata": {},
     "output_type": "execute_result"
    }
   ],
   "source": [
    "# indexを0-15にする。値は直前の値で埋めてよいのであるなら、以下で自動付け替えが可能\n",
    "ser3.reindex(range(15), method='ffill')　#ffill : forward filling"
   ]
  },
  {
   "cell_type": "markdown",
   "id": "a14a3554-cd57-401d-99a5-480550cfe588",
   "metadata": {},
   "source": [
    "# 行列の削除\n",
    "\n",
    "dropなどで可能"
   ]
  },
  {
   "cell_type": "code",
   "execution_count": 6,
   "id": "a940000b-feb8-4961-b5d3-99955f1525cd",
   "metadata": {},
   "outputs": [
    {
     "data": {
      "text/plain": [
       "A    0\n",
       "B    1\n",
       "C    2\n",
       "dtype: int64"
      ]
     },
     "execution_count": 6,
     "metadata": {},
     "output_type": "execute_result"
    }
   ],
   "source": [
    "import numpy as np\n",
    "import pandas as pd \n",
    "from pandas import Series\n",
    "\n",
    "serl =  Series(np.arange(3),index=['A','B','C'])\n",
    "serl"
   ]
  },
  {
   "cell_type": "code",
   "execution_count": 10,
   "id": "22d99249-8c13-42ee-87f1-0b65d9e2bc4a",
   "metadata": {},
   "outputs": [
    {
     "data": {
      "text/plain": [
       "B    1\n",
       "C    2\n",
       "dtype: int64"
      ]
     },
     "execution_count": 10,
     "metadata": {},
     "output_type": "execute_result"
    }
   ],
   "source": [
    "# 列を削除した新しいテーブルを作成する 削除したい列がある場合はaxisで指定\n",
    "serl.drop(\"A\", axis=0)"
   ]
  },
  {
   "cell_type": "code",
   "execution_count": 11,
   "id": "c1ff9c1a-8f34-467b-864c-6c4218821e24",
   "metadata": {},
   "outputs": [
    {
     "data": {
      "text/plain": [
       "A    0\n",
       "B    1\n",
       "C    2\n",
       "dtype: int64"
      ]
     },
     "execution_count": 11,
     "metadata": {},
     "output_type": "execute_result"
    }
   ],
   "source": [
    "#元データは問題ない\n",
    "serl"
   ]
  },
  {
   "cell_type": "markdown",
   "id": "ecbec7c2-e7db-46dc-8992-4ba893970ae0",
   "metadata": {},
   "source": [
    "# データの取得\n",
    "データの取得方法\n",
    "SeriesもDataFrameも似ているので、Seriesのみ抜粋"
   ]
  },
  {
   "cell_type": "code",
   "execution_count": 23,
   "id": "f753e328-da71-41ce-8986-8e3de706fd8b",
   "metadata": {},
   "outputs": [],
   "source": [
    "absserl =  Series(np.arange(3),index=['A','B','C'])"
   ]
  },
  {
   "cell_type": "code",
   "execution_count": null,
   "id": "2a667e24-6185-4e8d-b951-2fc16ea6af62",
   "metadata": {},
   "outputs": [],
   "source": []
  },
  {
   "cell_type": "code",
   "execution_count": 13,
   "id": "6d012ae6-0b4a-4af5-b3f7-63f6890f85d7",
   "metadata": {},
   "outputs": [
    {
     "data": {
      "text/plain": [
       "A    0\n",
       "B    1\n",
       "dtype: int64"
      ]
     },
     "execution_count": 13,
     "metadata": {},
     "output_type": "execute_result"
    }
   ],
   "source": [
    "# indexでの取得\n",
    "serl[['A','B']]"
   ]
  },
  {
   "cell_type": "code",
   "execution_count": 18,
   "id": "03e17d9d-adfe-472a-a674-53c960846096",
   "metadata": {},
   "outputs": [
    {
     "data": {
      "text/plain": [
       "A     0\n",
       "B     1\n",
       "C    10\n",
       "dtype: int64"
      ]
     },
     "execution_count": 18,
     "metadata": {},
     "output_type": "execute_result"
    }
   ],
   "source": [
    "# 条件による取得\n",
    "serl[serl>1] = 10\n",
    "serl"
   ]
  },
  {
   "cell_type": "code",
   "execution_count": 19,
   "id": "da984d8a-8017-4b82-99af-eebe93d8fa33",
   "metadata": {},
   "outputs": [
    {
     "data": {
      "text/plain": [
       "A    False\n",
       "B    False\n",
       "C     True\n",
       "dtype: bool"
      ]
     },
     "execution_count": 19,
     "metadata": {},
     "output_type": "execute_result"
    }
   ],
   "source": [
    "serl > 3"
   ]
  },
  {
   "cell_type": "code",
   "execution_count": 28,
   "id": "0cc2dd6a-1663-4fb7-af2c-872953651fc5",
   "metadata": {},
   "outputs": [
    {
     "data": {
      "text/plain": [
       "0"
      ]
     },
     "execution_count": 28,
     "metadata": {},
     "output_type": "execute_result"
    }
   ],
   "source": [
    "# 行アクセス ixではなくloc\n",
    "serl.loc['A'] #index名で指定するパターン"
   ]
  },
  {
   "cell_type": "code",
   "execution_count": 30,
   "id": "2909f8e6-8b0c-4c4d-ab4b-77339a3f0315",
   "metadata": {},
   "outputs": [
    {
     "data": {
      "text/plain": [
       "0"
      ]
     },
     "execution_count": 30,
     "metadata": {},
     "output_type": "execute_result"
    }
   ],
   "source": [
    "serl.iloc[0]  #値で列を抽出するパターン"
   ]
  },
  {
   "cell_type": "markdown",
   "id": "b3813959-9288-4e03-82e1-24f1940f5077",
   "metadata": {},
   "source": [
    "# データの並び替え\n",
    "以下のメソッドを使えば並び替えが可能\n",
    "値 : order\n",
    "index: sort_index\n",
    "を使用する"
   ]
  },
  {
   "cell_type": "code",
   "execution_count": 31,
   "id": "11ab18bf-df01-4365-acca-a3378c1f091f",
   "metadata": {},
   "outputs": [],
   "source": [
    "#　ソート対象のindex\n",
    "sor1 =  Series(np.arange(3),index=['C','B','A'])"
   ]
  },
  {
   "cell_type": "code",
   "execution_count": 34,
   "id": "a3a77961-d1c8-4111-8633-5d5c45111581",
   "metadata": {},
   "outputs": [
    {
     "data": {
      "text/plain": [
       "A    0\n",
       "B    1\n",
       "C    2\n",
       "dtype: int64"
      ]
     },
     "execution_count": 34,
     "metadata": {},
     "output_type": "execute_result"
    }
   ],
   "source": [
    "sor1.sort_index()"
   ]
  },
  {
   "cell_type": "code",
   "execution_count": 43,
   "id": "9ce1e48e-954d-44cc-9084-a8f758a68bcd",
   "metadata": {},
   "outputs": [
    {
     "data": {
      "text/plain": [
       "0   -0.178439\n",
       "1    1.624297\n",
       "2   -0.913046\n",
       "3   -0.694735\n",
       "4   -0.143532\n",
       "5    0.962101\n",
       "6   -0.114381\n",
       "7   -0.902551\n",
       "8    0.867554\n",
       "9   -0.017409\n",
       "dtype: float64"
      ]
     },
     "execution_count": 43,
     "metadata": {},
     "output_type": "execute_result"
    }
   ],
   "source": [
    "from numpy.random import randn\n",
    "sor2 = Series(randn(10))\n",
    "sor2"
   ]
  },
  {
   "cell_type": "code",
   "execution_count": 44,
   "id": "4b744313-7eb0-413c-bb04-492e178b5d22",
   "metadata": {},
   "outputs": [
    {
     "data": {
      "text/plain": [
       "2   -0.913046\n",
       "7   -0.902551\n",
       "3   -0.694735\n",
       "0   -0.178439\n",
       "4   -0.143532\n",
       "6   -0.114381\n",
       "9   -0.017409\n",
       "8    0.867554\n",
       "5    0.962101\n",
       "1    1.624297\n",
       "dtype: float64"
      ]
     },
     "execution_count": 44,
     "metadata": {},
     "output_type": "execute_result"
    }
   ],
   "source": [
    "#orderは古いので注意。今は普通にsort_valuesでよい\n",
    "sor2.sort_values()"
   ]
  },
  {
   "cell_type": "code",
   "execution_count": 45,
   "id": "1711d98f-4b9b-4c65-a58d-550103acad94",
   "metadata": {},
   "outputs": [
    {
     "data": {
      "text/plain": [
       "0     4.0\n",
       "1    10.0\n",
       "2     1.0\n",
       "3     3.0\n",
       "4     5.0\n",
       "5     9.0\n",
       "6     6.0\n",
       "7     2.0\n",
       "8     8.0\n",
       "9     7.0\n",
       "dtype: float64"
      ]
     },
     "execution_count": 45,
     "metadata": {},
     "output_type": "execute_result"
    }
   ],
   "source": [
    "# 大きさ順に並べた時のIndexを指してくれる\n",
    "sor2.rank()"
   ]
  },
  {
   "cell_type": "code",
   "execution_count": 46,
   "id": "9c9c2859-3e93-40c1-b051-7120c814bfdd",
   "metadata": {},
   "outputs": [
    {
     "ename": "AttributeError",
     "evalue": "'Series' object has no attribute 'sort'",
     "output_type": "error",
     "traceback": [
      "\u001b[0;31m---------------------------------------------------------------------------\u001b[0m",
      "\u001b[0;31mAttributeError\u001b[0m                            Traceback (most recent call last)",
      "\u001b[0;32m/tmp/ipykernel_502/141797529.py\u001b[0m in \u001b[0;36m<module>\u001b[0;34m\u001b[0m\n\u001b[1;32m      1\u001b[0m \u001b[0msor3\u001b[0m \u001b[0;34m=\u001b[0m \u001b[0mSeries\u001b[0m\u001b[0;34m(\u001b[0m\u001b[0mrandn\u001b[0m\u001b[0;34m(\u001b[0m\u001b[0;36m10\u001b[0m\u001b[0;34m)\u001b[0m\u001b[0;34m)\u001b[0m\u001b[0;34m\u001b[0m\u001b[0;34m\u001b[0m\u001b[0m\n\u001b[0;32m----> 2\u001b[0;31m \u001b[0msor3\u001b[0m\u001b[0;34m.\u001b[0m\u001b[0msort\u001b[0m\u001b[0;34m(\u001b[0m\u001b[0;34m)\u001b[0m\u001b[0;34m\u001b[0m\u001b[0;34m\u001b[0m\u001b[0m\n\u001b[0m",
      "\u001b[0;32m/opt/conda/lib/python3.9/site-packages/pandas/core/generic.py\u001b[0m in \u001b[0;36m__getattr__\u001b[0;34m(self, name)\u001b[0m\n\u001b[1;32m   5573\u001b[0m         ):\n\u001b[1;32m   5574\u001b[0m             \u001b[0;32mreturn\u001b[0m \u001b[0mself\u001b[0m\u001b[0;34m[\u001b[0m\u001b[0mname\u001b[0m\u001b[0;34m]\u001b[0m\u001b[0;34m\u001b[0m\u001b[0;34m\u001b[0m\u001b[0m\n\u001b[0;32m-> 5575\u001b[0;31m         \u001b[0;32mreturn\u001b[0m \u001b[0mobject\u001b[0m\u001b[0;34m.\u001b[0m\u001b[0m__getattribute__\u001b[0m\u001b[0;34m(\u001b[0m\u001b[0mself\u001b[0m\u001b[0;34m,\u001b[0m \u001b[0mname\u001b[0m\u001b[0;34m)\u001b[0m\u001b[0;34m\u001b[0m\u001b[0;34m\u001b[0m\u001b[0m\n\u001b[0m\u001b[1;32m   5576\u001b[0m \u001b[0;34m\u001b[0m\u001b[0m\n\u001b[1;32m   5577\u001b[0m     \u001b[0;32mdef\u001b[0m \u001b[0m__setattr__\u001b[0m\u001b[0;34m(\u001b[0m\u001b[0mself\u001b[0m\u001b[0;34m,\u001b[0m \u001b[0mname\u001b[0m\u001b[0;34m:\u001b[0m \u001b[0mstr\u001b[0m\u001b[0;34m,\u001b[0m \u001b[0mvalue\u001b[0m\u001b[0;34m)\u001b[0m \u001b[0;34m->\u001b[0m \u001b[0;32mNone\u001b[0m\u001b[0;34m:\u001b[0m\u001b[0;34m\u001b[0m\u001b[0;34m\u001b[0m\u001b[0m\n",
      "\u001b[0;31mAttributeError\u001b[0m: 'Series' object has no attribute 'sort'"
     ]
    }
   ],
   "source": [
    "sor3 = Series(randn(10))\n",
    "# 破壊的なソート処理はもう無い。必要なら代入なりで対処する\n",
    "#sor3.sort()"
   ]
  },
  {
   "cell_type": "markdown",
   "id": "3434ff02-9858-4456-9d31-37a7c3fd881b",
   "metadata": {},
   "source": [
    "# 統計量の計算\n",
    "\n",
    "pandaで統計量に関係する計算を行う場合のもの"
   ]
  },
  {
   "cell_type": "code",
   "execution_count": 50,
   "id": "aa94740c-6345-478d-8391-1e4a61a2fcf2",
   "metadata": {},
   "outputs": [
    {
     "data": {
      "text/plain": [
       "array([[ 1.,  2., nan],\n",
       "       [ 3.,  4., nan]])"
      ]
     },
     "execution_count": 50,
     "metadata": {},
     "output_type": "execute_result"
    }
   ],
   "source": [
    "from pandas import Series,DataFrame\n",
    "\n",
    "serl =  np.array([[1,2,np.nan],[3,4,np.nan]])\n",
    "serl"
   ]
  },
  {
   "cell_type": "code",
   "execution_count": 52,
   "id": "4cbfe432-a962-4b43-aecc-7d297b5be26a",
   "metadata": {},
   "outputs": [
    {
     "data": {
      "text/html": [
       "<div>\n",
       "<style scoped>\n",
       "    .dataframe tbody tr th:only-of-type {\n",
       "        vertical-align: middle;\n",
       "    }\n",
       "\n",
       "    .dataframe tbody tr th {\n",
       "        vertical-align: top;\n",
       "    }\n",
       "\n",
       "    .dataframe thead th {\n",
       "        text-align: right;\n",
       "    }\n",
       "</style>\n",
       "<table border=\"1\" class=\"dataframe\">\n",
       "  <thead>\n",
       "    <tr style=\"text-align: right;\">\n",
       "      <th></th>\n",
       "      <th>0</th>\n",
       "      <th>1</th>\n",
       "      <th>2</th>\n",
       "    </tr>\n",
       "  </thead>\n",
       "  <tbody>\n",
       "    <tr>\n",
       "      <th>0</th>\n",
       "      <td>1.0</td>\n",
       "      <td>2.0</td>\n",
       "      <td>NaN</td>\n",
       "    </tr>\n",
       "    <tr>\n",
       "      <th>1</th>\n",
       "      <td>3.0</td>\n",
       "      <td>4.0</td>\n",
       "      <td>NaN</td>\n",
       "    </tr>\n",
       "  </tbody>\n",
       "</table>\n",
       "</div>"
      ],
      "text/plain": [
       "     0    1   2\n",
       "0  1.0  2.0 NaN\n",
       "1  3.0  4.0 NaN"
      ]
     },
     "execution_count": 52,
     "metadata": {},
     "output_type": "execute_result"
    }
   ],
   "source": [
    "dframe1 = DataFrame(serl)\n",
    "dframe1"
   ]
  },
  {
   "cell_type": "code",
   "execution_count": 56,
   "id": "1d6a1460-5ea0-4d84-95a4-d795aa82637c",
   "metadata": {},
   "outputs": [
    {
     "data": {
      "text/plain": [
       "0    4.0\n",
       "1    6.0\n",
       "2    0.0\n",
       "dtype: float64"
      ]
     },
     "execution_count": 56,
     "metadata": {},
     "output_type": "execute_result"
    }
   ],
   "source": [
    "# axis=0方向で総和(列)\n",
    "dframe1.sum()"
   ]
  },
  {
   "cell_type": "code",
   "execution_count": 59,
   "id": "0404d0ff-de0b-430d-8ac2-3bc994f00d70",
   "metadata": {},
   "outputs": [
    {
     "data": {
      "text/plain": [
       "0    3.0\n",
       "1    7.0\n",
       "dtype: float64"
      ]
     },
     "execution_count": 59,
     "metadata": {},
     "output_type": "execute_result"
    }
   ],
   "source": [
    "# axis=1方向での総和(行)\n",
    "dframe1.sum(axis = 1)"
   ]
  },
  {
   "cell_type": "code",
   "execution_count": 54,
   "id": "566d6fa2-8c9b-4c30-8b08-54f1f880a8e9",
   "metadata": {},
   "outputs": [
    {
     "data": {
      "text/plain": [
       "0    1.0\n",
       "1    2.0\n",
       "2    NaN\n",
       "dtype: float64"
      ]
     },
     "execution_count": 54,
     "metadata": {},
     "output_type": "execute_result"
    }
   ],
   "source": [
    "# axis=0での最小値\n",
    "dframe1.min()"
   ]
  },
  {
   "cell_type": "code",
   "execution_count": 55,
   "id": "ec160a03-2e5f-4b52-8e78-5d9c31ca7f3f",
   "metadata": {},
   "outputs": [
    {
     "data": {
      "text/plain": [
       "0    3.0\n",
       "1    4.0\n",
       "2    NaN\n",
       "dtype: float64"
      ]
     },
     "execution_count": 55,
     "metadata": {},
     "output_type": "execute_result"
    }
   ],
   "source": [
    "# axis=1での最大値\n",
    "dframe1.max()"
   ]
  },
  {
   "cell_type": "code",
   "execution_count": 60,
   "id": "4ca70b16-309e-484c-baee-4f5aa40abb56",
   "metadata": {},
   "outputs": [
    {
     "data": {
      "text/html": [
       "<div>\n",
       "<style scoped>\n",
       "    .dataframe tbody tr th:only-of-type {\n",
       "        vertical-align: middle;\n",
       "    }\n",
       "\n",
       "    .dataframe tbody tr th {\n",
       "        vertical-align: top;\n",
       "    }\n",
       "\n",
       "    .dataframe thead th {\n",
       "        text-align: right;\n",
       "    }\n",
       "</style>\n",
       "<table border=\"1\" class=\"dataframe\">\n",
       "  <thead>\n",
       "    <tr style=\"text-align: right;\">\n",
       "      <th></th>\n",
       "      <th>0</th>\n",
       "      <th>1</th>\n",
       "      <th>2</th>\n",
       "    </tr>\n",
       "  </thead>\n",
       "  <tbody>\n",
       "    <tr>\n",
       "      <th>0</th>\n",
       "      <td>1.0</td>\n",
       "      <td>2.0</td>\n",
       "      <td>NaN</td>\n",
       "    </tr>\n",
       "    <tr>\n",
       "      <th>1</th>\n",
       "      <td>4.0</td>\n",
       "      <td>6.0</td>\n",
       "      <td>NaN</td>\n",
       "    </tr>\n",
       "  </tbody>\n",
       "</table>\n",
       "</div>"
      ],
      "text/plain": [
       "     0    1   2\n",
       "0  1.0  2.0 NaN\n",
       "1  4.0  6.0 NaN"
      ]
     },
     "execution_count": 60,
     "metadata": {},
     "output_type": "execute_result"
    }
   ],
   "source": [
    "# 累計の計算\n",
    "dframe1.cumsum()"
   ]
  },
  {
   "cell_type": "code",
   "execution_count": 62,
   "id": "4a1a13e4-2c52-4806-b250-9ec62714ff62",
   "metadata": {},
   "outputs": [
    {
     "data": {
      "text/html": [
       "<div>\n",
       "<style scoped>\n",
       "    .dataframe tbody tr th:only-of-type {\n",
       "        vertical-align: middle;\n",
       "    }\n",
       "\n",
       "    .dataframe tbody tr th {\n",
       "        vertical-align: top;\n",
       "    }\n",
       "\n",
       "    .dataframe thead th {\n",
       "        text-align: right;\n",
       "    }\n",
       "</style>\n",
       "<table border=\"1\" class=\"dataframe\">\n",
       "  <thead>\n",
       "    <tr style=\"text-align: right;\">\n",
       "      <th></th>\n",
       "      <th>0</th>\n",
       "      <th>1</th>\n",
       "      <th>2</th>\n",
       "    </tr>\n",
       "  </thead>\n",
       "  <tbody>\n",
       "    <tr>\n",
       "      <th>count</th>\n",
       "      <td>2.000000</td>\n",
       "      <td>2.000000</td>\n",
       "      <td>0.0</td>\n",
       "    </tr>\n",
       "    <tr>\n",
       "      <th>mean</th>\n",
       "      <td>2.000000</td>\n",
       "      <td>3.000000</td>\n",
       "      <td>NaN</td>\n",
       "    </tr>\n",
       "    <tr>\n",
       "      <th>std</th>\n",
       "      <td>1.414214</td>\n",
       "      <td>1.414214</td>\n",
       "      <td>NaN</td>\n",
       "    </tr>\n",
       "    <tr>\n",
       "      <th>min</th>\n",
       "      <td>1.000000</td>\n",
       "      <td>2.000000</td>\n",
       "      <td>NaN</td>\n",
       "    </tr>\n",
       "    <tr>\n",
       "      <th>25%</th>\n",
       "      <td>1.500000</td>\n",
       "      <td>2.500000</td>\n",
       "      <td>NaN</td>\n",
       "    </tr>\n",
       "    <tr>\n",
       "      <th>50%</th>\n",
       "      <td>2.000000</td>\n",
       "      <td>3.000000</td>\n",
       "      <td>NaN</td>\n",
       "    </tr>\n",
       "    <tr>\n",
       "      <th>75%</th>\n",
       "      <td>2.500000</td>\n",
       "      <td>3.500000</td>\n",
       "      <td>NaN</td>\n",
       "    </tr>\n",
       "    <tr>\n",
       "      <th>max</th>\n",
       "      <td>3.000000</td>\n",
       "      <td>4.000000</td>\n",
       "      <td>NaN</td>\n",
       "    </tr>\n",
       "  </tbody>\n",
       "</table>\n",
       "</div>"
      ],
      "text/plain": [
       "              0         1    2\n",
       "count  2.000000  2.000000  0.0\n",
       "mean   2.000000  3.000000  NaN\n",
       "std    1.414214  1.414214  NaN\n",
       "min    1.000000  2.000000  NaN\n",
       "25%    1.500000  2.500000  NaN\n",
       "50%    2.000000  3.000000  NaN\n",
       "75%    2.500000  3.500000  NaN\n",
       "max    3.000000  4.000000  NaN"
      ]
     },
     "execution_count": 62,
     "metadata": {},
     "output_type": "execute_result"
    }
   ],
   "source": [
    "# 統計的な基本的な情報\n",
    "dframe1.describe()"
   ]
  },
  {
   "cell_type": "code",
   "execution_count": 64,
   "id": "6f6f5466-c254-4ff3-8571-245ac89eb23e",
   "metadata": {},
   "outputs": [
    {
     "ename": "ModuleNotFoundError",
     "evalue": "No module named 'pandas_datareader'",
     "output_type": "error",
     "traceback": [
      "\u001b[0;31m---------------------------------------------------------------------------\u001b[0m",
      "\u001b[0;31mModuleNotFoundError\u001b[0m                       Traceback (most recent call last)",
      "\u001b[0;32m/tmp/ipykernel_502/2884577514.py\u001b[0m in \u001b[0;36m<module>\u001b[0;34m\u001b[0m\n\u001b[1;32m      2\u001b[0m \u001b[0;31m#import pandas.io.data as pdweb #すでにpandas.io.dataは使えない。代わりにpandas_datareader\u001b[0m\u001b[0;34m\u001b[0m\u001b[0;34m\u001b[0m\u001b[0m\n\u001b[1;32m      3\u001b[0m \u001b[0;32mimport\u001b[0m \u001b[0mdatetime\u001b[0m\u001b[0;34m\u001b[0m\u001b[0;34m\u001b[0m\u001b[0m\n\u001b[0;32m----> 4\u001b[0;31m \u001b[0;32mfrom\u001b[0m \u001b[0mpandas_datareader\u001b[0m \u001b[0;32mimport\u001b[0m \u001b[0mDataReader\u001b[0m\u001b[0;34m\u001b[0m\u001b[0;34m\u001b[0m\u001b[0m\n\u001b[0m\u001b[1;32m      5\u001b[0m \u001b[0;31m# すでに非推奨\u001b[0m\u001b[0;34m\u001b[0m\u001b[0;34m\u001b[0m\u001b[0m\n\u001b[1;32m      6\u001b[0m \u001b[0;31m# prices = pbweb.get_data_yahoo(['CVX','XOM','BP'],\u001b[0m\u001b[0;34m\u001b[0m\u001b[0;34m\u001b[0m\u001b[0m\n",
      "\u001b[0;31mModuleNotFoundError\u001b[0m: No module named 'pandas_datareader'"
     ]
    }
   ],
   "source": [
    "# 株価の取得\n",
    "#import pandas.io.data as pdweb #すでにpandas.io.dataは使えない。代わりにpandas_datareader\n",
    "import datetime\n",
    "from pandas_datareader import DataReader\n",
    "# すでに非推奨\n",
    "# prices = pbweb.get_data_yahoo(['CVX','XOM','BP'],\n",
    "#                              start=datetime.datetime(2010,1,1),\n",
    "#                              end=datetime.datetime(2013,1,1))['Abj Close']\n",
    "                              "
   ]
  },
  {
   "cell_type": "code",
   "execution_count": null,
   "id": "a7c1ced5-d65f-44a3-a423-9506eb7fc2b7",
   "metadata": {},
   "outputs": [],
   "source": []
  }
 ],
 "metadata": {
  "kernelspec": {
   "display_name": "Python 3 (ipykernel)",
   "language": "python",
   "name": "python3"
  },
  "language_info": {
   "codemirror_mode": {
    "name": "ipython",
    "version": 3
   },
   "file_extension": ".py",
   "mimetype": "text/x-python",
   "name": "python",
   "nbconvert_exporter": "python",
   "pygments_lexer": "ipython3",
   "version": "3.9.13"
  }
 },
 "nbformat": 4,
 "nbformat_minor": 5
}
