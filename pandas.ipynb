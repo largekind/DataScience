{
 "cells": [
  {
   "cell_type": "markdown",
   "id": "bdae6cbc-5787-4d83-a50c-a8629b06d2eb",
   "metadata": {},
   "source": [
    "# pandas\n",
    "\n",
    "データ解析とかでよく使うライブラリ群。詳細はグーグル\n",
    "\n",
    "## 一次元のデータ列\n",
    "\n",
    "Seriesを用いる。"
   ]
  },
  {
   "cell_type": "code",
   "execution_count": 1,
   "id": "0ea876ea-1311-41d9-aac8-d650a961997f",
   "metadata": {},
   "outputs": [],
   "source": [
    "import pandas as pd \n",
    "from pandas import Series"
   ]
  },
  {
   "cell_type": "code",
   "execution_count": 2,
   "id": "96caab0d-5929-4c67-a38b-fca98a55daf9",
   "metadata": {},
   "outputs": [
    {
     "data": {
      "text/plain": [
       "0    3\n",
       "1    5\n",
       "2    6\n",
       "3    7\n",
       "dtype: int64"
      ]
     },
     "execution_count": 2,
     "metadata": {},
     "output_type": "execute_result"
    }
   ],
   "source": [
    "obj = Series([3,5,6,7])\n",
    "obj"
   ]
  },
  {
   "cell_type": "code",
   "execution_count": 3,
   "id": "869be028-b46a-4413-a11b-49eca3424898",
   "metadata": {},
   "outputs": [
    {
     "data": {
      "text/plain": [
       "array([3, 5, 6, 7])"
      ]
     },
     "execution_count": 3,
     "metadata": {},
     "output_type": "execute_result"
    }
   ],
   "source": [
    "obj.values"
   ]
  },
  {
   "cell_type": "code",
   "execution_count": 4,
   "id": "8a24d2bb-1bf4-4126-8f3b-b971bf04ff6c",
   "metadata": {},
   "outputs": [
    {
     "data": {
      "text/plain": [
       "RangeIndex(start=0, stop=4, step=1)"
      ]
     },
     "execution_count": 4,
     "metadata": {},
     "output_type": "execute_result"
    }
   ],
   "source": [
    "obj.index"
   ]
  },
  {
   "cell_type": "code",
   "execution_count": 5,
   "id": "d846770e-3278-47e5-8736-ecf878877384",
   "metadata": {},
   "outputs": [],
   "source": [
    "# indexに名前も使用可能\n",
    "m2_cos = Series([2,3,4,5],index=['A','B','C','D'])"
   ]
  },
  {
   "cell_type": "code",
   "execution_count": 6,
   "id": "d78b36be-1479-4ffa-8b73-786b50fd9c70",
   "metadata": {},
   "outputs": [
    {
     "data": {
      "text/plain": [
       "A    2\n",
       "B    3\n",
       "C    4\n",
       "D    5\n",
       "dtype: int64"
      ]
     },
     "execution_count": 6,
     "metadata": {},
     "output_type": "execute_result"
    }
   ],
   "source": [
    "m2_cos"
   ]
  },
  {
   "cell_type": "code",
   "execution_count": 7,
   "id": "e482dbe8-cda4-4cc7-a08f-42e3ef749259",
   "metadata": {},
   "outputs": [
    {
     "data": {
      "text/plain": [
       "2"
      ]
     },
     "execution_count": 7,
     "metadata": {},
     "output_type": "execute_result"
    }
   ],
   "source": [
    "m2_cos['A']"
   ]
  },
  {
   "cell_type": "code",
   "execution_count": 8,
   "id": "572666b0-c5a0-4f55-a75f-82d9a6fec28b",
   "metadata": {},
   "outputs": [
    {
     "data": {
      "text/plain": [
       "C    4\n",
       "D    5\n",
       "dtype: int64"
      ]
     },
     "execution_count": 8,
     "metadata": {},
     "output_type": "execute_result"
    }
   ],
   "source": [
    "m2_cos[m2_cos >= 4] #条件式を使えばデータ抜粋も可能"
   ]
  },
  {
   "cell_type": "code",
   "execution_count": 9,
   "id": "3538dd77-15bc-4f44-9c0d-d5bef76d95c7",
   "metadata": {},
   "outputs": [
    {
     "data": {
      "text/plain": [
       "A    False\n",
       "B    False\n",
       "C     True\n",
       "D     True\n",
       "dtype: bool"
      ]
     },
     "execution_count": 9,
     "metadata": {},
     "output_type": "execute_result"
    }
   ],
   "source": [
    "m2_cos >= 4"
   ]
  },
  {
   "cell_type": "code",
   "execution_count": 10,
   "id": "6a8406a2-a980-425f-b87e-7186b1aa75d1",
   "metadata": {},
   "outputs": [
    {
     "data": {
      "text/plain": [
       "True"
      ]
     },
     "execution_count": 10,
     "metadata": {},
     "output_type": "execute_result"
    }
   ],
   "source": [
    "# データを含むかの確認\n",
    "'B' in m2_cos"
   ]
  },
  {
   "cell_type": "code",
   "execution_count": 12,
   "id": "5fd7f7de-9882-4682-8b38-fbd6488bdf60",
   "metadata": {},
   "outputs": [],
   "source": [
    "# 辞書化も可能\n",
    "m2_dict = m2_cos.to_dict()"
   ]
  },
  {
   "cell_type": "code",
   "execution_count": 13,
   "id": "ecf6e114-79c3-4d63-a30d-4bb771de7c58",
   "metadata": {},
   "outputs": [
    {
     "data": {
      "text/plain": [
       "{'A': 2, 'B': 3, 'C': 4, 'D': 5}"
      ]
     },
     "execution_count": 13,
     "metadata": {},
     "output_type": "execute_result"
    }
   ],
   "source": [
    "m2_dict"
   ]
  },
  {
   "cell_type": "code",
   "execution_count": 14,
   "id": "1b3dc615-a32c-419e-8e26-6d617f80bd95",
   "metadata": {},
   "outputs": [],
   "source": [
    "categoriy = ['A','B','C','D','E']"
   ]
  },
  {
   "cell_type": "code",
   "execution_count": 17,
   "id": "3809c38b-22d9-470e-ac41-9878a2e714cb",
   "metadata": {},
   "outputs": [],
   "source": [
    "m3_cos = Series(m2_dict , index=categoriy)"
   ]
  },
  {
   "cell_type": "code",
   "execution_count": 18,
   "id": "c6f9e717-a2bc-4103-a0bd-175a35628b82",
   "metadata": {},
   "outputs": [
    {
     "data": {
      "text/plain": [
       "A    2.0\n",
       "B    3.0\n",
       "C    4.0\n",
       "D    5.0\n",
       "E    NaN\n",
       "dtype: float64"
      ]
     },
     "execution_count": 18,
     "metadata": {},
     "output_type": "execute_result"
    }
   ],
   "source": [
    "m3_cos"
   ]
  },
  {
   "cell_type": "code",
   "execution_count": 19,
   "id": "ffb07389-c5df-4c09-bf0e-bf847371b88e",
   "metadata": {},
   "outputs": [
    {
     "data": {
      "text/plain": [
       "A    False\n",
       "B    False\n",
       "C    False\n",
       "D    False\n",
       "E     True\n",
       "dtype: bool"
      ]
     },
     "execution_count": 19,
     "metadata": {},
     "output_type": "execute_result"
    }
   ],
   "source": [
    "# NaN判定も可能\n",
    "pd.isnull(m3_cos)"
   ]
  },
  {
   "cell_type": "code",
   "execution_count": 20,
   "id": "5793d40b-4049-4e65-9ae9-5b9dcc53815f",
   "metadata": {},
   "outputs": [
    {
     "data": {
      "text/plain": [
       "A     True\n",
       "B     True\n",
       "C     True\n",
       "D     True\n",
       "E    False\n",
       "dtype: bool"
      ]
     },
     "execution_count": 20,
     "metadata": {},
     "output_type": "execute_result"
    }
   ],
   "source": [
    "pd.notnull(m3_cos)"
   ]
  },
  {
   "cell_type": "code",
   "execution_count": 21,
   "id": "a8d4fcb3-8559-4491-ac46-d5abe1e44975",
   "metadata": {},
   "outputs": [
    {
     "data": {
      "text/plain": [
       "A     4.0\n",
       "B     6.0\n",
       "C     8.0\n",
       "D    10.0\n",
       "E     NaN\n",
       "dtype: float64"
      ]
     },
     "execution_count": 21,
     "metadata": {},
     "output_type": "execute_result"
    }
   ],
   "source": [
    "# Indexが同じであれば総和も可能\n",
    "m2_cos + m3_cos"
   ]
  },
  {
   "cell_type": "code",
   "execution_count": 22,
   "id": "b476c280-0ef9-405d-8ade-09292014c48d",
   "metadata": {},
   "outputs": [],
   "source": [
    "# 名前の追加\n",
    "m2_cos.name = 'ほげほげ'"
   ]
  },
  {
   "cell_type": "code",
   "execution_count": 23,
   "id": "6d19bc70-4a88-4ba1-bb25-19df23760365",
   "metadata": {},
   "outputs": [
    {
     "data": {
      "text/plain": [
       "A    2\n",
       "B    3\n",
       "C    4\n",
       "D    5\n",
       "Name: ほげほげ, dtype: int64"
      ]
     },
     "execution_count": 23,
     "metadata": {},
     "output_type": "execute_result"
    }
   ],
   "source": [
    "m2_cos"
   ]
  },
  {
   "cell_type": "code",
   "execution_count": 24,
   "id": "6b811d10-b7b1-42f2-be62-a2b44f6c2fd0",
   "metadata": {},
   "outputs": [],
   "source": [
    "# Indexにも名前を付けられる\n",
    "m2_cos.index.name = \"ふがふが\""
   ]
  },
  {
   "cell_type": "code",
   "execution_count": 25,
   "id": "9a6f2c99-0103-4780-a153-1301ba7bb157",
   "metadata": {},
   "outputs": [
    {
     "data": {
      "text/plain": [
       "ふがふが\n",
       "A    2\n",
       "B    3\n",
       "C    4\n",
       "D    5\n",
       "Name: ほげほげ, dtype: int64"
      ]
     },
     "execution_count": 25,
     "metadata": {},
     "output_type": "execute_result"
    }
   ],
   "source": [
    "m2_cos"
   ]
  }
 ],
 "metadata": {
  "kernelspec": {
   "display_name": "Python 3 (ipykernel)",
   "language": "python",
   "name": "python3"
  },
  "language_info": {
   "codemirror_mode": {
    "name": "ipython",
    "version": 3
   },
   "file_extension": ".py",
   "mimetype": "text/x-python",
   "name": "python",
   "nbconvert_exporter": "python",
   "pygments_lexer": "ipython3",
   "version": "3.9.13"
  }
 },
 "nbformat": 4,
 "nbformat_minor": 5
}
