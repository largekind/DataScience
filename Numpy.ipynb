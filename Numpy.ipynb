{
 "cells": [
  {
   "cell_type": "markdown",
   "id": "467edcf0-4a12-4728-9b1c-d31c0527f1a1",
   "metadata": {},
   "source": [
    "# numpy 基本的な使い方\n",
    "\n",
    "JupyterLabのメニューにある「Help」-> 「Numpy Reference」があるので、そちらも参照すること\n",
    "\n",
    "## インポート\n",
    "\n",
    "いつものやつ"
   ]
  },
  {
   "cell_type": "code",
   "execution_count": 1,
   "id": "1493c38c-ae26-4390-be2a-799c78250007",
   "metadata": {},
   "outputs": [],
   "source": [
    "import numpy as np"
   ]
  },
  {
   "cell_type": "markdown",
   "id": "938aa3f1-d491-46af-a9a6-6de8fa266fdd",
   "metadata": {},
   "source": [
    "## リストの作り方\n",
    "\n",
    "こちらもいつものやつ。np.arrayを使うだけ"
   ]
  },
  {
   "cell_type": "code",
   "execution_count": 2,
   "id": "847d7cce-0d8d-4c4e-b261-5c8cfba28983",
   "metadata": {},
   "outputs": [],
   "source": [
    "np_list = np.array([1,2,3,4])"
   ]
  },
  {
   "cell_type": "code",
   "execution_count": 3,
   "id": "8225c32b-1805-4040-bc89-d9185b6b4a00",
   "metadata": {},
   "outputs": [
    {
     "data": {
      "text/plain": [
       "array([1, 2, 3, 4])"
      ]
     },
     "execution_count": 3,
     "metadata": {},
     "output_type": "execute_result"
    }
   ],
   "source": [
    "np_list"
   ]
  },
  {
   "cell_type": "markdown",
   "id": "6d80fa18-b056-4712-a8f7-3ec022afdaf4",
   "metadata": {},
   "source": [
    "## データの結合\n",
    "\n",
    "リストと同様にくっつけて、np.arrayで定義すれば結合可能"
   ]
  },
  {
   "cell_type": "code",
   "execution_count": 4,
   "id": "fb447dcc-e102-429e-947c-81baf5db2390",
   "metadata": {},
   "outputs": [],
   "source": [
    "my_list2 = [11,22,33,44]\n",
    "my_lists = [np_list,my_list2]"
   ]
  },
  {
   "cell_type": "code",
   "execution_count": 5,
   "id": "8abe767a-4501-473b-ba48-f4fd91728f9d",
   "metadata": {},
   "outputs": [
    {
     "data": {
      "text/plain": [
       "[array([1, 2, 3, 4]), [11, 22, 33, 44]]"
      ]
     },
     "execution_count": 5,
     "metadata": {},
     "output_type": "execute_result"
    }
   ],
   "source": [
    "my_lists"
   ]
  },
  {
   "cell_type": "code",
   "execution_count": 6,
   "id": "1e2bca05-90fe-4feb-9706-ddf85ed31160",
   "metadata": {},
   "outputs": [],
   "source": [
    "np_lists = np.array(my_lists) #複数のリストをまとめるパターン"
   ]
  },
  {
   "cell_type": "code",
   "execution_count": 7,
   "id": "662e64cf-290d-4357-b89c-4bfc2c9ed558",
   "metadata": {},
   "outputs": [
    {
     "data": {
      "text/plain": [
       "array([[ 1,  2,  3,  4],\n",
       "       [11, 22, 33, 44]])"
      ]
     },
     "execution_count": 7,
     "metadata": {},
     "output_type": "execute_result"
    }
   ],
   "source": [
    "np_lists"
   ]
  },
  {
   "cell_type": "code",
   "execution_count": 8,
   "id": "62d9dadc-bf09-48a3-a178-a4d1756f8a94",
   "metadata": {},
   "outputs": [
    {
     "data": {
      "text/plain": [
       "array([0., 0., 0., 0., 0.])"
      ]
     },
     "execution_count": 8,
     "metadata": {},
     "output_type": "execute_result"
    }
   ],
   "source": [
    "np.zeros(5)"
   ]
  },
  {
   "cell_type": "code",
   "execution_count": 9,
   "id": "918949d8-389e-43e3-a1b6-362966ff75a0",
   "metadata": {},
   "outputs": [
    {
     "data": {
      "text/plain": [
       "dtype('float64')"
      ]
     },
     "execution_count": 9,
     "metadata": {},
     "output_type": "execute_result"
    }
   ],
   "source": [
    "np.zeros(5).dtype #dtypeで型出力"
   ]
  },
  {
   "cell_type": "markdown",
   "id": "b46c20c2-44e6-4df5-9a09-42ae083d79b0",
   "metadata": {},
   "source": [
    "## 単位行列\n",
    "\n",
    "対角成分が1のやつ。np.eyeで作成できる"
   ]
  },
  {
   "cell_type": "code",
   "execution_count": 10,
   "id": "bfe8f598-4b5e-47be-adf0-17c038c0e1bf",
   "metadata": {},
   "outputs": [
    {
     "data": {
      "text/plain": [
       "array([[1., 0., 0., 0., 0.],\n",
       "       [0., 1., 0., 0., 0.],\n",
       "       [0., 0., 1., 0., 0.],\n",
       "       [0., 0., 0., 1., 0.],\n",
       "       [0., 0., 0., 0., 1.]])"
      ]
     },
     "execution_count": 10,
     "metadata": {},
     "output_type": "execute_result"
    }
   ],
   "source": [
    "np.eye(5)"
   ]
  },
  {
   "cell_type": "markdown",
   "id": "7610d3c8-50a2-40f4-9482-0fe6b7ecff19",
   "metadata": {},
   "source": [
    "# 計算\n",
    "\n",
    "通常の四則演算が可能 面倒だし説明は省略"
   ]
  },
  {
   "cell_type": "code",
   "execution_count": 11,
   "id": "79a1f535-da63-4d1c-bf85-db3db6fa5dd2",
   "metadata": {},
   "outputs": [
    {
     "data": {
      "text/plain": [
       "2.5"
      ]
     },
     "execution_count": 11,
     "metadata": {},
     "output_type": "execute_result"
    }
   ],
   "source": [
    "5/2"
   ]
  },
  {
   "cell_type": "code",
   "execution_count": 12,
   "id": "c82c8fac-4499-491e-9155-3af21e6ded6f",
   "metadata": {},
   "outputs": [],
   "source": [
    "arr1 = np.array([[1,2,3,4],[8,9,10,11]])"
   ]
  },
  {
   "cell_type": "code",
   "execution_count": 13,
   "id": "b7d07c6a-1ff3-4112-a0cf-0c29bb5942b5",
   "metadata": {},
   "outputs": [
    {
     "data": {
      "text/plain": [
       "array([[ 1,  2,  3,  4],\n",
       "       [ 8,  9, 10, 11]])"
      ]
     },
     "execution_count": 13,
     "metadata": {},
     "output_type": "execute_result"
    }
   ],
   "source": [
    "arr1"
   ]
  },
  {
   "cell_type": "code",
   "execution_count": 14,
   "id": "69816e32-06de-496a-95e5-297a1dc182b9",
   "metadata": {},
   "outputs": [
    {
     "data": {
      "text/plain": [
       "array([[  1,   4,   9,  16],\n",
       "       [ 64,  81, 100, 121]])"
      ]
     },
     "execution_count": 14,
     "metadata": {},
     "output_type": "execute_result"
    }
   ],
   "source": [
    "arr1 * arr1"
   ]
  },
  {
   "cell_type": "code",
   "execution_count": 15,
   "id": "cd22e9f5-77c9-4490-87ba-892a393b654f",
   "metadata": {},
   "outputs": [
    {
     "data": {
      "text/plain": [
       "array([[  1,   4,   9,  16],\n",
       "       [ 64,  81, 100, 121]])"
      ]
     },
     "execution_count": 15,
     "metadata": {},
     "output_type": "execute_result"
    }
   ],
   "source": [
    "arr1 ** 2"
   ]
  },
  {
   "cell_type": "code",
   "execution_count": 16,
   "id": "57d27c33-8d39-4f22-bba4-6d2b6bc8e7df",
   "metadata": {},
   "outputs": [
    {
     "data": {
      "text/plain": [
       "array([[0.5, 1. , 1.5, 2. ],\n",
       "       [4. , 4.5, 5. , 5.5]])"
      ]
     },
     "execution_count": 16,
     "metadata": {},
     "output_type": "execute_result"
    }
   ],
   "source": [
    "arr1 / 2"
   ]
  },
  {
   "cell_type": "code",
   "execution_count": 17,
   "id": "26ad5b97-aee3-482e-aef9-8a296bb22f48",
   "metadata": {},
   "outputs": [
    {
     "data": {
      "text/plain": [
       "array([[ 2,  3,  4,  5],\n",
       "       [ 9, 10, 11, 12]])"
      ]
     },
     "execution_count": 17,
     "metadata": {},
     "output_type": "execute_result"
    }
   ],
   "source": [
    "arr1 + 1 #各要素の足し算になる（ブロードキャスト）"
   ]
  },
  {
   "cell_type": "code",
   "execution_count": 18,
   "id": "f86772d0-f55c-4b6a-9bb6-615327067ebc",
   "metadata": {},
   "outputs": [
    {
     "data": {
      "text/plain": [
       "array([[ 2,  4,  6,  8],\n",
       "       [16, 18, 20, 22]])"
      ]
     },
     "execution_count": 18,
     "metadata": {},
     "output_type": "execute_result"
    }
   ],
   "source": [
    "arr1 * 2"
   ]
  },
  {
   "cell_type": "markdown",
   "id": "ba0a2af0-2bc5-4957-8845-b0a5759bf781",
   "metadata": {},
   "source": [
    "## 添え字アクセス\n",
    "リストと同様なアクセスが可能。\n",
    "python特有の機能として、=は参照なのに注意。\n",
    "別変数として扱いたいのであれば、「copy()]メソッドを使うこと"
   ]
  },
  {
   "cell_type": "code",
   "execution_count": 19,
   "id": "5b85f0d6-41e9-48f4-a4e0-0c699ee0f420",
   "metadata": {},
   "outputs": [],
   "source": [
    "arr = np.arange(1,11)"
   ]
  },
  {
   "cell_type": "code",
   "execution_count": 20,
   "id": "f02eb6a5-4fb7-4fbb-973c-8ee7db0c1f6f",
   "metadata": {},
   "outputs": [
    {
     "data": {
      "text/plain": [
       "array([ 1,  2,  3,  4,  5,  6,  7,  8,  9, 10])"
      ]
     },
     "execution_count": 20,
     "metadata": {},
     "output_type": "execute_result"
    }
   ],
   "source": [
    "arr"
   ]
  },
  {
   "cell_type": "code",
   "execution_count": 21,
   "id": "3a829205-23e0-46e0-ac93-110e04f3ea89",
   "metadata": {},
   "outputs": [
    {
     "data": {
      "text/plain": [
       "array([2, 3, 4, 5])"
      ]
     },
     "execution_count": 21,
     "metadata": {},
     "output_type": "execute_result"
    }
   ],
   "source": [
    "arr[1:5] #添え字は0始まり"
   ]
  },
  {
   "cell_type": "code",
   "execution_count": 22,
   "id": "aa6a8853-dbdd-435d-9f25-ba25b0622ad6",
   "metadata": {},
   "outputs": [],
   "source": [
    "arr[0:4] = 100"
   ]
  },
  {
   "cell_type": "code",
   "execution_count": 23,
   "id": "292c1395-36fb-470b-99d5-b8a9115d7012",
   "metadata": {},
   "outputs": [
    {
     "data": {
      "text/plain": [
       "array([100, 100, 100, 100,   5,   6,   7,   8,   9,  10])"
      ]
     },
     "execution_count": 23,
     "metadata": {},
     "output_type": "execute_result"
    }
   ],
   "source": [
    "arr"
   ]
  },
  {
   "cell_type": "code",
   "execution_count": 24,
   "id": "491bb2ff-a71c-4b25-830d-bf160ad25081",
   "metadata": {},
   "outputs": [],
   "source": [
    "arr = np.arange(0,11)"
   ]
  },
  {
   "cell_type": "code",
   "execution_count": 25,
   "id": "835d48db-ae57-4749-b1c5-bbbf9cb60e93",
   "metadata": {},
   "outputs": [
    {
     "data": {
      "text/plain": [
       "array([ 0,  1,  2,  3,  4,  5,  6,  7,  8,  9, 10])"
      ]
     },
     "execution_count": 25,
     "metadata": {},
     "output_type": "execute_result"
    }
   ],
   "source": [
    "arr"
   ]
  },
  {
   "cell_type": "code",
   "execution_count": 26,
   "id": "f6dc032b-fee1-45e9-ae74-909533b614cf",
   "metadata": {},
   "outputs": [],
   "source": [
    "slice_arr = arr[0:6] #あくまでpythonは参照繋がりであることに注意。この場合、arr[0:6]に紐づかれる"
   ]
  },
  {
   "cell_type": "code",
   "execution_count": 27,
   "id": "e76e66bb-28f8-4edf-b108-a5888f00bf1a",
   "metadata": {},
   "outputs": [],
   "source": [
    "slice_arr[:]= 999 # arr[0:6]に999を入れるのと同義となる"
   ]
  },
  {
   "cell_type": "code",
   "execution_count": 28,
   "id": "b421b667-d59b-4d22-9de1-329652b8e1ff",
   "metadata": {},
   "outputs": [
    {
     "data": {
      "text/plain": [
       "array([999, 999, 999, 999, 999, 999,   6,   7,   8,   9,  10])"
      ]
     },
     "execution_count": 28,
     "metadata": {},
     "output_type": "execute_result"
    }
   ],
   "source": [
    "arr"
   ]
  },
  {
   "cell_type": "code",
   "execution_count": 29,
   "id": "3aaa83e6-8b71-436a-b512-9e7ad05035c1",
   "metadata": {},
   "outputs": [],
   "source": [
    "copy_arr = arr.copy() #こちらはコピー。元のarrとは繋がらない"
   ]
  },
  {
   "cell_type": "code",
   "execution_count": 30,
   "id": "1b869d68-e710-40a9-990e-2f27a553f2ab",
   "metadata": {},
   "outputs": [],
   "source": [
    "copy_arr[:] = 55"
   ]
  },
  {
   "cell_type": "code",
   "execution_count": 31,
   "id": "8b98124d-3895-41a9-803f-c50a3278e193",
   "metadata": {},
   "outputs": [
    {
     "data": {
      "text/plain": [
       "array([999, 999, 999, 999, 999, 999,   6,   7,   8,   9,  10])"
      ]
     },
     "execution_count": 31,
     "metadata": {},
     "output_type": "execute_result"
    }
   ],
   "source": [
    "arr"
   ]
  },
  {
   "cell_type": "code",
   "execution_count": 32,
   "id": "2b4d2196-129d-4d32-bb5e-93c28be9128a",
   "metadata": {},
   "outputs": [],
   "source": [
    "# 2次元版\n",
    "arr_2d = np.array([[5,10,15],[20,25,30],[35,40,45]])"
   ]
  },
  {
   "cell_type": "code",
   "execution_count": 33,
   "id": "dbdc0ddc-d837-489a-9bb6-dc83f81529a2",
   "metadata": {},
   "outputs": [
    {
     "data": {
      "text/plain": [
       "array([20, 25, 30])"
      ]
     },
     "execution_count": 33,
     "metadata": {},
     "output_type": "execute_result"
    }
   ],
   "source": [
    "arr_2d[1] #0始まりなので、2行目が出力"
   ]
  },
  {
   "cell_type": "code",
   "execution_count": 34,
   "id": "7a023e9e-5082-4bca-8fc0-03520de6150d",
   "metadata": {},
   "outputs": [
    {
     "data": {
      "text/plain": [
       "20"
      ]
     },
     "execution_count": 34,
     "metadata": {},
     "output_type": "execute_result"
    }
   ],
   "source": [
    "arr_2d[1,0] #2行目1列目"
   ]
  },
  {
   "cell_type": "code",
   "execution_count": 35,
   "id": "535dc1c1-7fe3-46cb-8b56-0810cdb59491",
   "metadata": {},
   "outputs": [
    {
     "data": {
      "text/plain": [
       "array([35, 40, 45])"
      ]
     },
     "execution_count": 35,
     "metadata": {},
     "output_type": "execute_result"
    }
   ],
   "source": [
    "arr_2d[2,:] #3行目、列すべて"
   ]
  },
  {
   "cell_type": "code",
   "execution_count": 36,
   "id": "ee693466-3ddd-404d-a4d9-1ed25ad8e785",
   "metadata": {},
   "outputs": [],
   "source": [
    "arr_2d = np.zeros((10,20)) "
   ]
  },
  {
   "cell_type": "code",
   "execution_count": 37,
   "id": "a370b617-578d-4670-9d1c-421f2e2fe7ed",
   "metadata": {},
   "outputs": [
    {
     "data": {
      "text/plain": [
       "array([[0., 0., 0., 0., 0., 0., 0., 0., 0., 0., 0., 0., 0., 0., 0., 0.,\n",
       "        0., 0., 0., 0.],\n",
       "       [0., 0., 0., 0., 0., 0., 0., 0., 0., 0., 0., 0., 0., 0., 0., 0.,\n",
       "        0., 0., 0., 0.],\n",
       "       [0., 0., 0., 0., 0., 0., 0., 0., 0., 0., 0., 0., 0., 0., 0., 0.,\n",
       "        0., 0., 0., 0.],\n",
       "       [0., 0., 0., 0., 0., 0., 0., 0., 0., 0., 0., 0., 0., 0., 0., 0.,\n",
       "        0., 0., 0., 0.],\n",
       "       [0., 0., 0., 0., 0., 0., 0., 0., 0., 0., 0., 0., 0., 0., 0., 0.,\n",
       "        0., 0., 0., 0.],\n",
       "       [0., 0., 0., 0., 0., 0., 0., 0., 0., 0., 0., 0., 0., 0., 0., 0.,\n",
       "        0., 0., 0., 0.],\n",
       "       [0., 0., 0., 0., 0., 0., 0., 0., 0., 0., 0., 0., 0., 0., 0., 0.,\n",
       "        0., 0., 0., 0.],\n",
       "       [0., 0., 0., 0., 0., 0., 0., 0., 0., 0., 0., 0., 0., 0., 0., 0.,\n",
       "        0., 0., 0., 0.],\n",
       "       [0., 0., 0., 0., 0., 0., 0., 0., 0., 0., 0., 0., 0., 0., 0., 0.,\n",
       "        0., 0., 0., 0.],\n",
       "       [0., 0., 0., 0., 0., 0., 0., 0., 0., 0., 0., 0., 0., 0., 0., 0.,\n",
       "        0., 0., 0., 0.]])"
      ]
     },
     "execution_count": 37,
     "metadata": {},
     "output_type": "execute_result"
    }
   ],
   "source": [
    "arr_2d"
   ]
  },
  {
   "cell_type": "code",
   "execution_count": 38,
   "id": "4051a26f-6949-4286-b3c5-2c93f7266d15",
   "metadata": {},
   "outputs": [
    {
     "name": "stdout",
     "output_type": "stream",
     "text": [
      "行: 10\n",
      "列: 20\n"
     ]
    }
   ],
   "source": [
    "#次元が大きい順からaxisが割り当てられる 2次元ならshape[0]:axis=0(縦方向)で数えるので行数 、shape[1]:axis=1(横方向)で数えるので列数になる\n",
    "print(\"行:\",arr_2d.shape[0])\n",
    "print(\"列:\",arr_2d.shape[1])\n",
    "\n",
    "for i in range(arr_2d.shape[0]): #shape[0]なので縦10で徹\n",
    "    arr_2d[i] = i"
   ]
  },
  {
   "cell_type": "code",
   "execution_count": 39,
   "id": "26b49391-8c1d-445e-8302-d36b31f40ce7",
   "metadata": {},
   "outputs": [
    {
     "data": {
      "text/plain": [
       "array([[0., 0., 0., 0., 0., 0., 0., 0., 0., 0., 0., 0., 0., 0., 0., 0.,\n",
       "        0., 0., 0., 0.],\n",
       "       [1., 1., 1., 1., 1., 1., 1., 1., 1., 1., 1., 1., 1., 1., 1., 1.,\n",
       "        1., 1., 1., 1.],\n",
       "       [2., 2., 2., 2., 2., 2., 2., 2., 2., 2., 2., 2., 2., 2., 2., 2.,\n",
       "        2., 2., 2., 2.],\n",
       "       [3., 3., 3., 3., 3., 3., 3., 3., 3., 3., 3., 3., 3., 3., 3., 3.,\n",
       "        3., 3., 3., 3.],\n",
       "       [4., 4., 4., 4., 4., 4., 4., 4., 4., 4., 4., 4., 4., 4., 4., 4.,\n",
       "        4., 4., 4., 4.],\n",
       "       [5., 5., 5., 5., 5., 5., 5., 5., 5., 5., 5., 5., 5., 5., 5., 5.,\n",
       "        5., 5., 5., 5.],\n",
       "       [6., 6., 6., 6., 6., 6., 6., 6., 6., 6., 6., 6., 6., 6., 6., 6.,\n",
       "        6., 6., 6., 6.],\n",
       "       [7., 7., 7., 7., 7., 7., 7., 7., 7., 7., 7., 7., 7., 7., 7., 7.,\n",
       "        7., 7., 7., 7.],\n",
       "       [8., 8., 8., 8., 8., 8., 8., 8., 8., 8., 8., 8., 8., 8., 8., 8.,\n",
       "        8., 8., 8., 8.],\n",
       "       [9., 9., 9., 9., 9., 9., 9., 9., 9., 9., 9., 9., 9., 9., 9., 9.,\n",
       "        9., 9., 9., 9.]])"
      ]
     },
     "execution_count": 39,
     "metadata": {},
     "output_type": "execute_result"
    }
   ],
   "source": [
    "arr_2d"
   ]
  },
  {
   "cell_type": "markdown",
   "id": "b9dd3541-a2bf-4eaa-8dee-dd5a6d86414f",
   "metadata": {},
   "source": [
    "# 行列入れ替え\n",
    "\n",
    "転置のやつ。.Tで出来る(transpose)"
   ]
  },
  {
   "cell_type": "code",
   "execution_count": 40,
   "id": "43a1876c-32b6-4907-af11-b7025791565b",
   "metadata": {},
   "outputs": [],
   "source": [
    "arr = np.arange(9).reshape(3,3)"
   ]
  },
  {
   "cell_type": "code",
   "execution_count": 41,
   "id": "5c80f402-a441-41d9-b756-779654cadf14",
   "metadata": {},
   "outputs": [
    {
     "data": {
      "text/plain": [
       "array([[0, 1, 2],\n",
       "       [3, 4, 5],\n",
       "       [6, 7, 8]])"
      ]
     },
     "execution_count": 41,
     "metadata": {},
     "output_type": "execute_result"
    }
   ],
   "source": [
    "arr"
   ]
  },
  {
   "cell_type": "code",
   "execution_count": 42,
   "id": "706b5d9e-6b81-4809-9e2d-3cd29d2c34b4",
   "metadata": {},
   "outputs": [
    {
     "data": {
      "text/plain": [
       "array([[0, 3, 6],\n",
       "       [1, 4, 7],\n",
       "       [2, 5, 8]])"
      ]
     },
     "execution_count": 42,
     "metadata": {},
     "output_type": "execute_result"
    }
   ],
   "source": [
    "arr.T"
   ]
  },
  {
   "cell_type": "code",
   "execution_count": 43,
   "id": "7600516f-ed31-46ff-a78c-3a9cf84285b7",
   "metadata": {},
   "outputs": [
    {
     "data": {
      "text/plain": [
       "array([[0, 3, 6],\n",
       "       [1, 4, 7],\n",
       "       [2, 5, 8]])"
      ]
     },
     "execution_count": 43,
     "metadata": {},
     "output_type": "execute_result"
    }
   ],
   "source": [
    "arr.transpose(1,0) #行列の入れ替え axis=0とaxis=1を入れ替えてるだけなので、転置とやっていることは同じ"
   ]
  },
  {
   "cell_type": "markdown",
   "id": "80a6822b-02d3-4a64-903e-75ee430ee9f6",
   "metadata": {},
   "source": [
    "# arrayの計算\n",
    "\n",
    "numpyで提供されている行列計算など"
   ]
  },
  {
   "cell_type": "code",
   "execution_count": 44,
   "id": "24f81420-c52c-48d0-a56a-cc727a51a084",
   "metadata": {},
   "outputs": [],
   "source": [
    "arr = np.arange(11)"
   ]
  },
  {
   "cell_type": "code",
   "execution_count": 45,
   "id": "08bcce56-7d40-4d91-9da8-1c03e7cb593c",
   "metadata": {},
   "outputs": [
    {
     "data": {
      "text/plain": [
       "array([ 0,  1,  2,  3,  4,  5,  6,  7,  8,  9, 10])"
      ]
     },
     "execution_count": 45,
     "metadata": {},
     "output_type": "execute_result"
    }
   ],
   "source": [
    "arr"
   ]
  },
  {
   "cell_type": "code",
   "execution_count": 46,
   "id": "5ae648b3-4a67-4e61-b5af-017d96acda38",
   "metadata": {},
   "outputs": [
    {
     "data": {
      "text/plain": [
       "array([0.        , 1.        , 1.41421356, 1.73205081, 2.        ,\n",
       "       2.23606798, 2.44948974, 2.64575131, 2.82842712, 3.        ,\n",
       "       3.16227766])"
      ]
     },
     "execution_count": 46,
     "metadata": {},
     "output_type": "execute_result"
    }
   ],
   "source": [
    "# 平方根\n",
    "np.sqrt(arr)"
   ]
  },
  {
   "cell_type": "code",
   "execution_count": 47,
   "id": "2fa95398-d350-4217-80da-e9ae0a11089b",
   "metadata": {},
   "outputs": [
    {
     "data": {
      "text/plain": [
       "array([1.00000000e+00, 2.71828183e+00, 7.38905610e+00, 2.00855369e+01,\n",
       "       5.45981500e+01, 1.48413159e+02, 4.03428793e+02, 1.09663316e+03,\n",
       "       2.98095799e+03, 8.10308393e+03, 2.20264658e+04])"
      ]
     },
     "execution_count": 47,
     "metadata": {},
     "output_type": "execute_result"
    }
   ],
   "source": [
    "# exp\n",
    "np.exp(arr)"
   ]
  },
  {
   "cell_type": "code",
   "execution_count": 48,
   "id": "dad52638-73c8-408c-a4b7-aa5ca12de28b",
   "metadata": {},
   "outputs": [],
   "source": [
    "# ランダム値  平均0標準偏差1の正規分布の乱数配列\n",
    "A = np.random.randn(10) #引数は個数"
   ]
  },
  {
   "cell_type": "code",
   "execution_count": 49,
   "id": "0140ac42-8001-40e0-8fc3-6e0c826e20fa",
   "metadata": {},
   "outputs": [
    {
     "data": {
      "text/plain": [
       "array([ 0.48995964,  0.55021668,  0.56336291,  0.73519122, -1.55457195,\n",
       "       -0.66362622, -0.34719241, -0.31129952, -0.56281184,  1.08572201])"
      ]
     },
     "execution_count": 49,
     "metadata": {},
     "output_type": "execute_result"
    }
   ],
   "source": [
    "A"
   ]
  },
  {
   "cell_type": "code",
   "execution_count": 50,
   "id": "ab61bfd6-46e1-426a-8355-3d8c5e1fb560",
   "metadata": {},
   "outputs": [],
   "source": [
    "B= np.random.randn(10) #引数は個数"
   ]
  },
  {
   "cell_type": "code",
   "execution_count": 51,
   "id": "024d3516-5a60-442e-b719-a6c35cfd29a8",
   "metadata": {},
   "outputs": [
    {
     "data": {
      "text/plain": [
       "array([ 9.81850079e-01, -1.06932793e-01,  6.81485284e-01, -4.10001576e-01,\n",
       "       -6.49670353e-01,  6.64562347e-02,  1.13952435e+00,  4.98778174e-04,\n",
       "       -1.21323152e+00,  1.23670282e-01])"
      ]
     },
     "execution_count": 51,
     "metadata": {},
     "output_type": "execute_result"
    }
   ],
   "source": [
    "B"
   ]
  },
  {
   "cell_type": "code",
   "execution_count": 52,
   "id": "481390cc-c24d-4679-aa8c-f28b3fb6bac3",
   "metadata": {},
   "outputs": [
    {
     "data": {
      "text/plain": [
       "array([ 1.47180972,  0.44328388,  1.24484819,  0.32518964, -2.2042423 ,\n",
       "       -0.59716998,  0.79233194, -0.31080074, -1.77604336,  1.20939229])"
      ]
     },
     "execution_count": 52,
     "metadata": {},
     "output_type": "execute_result"
    }
   ],
   "source": [
    "# 各要素の和\n",
    "np.add(A,B)"
   ]
  },
  {
   "cell_type": "code",
   "execution_count": 53,
   "id": "ee5d74d6-cd6b-4092-9e63-65a30874ee43",
   "metadata": {},
   "outputs": [
    {
     "data": {
      "text/plain": [
       "array([ 9.81850079e-01,  5.50216675e-01,  6.81485284e-01,  7.35191220e-01,\n",
       "       -6.49670353e-01,  6.64562347e-02,  1.13952435e+00,  4.98778174e-04,\n",
       "       -5.62811840e-01,  1.08572201e+00])"
      ]
     },
     "execution_count": 53,
     "metadata": {},
     "output_type": "execute_result"
    }
   ],
   "source": [
    "# 各要素の最大値を抽出\n",
    "np.maximum(A,B)"
   ]
  },
  {
   "cell_type": "code",
   "execution_count": null,
   "id": "6aa5bed7-43a7-4490-8078-590ea3c06664",
   "metadata": {},
   "outputs": [],
   "source": []
  }
 ],
 "metadata": {
  "kernelspec": {
   "display_name": "Python 3 (ipykernel)",
   "language": "python",
   "name": "python3"
  },
  "language_info": {
   "codemirror_mode": {
    "name": "ipython",
    "version": 3
   },
   "file_extension": ".py",
   "mimetype": "text/x-python",
   "name": "python",
   "nbconvert_exporter": "python",
   "pygments_lexer": "ipython3",
   "version": "3.9.13"
  }
 },
 "nbformat": 4,
 "nbformat_minor": 5
}
