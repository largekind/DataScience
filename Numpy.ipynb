{
 "cells": [
  {
   "cell_type": "markdown",
   "id": "467edcf0-4a12-4728-9b1c-d31c0527f1a1",
   "metadata": {},
   "source": [
    "# numpy 基本的な使い方\n",
    "\n",
    "## インポート\n",
    "\n",
    "いつものやつ"
   ]
  },
  {
   "cell_type": "code",
   "execution_count": 1,
   "id": "1493c38c-ae26-4390-be2a-799c78250007",
   "metadata": {},
   "outputs": [],
   "source": [
    "import numpy as np"
   ]
  },
  {
   "cell_type": "markdown",
   "id": "938aa3f1-d491-46af-a9a6-6de8fa266fdd",
   "metadata": {},
   "source": [
    "## リストの作り方\n",
    "\n",
    "こちらもいつものやつ。np.arrayを使うだけ"
   ]
  },
  {
   "cell_type": "code",
   "execution_count": 2,
   "id": "847d7cce-0d8d-4c4e-b261-5c8cfba28983",
   "metadata": {},
   "outputs": [],
   "source": [
    "np_list = np.array([1,2,3,4])"
   ]
  },
  {
   "cell_type": "code",
   "execution_count": 3,
   "id": "8225c32b-1805-4040-bc89-d9185b6b4a00",
   "metadata": {},
   "outputs": [
    {
     "data": {
      "text/plain": [
       "array([1, 2, 3, 4])"
      ]
     },
     "execution_count": 3,
     "metadata": {},
     "output_type": "execute_result"
    }
   ],
   "source": [
    "np_list"
   ]
  },
  {
   "cell_type": "markdown",
   "id": "6d80fa18-b056-4712-a8f7-3ec022afdaf4",
   "metadata": {},
   "source": [
    "## データの結合\n",
    "\n",
    "リストと同様にくっつけて、np.arrayで定義すれば結合可能"
   ]
  },
  {
   "cell_type": "code",
   "execution_count": 4,
   "id": "fb447dcc-e102-429e-947c-81baf5db2390",
   "metadata": {},
   "outputs": [],
   "source": [
    "my_list2 = [11,22,33,44]\n",
    "my_lists = [np_list,my_list2]"
   ]
  },
  {
   "cell_type": "code",
   "execution_count": 5,
   "id": "8abe767a-4501-473b-ba48-f4fd91728f9d",
   "metadata": {},
   "outputs": [
    {
     "data": {
      "text/plain": [
       "[array([1, 2, 3, 4]), [11, 22, 33, 44]]"
      ]
     },
     "execution_count": 5,
     "metadata": {},
     "output_type": "execute_result"
    }
   ],
   "source": [
    "my_lists"
   ]
  },
  {
   "cell_type": "code",
   "execution_count": 6,
   "id": "1e2bca05-90fe-4feb-9706-ddf85ed31160",
   "metadata": {},
   "outputs": [],
   "source": [
    "np_lists = np.array(my_lists) #複数のリストをまとめるパターン"
   ]
  },
  {
   "cell_type": "code",
   "execution_count": 7,
   "id": "662e64cf-290d-4357-b89c-4bfc2c9ed558",
   "metadata": {},
   "outputs": [
    {
     "data": {
      "text/plain": [
       "array([[ 1,  2,  3,  4],\n",
       "       [11, 22, 33, 44]])"
      ]
     },
     "execution_count": 7,
     "metadata": {},
     "output_type": "execute_result"
    }
   ],
   "source": [
    "np_lists"
   ]
  },
  {
   "cell_type": "code",
   "execution_count": 8,
   "id": "62d9dadc-bf09-48a3-a178-a4d1756f8a94",
   "metadata": {},
   "outputs": [
    {
     "data": {
      "text/plain": [
       "array([0., 0., 0., 0., 0.])"
      ]
     },
     "execution_count": 8,
     "metadata": {},
     "output_type": "execute_result"
    }
   ],
   "source": [
    "np.zeros(5)"
   ]
  },
  {
   "cell_type": "code",
   "execution_count": 9,
   "id": "918949d8-389e-43e3-a1b6-362966ff75a0",
   "metadata": {},
   "outputs": [
    {
     "data": {
      "text/plain": [
       "dtype('float64')"
      ]
     },
     "execution_count": 9,
     "metadata": {},
     "output_type": "execute_result"
    }
   ],
   "source": [
    "np.zeros(5).dtype #dtypeで型出力"
   ]
  },
  {
   "cell_type": "markdown",
   "id": "b46c20c2-44e6-4df5-9a09-42ae083d79b0",
   "metadata": {},
   "source": [
    "## 単位行列\n",
    "\n",
    "対角成分が1のやつ。np.eyeで作成できる"
   ]
  },
  {
   "cell_type": "code",
   "execution_count": 10,
   "id": "bfe8f598-4b5e-47be-adf0-17c038c0e1bf",
   "metadata": {},
   "outputs": [
    {
     "data": {
      "text/plain": [
       "array([[1., 0., 0., 0., 0.],\n",
       "       [0., 1., 0., 0., 0.],\n",
       "       [0., 0., 1., 0., 0.],\n",
       "       [0., 0., 0., 1., 0.],\n",
       "       [0., 0., 0., 0., 1.]])"
      ]
     },
     "execution_count": 10,
     "metadata": {},
     "output_type": "execute_result"
    }
   ],
   "source": [
    "np.eye(5)"
   ]
  },
  {
   "cell_type": "markdown",
   "id": "7610d3c8-50a2-40f4-9482-0fe6b7ecff19",
   "metadata": {},
   "source": [
    "# 計算\n",
    "\n",
    "通常の四則演算が可能 面倒だし説明は省略"
   ]
  },
  {
   "cell_type": "code",
   "execution_count": 12,
   "id": "79a1f535-da63-4d1c-bf85-db3db6fa5dd2",
   "metadata": {},
   "outputs": [
    {
     "data": {
      "text/plain": [
       "2.5"
      ]
     },
     "execution_count": 12,
     "metadata": {},
     "output_type": "execute_result"
    }
   ],
   "source": [
    "5/2"
   ]
  },
  {
   "cell_type": "code",
   "execution_count": 13,
   "id": "c82c8fac-4499-491e-9155-3af21e6ded6f",
   "metadata": {},
   "outputs": [],
   "source": [
    "arr1 = np.array([[1,2,3,4],[8,9,10,11]])"
   ]
  },
  {
   "cell_type": "code",
   "execution_count": 14,
   "id": "b7d07c6a-1ff3-4112-a0cf-0c29bb5942b5",
   "metadata": {},
   "outputs": [
    {
     "data": {
      "text/plain": [
       "array([[ 1,  2,  3,  4],\n",
       "       [ 8,  9, 10, 11]])"
      ]
     },
     "execution_count": 14,
     "metadata": {},
     "output_type": "execute_result"
    }
   ],
   "source": [
    "arr1"
   ]
  },
  {
   "cell_type": "code",
   "execution_count": 15,
   "id": "69816e32-06de-496a-95e5-297a1dc182b9",
   "metadata": {},
   "outputs": [
    {
     "data": {
      "text/plain": [
       "array([[  1,   4,   9,  16],\n",
       "       [ 64,  81, 100, 121]])"
      ]
     },
     "execution_count": 15,
     "metadata": {},
     "output_type": "execute_result"
    }
   ],
   "source": [
    "arr1 * arr1"
   ]
  },
  {
   "cell_type": "code",
   "execution_count": 17,
   "id": "cd22e9f5-77c9-4490-87ba-892a393b654f",
   "metadata": {},
   "outputs": [
    {
     "data": {
      "text/plain": [
       "array([[  1,   4,   9,  16],\n",
       "       [ 64,  81, 100, 121]])"
      ]
     },
     "execution_count": 17,
     "metadata": {},
     "output_type": "execute_result"
    }
   ],
   "source": [
    "arr1 ** 2"
   ]
  },
  {
   "cell_type": "code",
   "execution_count": 18,
   "id": "57d27c33-8d39-4f22-bba4-6d2b6bc8e7df",
   "metadata": {},
   "outputs": [
    {
     "data": {
      "text/plain": [
       "array([[0.5, 1. , 1.5, 2. ],\n",
       "       [4. , 4.5, 5. , 5.5]])"
      ]
     },
     "execution_count": 18,
     "metadata": {},
     "output_type": "execute_result"
    }
   ],
   "source": [
    "arr1 / 2"
   ]
  },
  {
   "cell_type": "code",
   "execution_count": 19,
   "id": "26ad5b97-aee3-482e-aef9-8a296bb22f48",
   "metadata": {},
   "outputs": [
    {
     "data": {
      "text/plain": [
       "array([[ 2,  3,  4,  5],\n",
       "       [ 9, 10, 11, 12]])"
      ]
     },
     "execution_count": 19,
     "metadata": {},
     "output_type": "execute_result"
    }
   ],
   "source": [
    "arr1 + 1 #各要素の足し算になる（ブロードキャスト）"
   ]
  },
  {
   "cell_type": "code",
   "execution_count": 21,
   "id": "f86772d0-f55c-4b6a-9bb6-615327067ebc",
   "metadata": {},
   "outputs": [
    {
     "data": {
      "text/plain": [
       "array([[ 2,  4,  6,  8],\n",
       "       [16, 18, 20, 22]])"
      ]
     },
     "execution_count": 21,
     "metadata": {},
     "output_type": "execute_result"
    }
   ],
   "source": [
    "arr1 * 2"
   ]
  },
  {
   "cell_type": "code",
   "execution_count": null,
   "id": "a8dbf379-bfbf-4e97-8943-8b889acb9d23",
   "metadata": {},
   "outputs": [],
   "source": []
  },
  {
   "cell_type": "code",
   "execution_count": null,
   "id": "5b85f0d6-41e9-48f4-a4e0-0c699ee0f420",
   "metadata": {},
   "outputs": [],
   "source": []
  },
  {
   "cell_type": "code",
   "execution_count": null,
   "id": "f02eb6a5-4fb7-4fbb-973c-8ee7db0c1f6f",
   "metadata": {},
   "outputs": [],
   "source": []
  }
 ],
 "metadata": {
  "kernelspec": {
   "display_name": "Python 3 (ipykernel)",
   "language": "python",
   "name": "python3"
  },
  "language_info": {
   "codemirror_mode": {
    "name": "ipython",
    "version": 3
   },
   "file_extension": ".py",
   "mimetype": "text/x-python",
   "name": "python",
   "nbconvert_exporter": "python",
   "pygments_lexer": "ipython3",
   "version": "3.9.13"
  }
 },
 "nbformat": 4,
 "nbformat_minor": 5
}
