{
 "cells": [
  {
   "cell_type": "markdown",
   "id": "467edcf0-4a12-4728-9b1c-d31c0527f1a1",
   "metadata": {},
   "source": [
    "# numpy 基本的な使い方\n",
    "\n",
    "JupyterLabのメニューにある「Help」-> 「Numpy Reference」があるので、そちらも参照すること\n",
    "\n",
    "## インポート\n",
    "\n",
    "いつものやつ"
   ]
  },
  {
   "cell_type": "code",
   "execution_count": 2,
   "id": "1493c38c-ae26-4390-be2a-799c78250007",
   "metadata": {},
   "outputs": [],
   "source": [
    "import numpy as np"
   ]
  },
  {
   "cell_type": "markdown",
   "id": "938aa3f1-d491-46af-a9a6-6de8fa266fdd",
   "metadata": {},
   "source": [
    "## リストの作り方\n",
    "\n",
    "こちらもいつものやつ。np.arrayを使うだけ"
   ]
  },
  {
   "cell_type": "code",
   "execution_count": 2,
   "id": "847d7cce-0d8d-4c4e-b261-5c8cfba28983",
   "metadata": {},
   "outputs": [],
   "source": [
    "np_list = np.array([1,2,3,4])"
   ]
  },
  {
   "cell_type": "code",
   "execution_count": 3,
   "id": "8225c32b-1805-4040-bc89-d9185b6b4a00",
   "metadata": {},
   "outputs": [
    {
     "data": {
      "text/plain": [
       "array([1, 2, 3, 4])"
      ]
     },
     "execution_count": 3,
     "metadata": {},
     "output_type": "execute_result"
    }
   ],
   "source": [
    "np_list"
   ]
  },
  {
   "cell_type": "markdown",
   "id": "6d80fa18-b056-4712-a8f7-3ec022afdaf4",
   "metadata": {},
   "source": [
    "## データの結合\n",
    "\n",
    "リストと同様にくっつけて、np.arrayで定義すれば結合可能"
   ]
  },
  {
   "cell_type": "code",
   "execution_count": 4,
   "id": "fb447dcc-e102-429e-947c-81baf5db2390",
   "metadata": {},
   "outputs": [],
   "source": [
    "my_list2 = [11,22,33,44]\n",
    "my_lists = [np_list,my_list2]"
   ]
  },
  {
   "cell_type": "code",
   "execution_count": 5,
   "id": "8abe767a-4501-473b-ba48-f4fd91728f9d",
   "metadata": {},
   "outputs": [
    {
     "data": {
      "text/plain": [
       "[array([1, 2, 3, 4]), [11, 22, 33, 44]]"
      ]
     },
     "execution_count": 5,
     "metadata": {},
     "output_type": "execute_result"
    }
   ],
   "source": [
    "my_lists"
   ]
  },
  {
   "cell_type": "code",
   "execution_count": 6,
   "id": "1e2bca05-90fe-4feb-9706-ddf85ed31160",
   "metadata": {},
   "outputs": [],
   "source": [
    "np_lists = np.array(my_lists) #複数のリストをまとめるパターン"
   ]
  },
  {
   "cell_type": "code",
   "execution_count": 7,
   "id": "662e64cf-290d-4357-b89c-4bfc2c9ed558",
   "metadata": {},
   "outputs": [
    {
     "data": {
      "text/plain": [
       "array([[ 1,  2,  3,  4],\n",
       "       [11, 22, 33, 44]])"
      ]
     },
     "execution_count": 7,
     "metadata": {},
     "output_type": "execute_result"
    }
   ],
   "source": [
    "np_lists"
   ]
  },
  {
   "cell_type": "code",
   "execution_count": 8,
   "id": "62d9dadc-bf09-48a3-a178-a4d1756f8a94",
   "metadata": {},
   "outputs": [
    {
     "data": {
      "text/plain": [
       "array([0., 0., 0., 0., 0.])"
      ]
     },
     "execution_count": 8,
     "metadata": {},
     "output_type": "execute_result"
    }
   ],
   "source": [
    "np.zeros(5)"
   ]
  },
  {
   "cell_type": "code",
   "execution_count": 9,
   "id": "918949d8-389e-43e3-a1b6-362966ff75a0",
   "metadata": {},
   "outputs": [
    {
     "data": {
      "text/plain": [
       "dtype('float64')"
      ]
     },
     "execution_count": 9,
     "metadata": {},
     "output_type": "execute_result"
    }
   ],
   "source": [
    "np.zeros(5).dtype #dtypeで型出力"
   ]
  },
  {
   "cell_type": "markdown",
   "id": "b46c20c2-44e6-4df5-9a09-42ae083d79b0",
   "metadata": {},
   "source": [
    "## 単位行列\n",
    "\n",
    "対角成分が1のやつ。np.eyeで作成できる"
   ]
  },
  {
   "cell_type": "code",
   "execution_count": 10,
   "id": "bfe8f598-4b5e-47be-adf0-17c038c0e1bf",
   "metadata": {},
   "outputs": [
    {
     "data": {
      "text/plain": [
       "array([[1., 0., 0., 0., 0.],\n",
       "       [0., 1., 0., 0., 0.],\n",
       "       [0., 0., 1., 0., 0.],\n",
       "       [0., 0., 0., 1., 0.],\n",
       "       [0., 0., 0., 0., 1.]])"
      ]
     },
     "execution_count": 10,
     "metadata": {},
     "output_type": "execute_result"
    }
   ],
   "source": [
    "np.eye(5)"
   ]
  },
  {
   "cell_type": "markdown",
   "id": "7610d3c8-50a2-40f4-9482-0fe6b7ecff19",
   "metadata": {},
   "source": [
    "# 計算\n",
    "\n",
    "通常の四則演算が可能 面倒だし説明は省略"
   ]
  },
  {
   "cell_type": "code",
   "execution_count": 11,
   "id": "79a1f535-da63-4d1c-bf85-db3db6fa5dd2",
   "metadata": {},
   "outputs": [
    {
     "data": {
      "text/plain": [
       "2.5"
      ]
     },
     "execution_count": 11,
     "metadata": {},
     "output_type": "execute_result"
    }
   ],
   "source": [
    "5/2"
   ]
  },
  {
   "cell_type": "code",
   "execution_count": 12,
   "id": "c82c8fac-4499-491e-9155-3af21e6ded6f",
   "metadata": {},
   "outputs": [],
   "source": [
    "arr1 = np.array([[1,2,3,4],[8,9,10,11]])"
   ]
  },
  {
   "cell_type": "code",
   "execution_count": 13,
   "id": "b7d07c6a-1ff3-4112-a0cf-0c29bb5942b5",
   "metadata": {},
   "outputs": [
    {
     "data": {
      "text/plain": [
       "array([[ 1,  2,  3,  4],\n",
       "       [ 8,  9, 10, 11]])"
      ]
     },
     "execution_count": 13,
     "metadata": {},
     "output_type": "execute_result"
    }
   ],
   "source": [
    "arr1"
   ]
  },
  {
   "cell_type": "code",
   "execution_count": 14,
   "id": "69816e32-06de-496a-95e5-297a1dc182b9",
   "metadata": {},
   "outputs": [
    {
     "data": {
      "text/plain": [
       "array([[  1,   4,   9,  16],\n",
       "       [ 64,  81, 100, 121]])"
      ]
     },
     "execution_count": 14,
     "metadata": {},
     "output_type": "execute_result"
    }
   ],
   "source": [
    "arr1 * arr1"
   ]
  },
  {
   "cell_type": "code",
   "execution_count": 15,
   "id": "cd22e9f5-77c9-4490-87ba-892a393b654f",
   "metadata": {},
   "outputs": [
    {
     "data": {
      "text/plain": [
       "array([[  1,   4,   9,  16],\n",
       "       [ 64,  81, 100, 121]])"
      ]
     },
     "execution_count": 15,
     "metadata": {},
     "output_type": "execute_result"
    }
   ],
   "source": [
    "arr1 ** 2"
   ]
  },
  {
   "cell_type": "code",
   "execution_count": 16,
   "id": "57d27c33-8d39-4f22-bba4-6d2b6bc8e7df",
   "metadata": {},
   "outputs": [
    {
     "data": {
      "text/plain": [
       "array([[0.5, 1. , 1.5, 2. ],\n",
       "       [4. , 4.5, 5. , 5.5]])"
      ]
     },
     "execution_count": 16,
     "metadata": {},
     "output_type": "execute_result"
    }
   ],
   "source": [
    "arr1 / 2"
   ]
  },
  {
   "cell_type": "code",
   "execution_count": 17,
   "id": "26ad5b97-aee3-482e-aef9-8a296bb22f48",
   "metadata": {},
   "outputs": [
    {
     "data": {
      "text/plain": [
       "array([[ 2,  3,  4,  5],\n",
       "       [ 9, 10, 11, 12]])"
      ]
     },
     "execution_count": 17,
     "metadata": {},
     "output_type": "execute_result"
    }
   ],
   "source": [
    "arr1 + 1 #各要素の足し算になる（ブロードキャスト）"
   ]
  },
  {
   "cell_type": "code",
   "execution_count": 18,
   "id": "f86772d0-f55c-4b6a-9bb6-615327067ebc",
   "metadata": {},
   "outputs": [
    {
     "data": {
      "text/plain": [
       "array([[ 2,  4,  6,  8],\n",
       "       [16, 18, 20, 22]])"
      ]
     },
     "execution_count": 18,
     "metadata": {},
     "output_type": "execute_result"
    }
   ],
   "source": [
    "arr1 * 2"
   ]
  },
  {
   "cell_type": "markdown",
   "id": "ba0a2af0-2bc5-4957-8845-b0a5759bf781",
   "metadata": {},
   "source": [
    "## 添え字アクセス\n",
    "リストと同様なアクセスが可能。\n",
    "python特有の機能として、=は参照なのに注意。\n",
    "別変数として扱いたいのであれば、「copy()]メソッドを使うこと"
   ]
  },
  {
   "cell_type": "code",
   "execution_count": 19,
   "id": "5b85f0d6-41e9-48f4-a4e0-0c699ee0f420",
   "metadata": {},
   "outputs": [],
   "source": [
    "arr = np.arange(1,11)"
   ]
  },
  {
   "cell_type": "code",
   "execution_count": 20,
   "id": "f02eb6a5-4fb7-4fbb-973c-8ee7db0c1f6f",
   "metadata": {},
   "outputs": [
    {
     "data": {
      "text/plain": [
       "array([ 1,  2,  3,  4,  5,  6,  7,  8,  9, 10])"
      ]
     },
     "execution_count": 20,
     "metadata": {},
     "output_type": "execute_result"
    }
   ],
   "source": [
    "arr"
   ]
  },
  {
   "cell_type": "code",
   "execution_count": 21,
   "id": "3a829205-23e0-46e0-ac93-110e04f3ea89",
   "metadata": {},
   "outputs": [
    {
     "data": {
      "text/plain": [
       "array([2, 3, 4, 5])"
      ]
     },
     "execution_count": 21,
     "metadata": {},
     "output_type": "execute_result"
    }
   ],
   "source": [
    "arr[1:5] #添え字は0始まり"
   ]
  },
  {
   "cell_type": "code",
   "execution_count": 22,
   "id": "aa6a8853-dbdd-435d-9f25-ba25b0622ad6",
   "metadata": {},
   "outputs": [],
   "source": [
    "arr[0:4] = 100"
   ]
  },
  {
   "cell_type": "code",
   "execution_count": 23,
   "id": "292c1395-36fb-470b-99d5-b8a9115d7012",
   "metadata": {},
   "outputs": [
    {
     "data": {
      "text/plain": [
       "array([100, 100, 100, 100,   5,   6,   7,   8,   9,  10])"
      ]
     },
     "execution_count": 23,
     "metadata": {},
     "output_type": "execute_result"
    }
   ],
   "source": [
    "arr"
   ]
  },
  {
   "cell_type": "code",
   "execution_count": 24,
   "id": "491bb2ff-a71c-4b25-830d-bf160ad25081",
   "metadata": {},
   "outputs": [],
   "source": [
    "arr = np.arange(0,11)"
   ]
  },
  {
   "cell_type": "code",
   "execution_count": 25,
   "id": "835d48db-ae57-4749-b1c5-bbbf9cb60e93",
   "metadata": {},
   "outputs": [
    {
     "data": {
      "text/plain": [
       "array([ 0,  1,  2,  3,  4,  5,  6,  7,  8,  9, 10])"
      ]
     },
     "execution_count": 25,
     "metadata": {},
     "output_type": "execute_result"
    }
   ],
   "source": [
    "arr"
   ]
  },
  {
   "cell_type": "code",
   "execution_count": 26,
   "id": "f6dc032b-fee1-45e9-ae74-909533b614cf",
   "metadata": {},
   "outputs": [],
   "source": [
    "slice_arr = arr[0:6] #あくまでpythonは参照繋がりであることに注意。この場合、arr[0:6]に紐づかれる"
   ]
  },
  {
   "cell_type": "code",
   "execution_count": 27,
   "id": "e76e66bb-28f8-4edf-b108-a5888f00bf1a",
   "metadata": {},
   "outputs": [],
   "source": [
    "slice_arr[:]= 999 # arr[0:6]に999を入れるのと同義となる"
   ]
  },
  {
   "cell_type": "code",
   "execution_count": 28,
   "id": "b421b667-d59b-4d22-9de1-329652b8e1ff",
   "metadata": {},
   "outputs": [
    {
     "data": {
      "text/plain": [
       "array([999, 999, 999, 999, 999, 999,   6,   7,   8,   9,  10])"
      ]
     },
     "execution_count": 28,
     "metadata": {},
     "output_type": "execute_result"
    }
   ],
   "source": [
    "arr"
   ]
  },
  {
   "cell_type": "code",
   "execution_count": 29,
   "id": "3aaa83e6-8b71-436a-b512-9e7ad05035c1",
   "metadata": {},
   "outputs": [],
   "source": [
    "copy_arr = arr.copy() #こちらはコピー。元のarrとは繋がらない"
   ]
  },
  {
   "cell_type": "code",
   "execution_count": 30,
   "id": "1b869d68-e710-40a9-990e-2f27a553f2ab",
   "metadata": {},
   "outputs": [],
   "source": [
    "copy_arr[:] = 55"
   ]
  },
  {
   "cell_type": "code",
   "execution_count": 31,
   "id": "8b98124d-3895-41a9-803f-c50a3278e193",
   "metadata": {},
   "outputs": [
    {
     "data": {
      "text/plain": [
       "array([999, 999, 999, 999, 999, 999,   6,   7,   8,   9,  10])"
      ]
     },
     "execution_count": 31,
     "metadata": {},
     "output_type": "execute_result"
    }
   ],
   "source": [
    "arr"
   ]
  },
  {
   "cell_type": "code",
   "execution_count": 32,
   "id": "2b4d2196-129d-4d32-bb5e-93c28be9128a",
   "metadata": {},
   "outputs": [],
   "source": [
    "# 2次元版\n",
    "arr_2d = np.array([[5,10,15],[20,25,30],[35,40,45]])"
   ]
  },
  {
   "cell_type": "code",
   "execution_count": 33,
   "id": "dbdc0ddc-d837-489a-9bb6-dc83f81529a2",
   "metadata": {},
   "outputs": [
    {
     "data": {
      "text/plain": [
       "array([20, 25, 30])"
      ]
     },
     "execution_count": 33,
     "metadata": {},
     "output_type": "execute_result"
    }
   ],
   "source": [
    "arr_2d[1] #0始まりなので、2行目が出力"
   ]
  },
  {
   "cell_type": "code",
   "execution_count": 34,
   "id": "7a023e9e-5082-4bca-8fc0-03520de6150d",
   "metadata": {},
   "outputs": [
    {
     "data": {
      "text/plain": [
       "20"
      ]
     },
     "execution_count": 34,
     "metadata": {},
     "output_type": "execute_result"
    }
   ],
   "source": [
    "arr_2d[1,0] #2行目1列目"
   ]
  },
  {
   "cell_type": "code",
   "execution_count": 35,
   "id": "535dc1c1-7fe3-46cb-8b56-0810cdb59491",
   "metadata": {},
   "outputs": [
    {
     "data": {
      "text/plain": [
       "array([35, 40, 45])"
      ]
     },
     "execution_count": 35,
     "metadata": {},
     "output_type": "execute_result"
    }
   ],
   "source": [
    "arr_2d[2,:] #3行目、列すべて"
   ]
  },
  {
   "cell_type": "code",
   "execution_count": 36,
   "id": "ee693466-3ddd-404d-a4d9-1ed25ad8e785",
   "metadata": {},
   "outputs": [],
   "source": [
    "arr_2d = np.zeros((10,20)) "
   ]
  },
  {
   "cell_type": "code",
   "execution_count": 37,
   "id": "a370b617-578d-4670-9d1c-421f2e2fe7ed",
   "metadata": {},
   "outputs": [
    {
     "data": {
      "text/plain": [
       "array([[0., 0., 0., 0., 0., 0., 0., 0., 0., 0., 0., 0., 0., 0., 0., 0.,\n",
       "        0., 0., 0., 0.],\n",
       "       [0., 0., 0., 0., 0., 0., 0., 0., 0., 0., 0., 0., 0., 0., 0., 0.,\n",
       "        0., 0., 0., 0.],\n",
       "       [0., 0., 0., 0., 0., 0., 0., 0., 0., 0., 0., 0., 0., 0., 0., 0.,\n",
       "        0., 0., 0., 0.],\n",
       "       [0., 0., 0., 0., 0., 0., 0., 0., 0., 0., 0., 0., 0., 0., 0., 0.,\n",
       "        0., 0., 0., 0.],\n",
       "       [0., 0., 0., 0., 0., 0., 0., 0., 0., 0., 0., 0., 0., 0., 0., 0.,\n",
       "        0., 0., 0., 0.],\n",
       "       [0., 0., 0., 0., 0., 0., 0., 0., 0., 0., 0., 0., 0., 0., 0., 0.,\n",
       "        0., 0., 0., 0.],\n",
       "       [0., 0., 0., 0., 0., 0., 0., 0., 0., 0., 0., 0., 0., 0., 0., 0.,\n",
       "        0., 0., 0., 0.],\n",
       "       [0., 0., 0., 0., 0., 0., 0., 0., 0., 0., 0., 0., 0., 0., 0., 0.,\n",
       "        0., 0., 0., 0.],\n",
       "       [0., 0., 0., 0., 0., 0., 0., 0., 0., 0., 0., 0., 0., 0., 0., 0.,\n",
       "        0., 0., 0., 0.],\n",
       "       [0., 0., 0., 0., 0., 0., 0., 0., 0., 0., 0., 0., 0., 0., 0., 0.,\n",
       "        0., 0., 0., 0.]])"
      ]
     },
     "execution_count": 37,
     "metadata": {},
     "output_type": "execute_result"
    }
   ],
   "source": [
    "arr_2d"
   ]
  },
  {
   "cell_type": "code",
   "execution_count": 38,
   "id": "4051a26f-6949-4286-b3c5-2c93f7266d15",
   "metadata": {},
   "outputs": [
    {
     "name": "stdout",
     "output_type": "stream",
     "text": [
      "行: 10\n",
      "列: 20\n"
     ]
    }
   ],
   "source": [
    "#次元が大きい順からaxisが割り当てられる 2次元ならshape[0]:axis=0(縦方向)で数えるので行数 、shape[1]:axis=1(横方向)で数えるので列数になる\n",
    "print(\"行:\",arr_2d.shape[0])\n",
    "print(\"列:\",arr_2d.shape[1])\n",
    "\n",
    "for i in range(arr_2d.shape[0]): #shape[0]なので縦10で徹\n",
    "    arr_2d[i] = i"
   ]
  },
  {
   "cell_type": "code",
   "execution_count": 39,
   "id": "26b49391-8c1d-445e-8302-d36b31f40ce7",
   "metadata": {},
   "outputs": [
    {
     "data": {
      "text/plain": [
       "array([[0., 0., 0., 0., 0., 0., 0., 0., 0., 0., 0., 0., 0., 0., 0., 0.,\n",
       "        0., 0., 0., 0.],\n",
       "       [1., 1., 1., 1., 1., 1., 1., 1., 1., 1., 1., 1., 1., 1., 1., 1.,\n",
       "        1., 1., 1., 1.],\n",
       "       [2., 2., 2., 2., 2., 2., 2., 2., 2., 2., 2., 2., 2., 2., 2., 2.,\n",
       "        2., 2., 2., 2.],\n",
       "       [3., 3., 3., 3., 3., 3., 3., 3., 3., 3., 3., 3., 3., 3., 3., 3.,\n",
       "        3., 3., 3., 3.],\n",
       "       [4., 4., 4., 4., 4., 4., 4., 4., 4., 4., 4., 4., 4., 4., 4., 4.,\n",
       "        4., 4., 4., 4.],\n",
       "       [5., 5., 5., 5., 5., 5., 5., 5., 5., 5., 5., 5., 5., 5., 5., 5.,\n",
       "        5., 5., 5., 5.],\n",
       "       [6., 6., 6., 6., 6., 6., 6., 6., 6., 6., 6., 6., 6., 6., 6., 6.,\n",
       "        6., 6., 6., 6.],\n",
       "       [7., 7., 7., 7., 7., 7., 7., 7., 7., 7., 7., 7., 7., 7., 7., 7.,\n",
       "        7., 7., 7., 7.],\n",
       "       [8., 8., 8., 8., 8., 8., 8., 8., 8., 8., 8., 8., 8., 8., 8., 8.,\n",
       "        8., 8., 8., 8.],\n",
       "       [9., 9., 9., 9., 9., 9., 9., 9., 9., 9., 9., 9., 9., 9., 9., 9.,\n",
       "        9., 9., 9., 9.]])"
      ]
     },
     "execution_count": 39,
     "metadata": {},
     "output_type": "execute_result"
    }
   ],
   "source": [
    "arr_2d"
   ]
  },
  {
   "cell_type": "markdown",
   "id": "b9dd3541-a2bf-4eaa-8dee-dd5a6d86414f",
   "metadata": {},
   "source": [
    "# 行列入れ替え\n",
    "\n",
    "転置のやつ。.Tで出来る(transpose)"
   ]
  },
  {
   "cell_type": "code",
   "execution_count": 40,
   "id": "43a1876c-32b6-4907-af11-b7025791565b",
   "metadata": {},
   "outputs": [],
   "source": [
    "arr = np.arange(9).reshape(3,3)"
   ]
  },
  {
   "cell_type": "code",
   "execution_count": 41,
   "id": "5c80f402-a441-41d9-b756-779654cadf14",
   "metadata": {},
   "outputs": [
    {
     "data": {
      "text/plain": [
       "array([[0, 1, 2],\n",
       "       [3, 4, 5],\n",
       "       [6, 7, 8]])"
      ]
     },
     "execution_count": 41,
     "metadata": {},
     "output_type": "execute_result"
    }
   ],
   "source": [
    "arr"
   ]
  },
  {
   "cell_type": "code",
   "execution_count": 42,
   "id": "706b5d9e-6b81-4809-9e2d-3cd29d2c34b4",
   "metadata": {},
   "outputs": [
    {
     "data": {
      "text/plain": [
       "array([[0, 3, 6],\n",
       "       [1, 4, 7],\n",
       "       [2, 5, 8]])"
      ]
     },
     "execution_count": 42,
     "metadata": {},
     "output_type": "execute_result"
    }
   ],
   "source": [
    "arr.T"
   ]
  },
  {
   "cell_type": "code",
   "execution_count": 43,
   "id": "7600516f-ed31-46ff-a78c-3a9cf84285b7",
   "metadata": {},
   "outputs": [
    {
     "data": {
      "text/plain": [
       "array([[0, 3, 6],\n",
       "       [1, 4, 7],\n",
       "       [2, 5, 8]])"
      ]
     },
     "execution_count": 43,
     "metadata": {},
     "output_type": "execute_result"
    }
   ],
   "source": [
    "arr.transpose(1,0) #行列の入れ替え axis=0とaxis=1を入れ替えてるだけなので、転置とやっていることは同じ"
   ]
  },
  {
   "cell_type": "markdown",
   "id": "80a6822b-02d3-4a64-903e-75ee430ee9f6",
   "metadata": {},
   "source": [
    "# arrayの計算\n",
    "\n",
    "numpyで提供されている行列計算など"
   ]
  },
  {
   "cell_type": "code",
   "execution_count": 44,
   "id": "24f81420-c52c-48d0-a56a-cc727a51a084",
   "metadata": {},
   "outputs": [],
   "source": [
    "arr = np.arange(11)"
   ]
  },
  {
   "cell_type": "code",
   "execution_count": 45,
   "id": "08bcce56-7d40-4d91-9da8-1c03e7cb593c",
   "metadata": {},
   "outputs": [
    {
     "data": {
      "text/plain": [
       "array([ 0,  1,  2,  3,  4,  5,  6,  7,  8,  9, 10])"
      ]
     },
     "execution_count": 45,
     "metadata": {},
     "output_type": "execute_result"
    }
   ],
   "source": [
    "arr"
   ]
  },
  {
   "cell_type": "code",
   "execution_count": 46,
   "id": "5ae648b3-4a67-4e61-b5af-017d96acda38",
   "metadata": {},
   "outputs": [
    {
     "data": {
      "text/plain": [
       "array([0.        , 1.        , 1.41421356, 1.73205081, 2.        ,\n",
       "       2.23606798, 2.44948974, 2.64575131, 2.82842712, 3.        ,\n",
       "       3.16227766])"
      ]
     },
     "execution_count": 46,
     "metadata": {},
     "output_type": "execute_result"
    }
   ],
   "source": [
    "# 平方根\n",
    "np.sqrt(arr)"
   ]
  },
  {
   "cell_type": "code",
   "execution_count": 47,
   "id": "2fa95398-d350-4217-80da-e9ae0a11089b",
   "metadata": {},
   "outputs": [
    {
     "data": {
      "text/plain": [
       "array([1.00000000e+00, 2.71828183e+00, 7.38905610e+00, 2.00855369e+01,\n",
       "       5.45981500e+01, 1.48413159e+02, 4.03428793e+02, 1.09663316e+03,\n",
       "       2.98095799e+03, 8.10308393e+03, 2.20264658e+04])"
      ]
     },
     "execution_count": 47,
     "metadata": {},
     "output_type": "execute_result"
    }
   ],
   "source": [
    "# exp\n",
    "np.exp(arr)"
   ]
  },
  {
   "cell_type": "code",
   "execution_count": 48,
   "id": "dad52638-73c8-408c-a4b7-aa5ca12de28b",
   "metadata": {},
   "outputs": [],
   "source": [
    "# ランダム値  平均0標準偏差1の正規分布の乱数配列\n",
    "A = np.random.randn(10) #引数は個数"
   ]
  },
  {
   "cell_type": "code",
   "execution_count": 49,
   "id": "0140ac42-8001-40e0-8fc3-6e0c826e20fa",
   "metadata": {},
   "outputs": [
    {
     "data": {
      "text/plain": [
       "array([ 0.48995964,  0.55021668,  0.56336291,  0.73519122, -1.55457195,\n",
       "       -0.66362622, -0.34719241, -0.31129952, -0.56281184,  1.08572201])"
      ]
     },
     "execution_count": 49,
     "metadata": {},
     "output_type": "execute_result"
    }
   ],
   "source": [
    "A"
   ]
  },
  {
   "cell_type": "code",
   "execution_count": 50,
   "id": "ab61bfd6-46e1-426a-8355-3d8c5e1fb560",
   "metadata": {},
   "outputs": [],
   "source": [
    "B= np.random.randn(10) #引数は個数"
   ]
  },
  {
   "cell_type": "code",
   "execution_count": 51,
   "id": "024d3516-5a60-442e-b719-a6c35cfd29a8",
   "metadata": {},
   "outputs": [
    {
     "data": {
      "text/plain": [
       "array([ 9.81850079e-01, -1.06932793e-01,  6.81485284e-01, -4.10001576e-01,\n",
       "       -6.49670353e-01,  6.64562347e-02,  1.13952435e+00,  4.98778174e-04,\n",
       "       -1.21323152e+00,  1.23670282e-01])"
      ]
     },
     "execution_count": 51,
     "metadata": {},
     "output_type": "execute_result"
    }
   ],
   "source": [
    "B"
   ]
  },
  {
   "cell_type": "code",
   "execution_count": 52,
   "id": "481390cc-c24d-4679-aa8c-f28b3fb6bac3",
   "metadata": {},
   "outputs": [
    {
     "data": {
      "text/plain": [
       "array([ 1.47180972,  0.44328388,  1.24484819,  0.32518964, -2.2042423 ,\n",
       "       -0.59716998,  0.79233194, -0.31080074, -1.77604336,  1.20939229])"
      ]
     },
     "execution_count": 52,
     "metadata": {},
     "output_type": "execute_result"
    }
   ],
   "source": [
    "# 各要素の和\n",
    "np.add(A,B)"
   ]
  },
  {
   "cell_type": "code",
   "execution_count": 53,
   "id": "ee5d74d6-cd6b-4092-9e63-65a30874ee43",
   "metadata": {},
   "outputs": [
    {
     "data": {
      "text/plain": [
       "array([ 9.81850079e-01,  5.50216675e-01,  6.81485284e-01,  7.35191220e-01,\n",
       "       -6.49670353e-01,  6.64562347e-02,  1.13952435e+00,  4.98778174e-04,\n",
       "       -5.62811840e-01,  1.08572201e+00])"
      ]
     },
     "execution_count": 53,
     "metadata": {},
     "output_type": "execute_result"
    }
   ],
   "source": [
    "# 各要素の最大値を抽出\n",
    "np.maximum(A,B)"
   ]
  },
  {
   "cell_type": "markdown",
   "id": "a9b53291-9fde-4eef-b91e-00a3197fee75",
   "metadata": {},
   "source": [
    "# arrayを使ったデータ処理\n",
    "\n",
    "matplotlibなどを使った簡単なデータ可視化"
   ]
  },
  {
   "cell_type": "code",
   "execution_count": 54,
   "id": "a581c5ca-9174-48d9-9d5d-210d394a7767",
   "metadata": {},
   "outputs": [],
   "source": [
    "import numpy as np\n",
    "import matplotlib.pyplot as plt"
   ]
  },
  {
   "cell_type": "code",
   "execution_count": 57,
   "id": "a19d3b69-3c49-431f-84c1-84a0f77f214c",
   "metadata": {},
   "outputs": [],
   "source": [
    "points = np.arange(-5,5,0.05)"
   ]
  },
  {
   "cell_type": "code",
   "execution_count": 58,
   "id": "63dc0b18-17bd-4195-86f8-2950cc3880dc",
   "metadata": {},
   "outputs": [
    {
     "data": {
      "text/plain": [
       "array([-5.00000000e+00, -4.95000000e+00, -4.90000000e+00, -4.85000000e+00,\n",
       "       -4.80000000e+00, -4.75000000e+00, -4.70000000e+00, -4.65000000e+00,\n",
       "       -4.60000000e+00, -4.55000000e+00, -4.50000000e+00, -4.45000000e+00,\n",
       "       -4.40000000e+00, -4.35000000e+00, -4.30000000e+00, -4.25000000e+00,\n",
       "       -4.20000000e+00, -4.15000000e+00, -4.10000000e+00, -4.05000000e+00,\n",
       "       -4.00000000e+00, -3.95000000e+00, -3.90000000e+00, -3.85000000e+00,\n",
       "       -3.80000000e+00, -3.75000000e+00, -3.70000000e+00, -3.65000000e+00,\n",
       "       -3.60000000e+00, -3.55000000e+00, -3.50000000e+00, -3.45000000e+00,\n",
       "       -3.40000000e+00, -3.35000000e+00, -3.30000000e+00, -3.25000000e+00,\n",
       "       -3.20000000e+00, -3.15000000e+00, -3.10000000e+00, -3.05000000e+00,\n",
       "       -3.00000000e+00, -2.95000000e+00, -2.90000000e+00, -2.85000000e+00,\n",
       "       -2.80000000e+00, -2.75000000e+00, -2.70000000e+00, -2.65000000e+00,\n",
       "       -2.60000000e+00, -2.55000000e+00, -2.50000000e+00, -2.45000000e+00,\n",
       "       -2.40000000e+00, -2.35000000e+00, -2.30000000e+00, -2.25000000e+00,\n",
       "       -2.20000000e+00, -2.15000000e+00, -2.10000000e+00, -2.05000000e+00,\n",
       "       -2.00000000e+00, -1.95000000e+00, -1.90000000e+00, -1.85000000e+00,\n",
       "       -1.80000000e+00, -1.75000000e+00, -1.70000000e+00, -1.65000000e+00,\n",
       "       -1.60000000e+00, -1.55000000e+00, -1.50000000e+00, -1.45000000e+00,\n",
       "       -1.40000000e+00, -1.35000000e+00, -1.30000000e+00, -1.25000000e+00,\n",
       "       -1.20000000e+00, -1.15000000e+00, -1.10000000e+00, -1.05000000e+00,\n",
       "       -1.00000000e+00, -9.50000000e-01, -9.00000000e-01, -8.50000000e-01,\n",
       "       -8.00000000e-01, -7.50000000e-01, -7.00000000e-01, -6.50000000e-01,\n",
       "       -6.00000000e-01, -5.50000000e-01, -5.00000000e-01, -4.50000000e-01,\n",
       "       -4.00000000e-01, -3.50000000e-01, -3.00000000e-01, -2.50000000e-01,\n",
       "       -2.00000000e-01, -1.50000000e-01, -1.00000000e-01, -5.00000000e-02,\n",
       "       -1.77635684e-14,  5.00000000e-02,  1.00000000e-01,  1.50000000e-01,\n",
       "        2.00000000e-01,  2.50000000e-01,  3.00000000e-01,  3.50000000e-01,\n",
       "        4.00000000e-01,  4.50000000e-01,  5.00000000e-01,  5.50000000e-01,\n",
       "        6.00000000e-01,  6.50000000e-01,  7.00000000e-01,  7.50000000e-01,\n",
       "        8.00000000e-01,  8.50000000e-01,  9.00000000e-01,  9.50000000e-01,\n",
       "        1.00000000e+00,  1.05000000e+00,  1.10000000e+00,  1.15000000e+00,\n",
       "        1.20000000e+00,  1.25000000e+00,  1.30000000e+00,  1.35000000e+00,\n",
       "        1.40000000e+00,  1.45000000e+00,  1.50000000e+00,  1.55000000e+00,\n",
       "        1.60000000e+00,  1.65000000e+00,  1.70000000e+00,  1.75000000e+00,\n",
       "        1.80000000e+00,  1.85000000e+00,  1.90000000e+00,  1.95000000e+00,\n",
       "        2.00000000e+00,  2.05000000e+00,  2.10000000e+00,  2.15000000e+00,\n",
       "        2.20000000e+00,  2.25000000e+00,  2.30000000e+00,  2.35000000e+00,\n",
       "        2.40000000e+00,  2.45000000e+00,  2.50000000e+00,  2.55000000e+00,\n",
       "        2.60000000e+00,  2.65000000e+00,  2.70000000e+00,  2.75000000e+00,\n",
       "        2.80000000e+00,  2.85000000e+00,  2.90000000e+00,  2.95000000e+00,\n",
       "        3.00000000e+00,  3.05000000e+00,  3.10000000e+00,  3.15000000e+00,\n",
       "        3.20000000e+00,  3.25000000e+00,  3.30000000e+00,  3.35000000e+00,\n",
       "        3.40000000e+00,  3.45000000e+00,  3.50000000e+00,  3.55000000e+00,\n",
       "        3.60000000e+00,  3.65000000e+00,  3.70000000e+00,  3.75000000e+00,\n",
       "        3.80000000e+00,  3.85000000e+00,  3.90000000e+00,  3.95000000e+00,\n",
       "        4.00000000e+00,  4.05000000e+00,  4.10000000e+00,  4.15000000e+00,\n",
       "        4.20000000e+00,  4.25000000e+00,  4.30000000e+00,  4.35000000e+00,\n",
       "        4.40000000e+00,  4.45000000e+00,  4.50000000e+00,  4.55000000e+00,\n",
       "        4.60000000e+00,  4.65000000e+00,  4.70000000e+00,  4.75000000e+00,\n",
       "        4.80000000e+00,  4.85000000e+00,  4.90000000e+00,  4.95000000e+00])"
      ]
     },
     "execution_count": 58,
     "metadata": {},
     "output_type": "execute_result"
    }
   ],
   "source": [
    "points"
   ]
  },
  {
   "cell_type": "code",
   "execution_count": 60,
   "id": "212a4ab9-7684-4b73-b590-bcf20495bd0a",
   "metadata": {},
   "outputs": [],
   "source": [
    "dx,dy = np.meshgrid(points,points) #格子状の配列を作成"
   ]
  },
  {
   "cell_type": "code",
   "execution_count": 61,
   "id": "f771a6f9-8734-418d-a022-b31d27fa0bc5",
   "metadata": {},
   "outputs": [
    {
     "data": {
      "text/plain": [
       "<matplotlib.image.AxesImage at 0x7fc49fc7dcd0>"
      ]
     },
     "execution_count": 61,
     "metadata": {},
     "output_type": "execute_result"
    },
    {
     "data": {
      "image/png": "[encoded data removed]",
      "text/plain": [
       "<Figure size 640x480 with 1 Axes>"
      ]
     },
     "metadata": {},
     "output_type": "display_data"
    }
   ],
   "source": [
    "plt.imshow(dx)"
   ]
  },
  {
   "cell_type": "code",
   "execution_count": 62,
   "id": "b663ef57-00f3-4181-9091-61c8934e9eef",
   "metadata": {},
   "outputs": [
    {
     "data": {
      "text/plain": [
       "<matplotlib.image.AxesImage at 0x7fc49f3769d0>"
      ]
     },
     "execution_count": 62,
     "metadata": {},
     "output_type": "execute_result"
    },
    {
     "data": {
      "image/png": "[encoded data removed]",
      "text/plain": [
       "<Figure size 640x480 with 1 Axes>"
      ]
     },
     "metadata": {},
     "output_type": "display_data"
    }
   ],
   "source": [
    "plt.imshow(dy)"
   ]
  },
  {
   "cell_type": "code",
   "execution_count": 63,
   "id": "4af2d8c7-b269-4ff8-b308-fff3b01d2691",
   "metadata": {},
   "outputs": [],
   "source": [
    "z = (np.sin(dx) + np.sin(dy))"
   ]
  },
  {
   "cell_type": "code",
   "execution_count": 64,
   "id": "6cd680a9-f0a4-4601-9658-34b2c03801df",
   "metadata": {},
   "outputs": [
    {
     "data": {
      "text/plain": [
       "<matplotlib.image.AxesImage at 0x7fc49f2ee7f0>"
      ]
     },
     "execution_count": 64,
     "metadata": {},
     "output_type": "execute_result"
    },
    {
     "data": {
      "image/png": "[encoded data removed]",
      "text/plain": [
       "<Figure size 640x480 with 1 Axes>"
      ]
     },
     "metadata": {},
     "output_type": "display_data"
    }
   ],
   "source": [
    "plt.imshow(z)"
   ]
  },
  {
   "cell_type": "code",
   "execution_count": 66,
   "id": "757b71eb-66b5-45be-89e7-1d5bdc2faaa9",
   "metadata": {},
   "outputs": [
    {
     "data": {
      "text/plain": [
       "Text(0.5, 1.0, 'Plot for sin(x)+sin(y)')"
      ]
     },
     "execution_count": 66,
     "metadata": {},
     "output_type": "execute_result"
    },
    {
     "data": {
      "image/png": "[encoded data removed]",
      "text/plain": [
       "<Figure size 640x480 with 2 Axes>"
      ]
     },
     "metadata": {},
     "output_type": "display_data"
    }
   ],
   "source": [
    "plt.imshow(z)\n",
    "plt.colorbar()\n",
    "plt.title(\"Plot for sin(x)+sin(y)\")"
   ]
  },
  {
   "cell_type": "markdown",
   "id": "75130300-be89-43a1-8879-2c9e222ca31c",
   "metadata": {},
   "source": [
    "# arrayの条件抜出し\n",
    "\n",
    "多次元だとリスト内表記が使えないかつ遅いため、条件分岐をするのには「np.where」を使う"
   ]
  },
  {
   "cell_type": "code",
   "execution_count": 68,
   "id": "d9c53b2a-a990-4bf1-b7a5-e97e35d03974",
   "metadata": {},
   "outputs": [],
   "source": [
    "condition = [True, True, False, False]\n",
    "A = [1,2,3,4]\n",
    "B = [111,222,333,444]"
   ]
  },
  {
   "cell_type": "code",
   "execution_count": 69,
   "id": "8a737b65-ac5d-48b1-afe3-10b1a4eadc4f",
   "metadata": {},
   "outputs": [],
   "source": [
    "ans = np.where(condition,A,B) #np.where(条件,Trueの時の値,Falseの時の値)"
   ]
  },
  {
   "cell_type": "code",
   "execution_count": 70,
   "id": "ce469a0c-9a53-46b5-a7f3-724f1841a9ed",
   "metadata": {},
   "outputs": [
    {
     "data": {
      "text/plain": [
       "array([  1,   2, 333, 444])"
      ]
     },
     "execution_count": 70,
     "metadata": {},
     "output_type": "execute_result"
    }
   ],
   "source": [
    "ans"
   ]
  },
  {
   "cell_type": "code",
   "execution_count": 71,
   "id": "1914611f-1792-4f95-a3a1-f2f855ba84d8",
   "metadata": {},
   "outputs": [],
   "source": [
    "# 2次元の場合\n",
    "A = np.random.randn(5,5) #引数は個数"
   ]
  },
  {
   "cell_type": "code",
   "execution_count": 72,
   "id": "5219c60e-9197-4031-acd3-7fadb47193ef",
   "metadata": {},
   "outputs": [
    {
     "data": {
      "text/plain": [
       "array([[ 0.03522654, -0.67680528,  0.6951659 ,  1.55293118, -0.6870968 ],\n",
       "       [-1.66768921, -0.82677645,  0.35488367, -1.8262517 ,  0.34170515],\n",
       "       [ 1.82464352, -0.45244605,  1.74292857, -0.95905895,  0.3162997 ],\n",
       "       [ 0.44048554, -0.24454559,  0.46578686, -1.46470914,  0.68529818],\n",
       "       [-0.66471235, -0.53064137, -1.08980656,  0.6229734 , -1.50720367]])"
      ]
     },
     "execution_count": 72,
     "metadata": {},
     "output_type": "execute_result"
    }
   ],
   "source": [
    "A"
   ]
  },
  {
   "cell_type": "code",
   "execution_count": 73,
   "id": "ce01600f-2fbf-4aa1-adbf-1fb9aa85cc67",
   "metadata": {},
   "outputs": [
    {
     "data": {
      "text/plain": [
       "array([[0.03522654, 0.        , 0.6951659 , 1.55293118, 0.        ],\n",
       "       [0.        , 0.        , 0.35488367, 0.        , 0.34170515],\n",
       "       [1.82464352, 0.        , 1.74292857, 0.        , 0.3162997 ],\n",
       "       [0.44048554, 0.        , 0.46578686, 0.        , 0.68529818],\n",
       "       [0.        , 0.        , 0.        , 0.6229734 , 0.        ]])"
      ]
     },
     "execution_count": 73,
     "metadata": {},
     "output_type": "execute_result"
    }
   ],
   "source": [
    "# 0以下を0にする\n",
    "np.where(A < 0, 0, A)"
   ]
  },
  {
   "cell_type": "code",
   "execution_count": 74,
   "id": "69ae02d2-8200-4dc0-ac47-b9ff68860850",
   "metadata": {},
   "outputs": [
    {
     "data": {
      "text/plain": [
       "-3.519414930264107"
      ]
     },
     "execution_count": 74,
     "metadata": {},
     "output_type": "execute_result"
    }
   ],
   "source": [
    "# 総和 引数はaxis\n",
    "A.sum()"
   ]
  },
  {
   "cell_type": "code",
   "execution_count": 75,
   "id": "4351f4ec-c66d-41df-9890-7aff2f3b4f1c",
   "metadata": {},
   "outputs": [
    {
     "data": {
      "text/plain": [
       "array([-0.03204596, -2.73121474,  2.16895844, -2.07411522, -0.85099745])"
      ]
     },
     "execution_count": 75,
     "metadata": {},
     "output_type": "execute_result"
    }
   ],
   "source": [
    "A.sum(0)"
   ]
  },
  {
   "cell_type": "code",
   "execution_count": 76,
   "id": "edcf8106-6da0-411e-91d3-bcec1d98c3f8",
   "metadata": {},
   "outputs": [
    {
     "data": {
      "text/plain": [
       "-0.14077659721056426"
      ]
     },
     "execution_count": 76,
     "metadata": {},
     "output_type": "execute_result"
    }
   ],
   "source": [
    "#平均\n",
    "A.mean()"
   ]
  },
  {
   "cell_type": "code",
   "execution_count": 77,
   "id": "8efd01c9-57c3-4052-a9f5-72db7532b1f3",
   "metadata": {},
   "outputs": [
    {
     "data": {
      "text/plain": [
       "1.0123592120677958"
      ]
     },
     "execution_count": 77,
     "metadata": {},
     "output_type": "execute_result"
    }
   ],
   "source": [
    "# 標準偏差\n",
    "A.std()"
   ]
  },
  {
   "cell_type": "code",
   "execution_count": 78,
   "id": "d86a9fc9-896d-4f63-ac0c-a24b0f06fe06",
   "metadata": {},
   "outputs": [
    {
     "data": {
      "text/plain": [
       "1.0248711742585284"
      ]
     },
     "execution_count": 78,
     "metadata": {},
     "output_type": "execute_result"
    }
   ],
   "source": [
    "# 分散\n",
    "A.var()"
   ]
  },
  {
   "cell_type": "code",
   "execution_count": 82,
   "id": "24c41c86-7c96-432b-bc4d-1fa4bd3899f3",
   "metadata": {},
   "outputs": [
    {
     "data": {
      "text/plain": [
       "True"
      ]
     },
     "execution_count": 82,
     "metadata": {},
     "output_type": "execute_result"
    }
   ],
   "source": [
    "B = np.array([True, True, False, False])\n",
    "\n",
    "B.any() # any:どれか 1つでもTrueならTrueを返す"
   ]
  },
  {
   "cell_type": "code",
   "execution_count": 83,
   "id": "95563cf1-db8b-48ae-b7a6-976b148ec23b",
   "metadata": {},
   "outputs": [
    {
     "data": {
      "text/plain": [
       "False"
      ]
     },
     "execution_count": 83,
     "metadata": {},
     "output_type": "execute_result"
    }
   ],
   "source": [
    "B.all() #すべてTrueならTrueを返す"
   ]
  },
  {
   "cell_type": "code",
   "execution_count": 84,
   "id": "d5dcb932-b61e-41ad-bdac-84c6d1dc1b5e",
   "metadata": {},
   "outputs": [
    {
     "data": {
      "text/plain": [
       "array([[-0.6870968 , -0.67680528,  0.03522654,  0.6951659 ,  1.55293118],\n",
       "       [-1.8262517 , -1.66768921, -0.82677645,  0.34170515,  0.35488367],\n",
       "       [-0.95905895, -0.45244605,  0.3162997 ,  1.74292857,  1.82464352],\n",
       "       [-1.46470914, -0.24454559,  0.44048554,  0.46578686,  0.68529818],\n",
       "       [-1.50720367, -1.08980656, -0.66471235, -0.53064137,  0.6229734 ]])"
      ]
     },
     "execution_count": 84,
     "metadata": {},
     "output_type": "execute_result"
    }
   ],
   "source": [
    "A.sort() #ソート 破壊的なので注意\n",
    "\n",
    "A"
   ]
  },
  {
   "cell_type": "code",
   "execution_count": 87,
   "id": "51b99fab-6150-44aa-84c4-d1d8336a32bc",
   "metadata": {},
   "outputs": [
    {
     "data": {
      "text/plain": [
       "array([1, 2, 3, 4, 5, 6])"
      ]
     },
     "execution_count": 87,
     "metadata": {},
     "output_type": "execute_result"
    }
   ],
   "source": [
    "C = np.array([1,2,3,3,3,4,5,2,4,6,3])\n",
    "np.unique(C) #ユニーク つまり重複削除"
   ]
  },
  {
   "cell_type": "code",
   "execution_count": 89,
   "id": "730128ca-112c-47ce-96e1-82bc5e373a33",
   "metadata": {},
   "outputs": [
    {
     "data": {
      "text/plain": [
       "array([False,  True,  True,  True, False,  True,  True])"
      ]
     },
     "execution_count": 89,
     "metadata": {},
     "output_type": "execute_result"
    }
   ],
   "source": [
    "# ２つ目の引数の中に配列が含まれるかの確認\n",
    "D = np.array([9,4,3,1,7,4,5])\n",
    "np.in1d(D,C)"
   ]
  },
  {
   "cell_type": "markdown",
   "id": "abe8f6c2-0351-401b-8b3a-1749dd0672a2",
   "metadata": {},
   "source": [
    "# アレイの入出力\n",
    "\n",
    "何かしらのarray値を保存/読み込みする方法"
   ]
  },
  {
   "cell_type": "code",
   "execution_count": 3,
   "id": "799a6b0d-5f8b-4d16-b23e-831d7c3b6086",
   "metadata": {},
   "outputs": [
    {
     "data": {
      "text/plain": [
       "array([0, 1, 2, 3, 4])"
      ]
     },
     "execution_count": 3,
     "metadata": {},
     "output_type": "execute_result"
    }
   ],
   "source": [
    "arr = np.arange(5)\n",
    "arr"
   ]
  },
  {
   "cell_type": "code",
   "execution_count": 8,
   "id": "1b06ab84-277a-4e46-8a66-c6a3e98677cb",
   "metadata": {},
   "outputs": [],
   "source": [
    "np.save('np_array',arr) #名前.npyで保存される"
   ]
  },
  {
   "cell_type": "code",
   "execution_count": 9,
   "id": "989a6957-51f1-447a-ad93-99395f0e43b6",
   "metadata": {},
   "outputs": [
    {
     "data": {
      "text/plain": [
       "array([0, 1, 2, 3, 4])"
      ]
     },
     "execution_count": 9,
     "metadata": {},
     "output_type": "execute_result"
    }
   ],
   "source": [
    "np.load('np_array.npy')"
   ]
  },
  {
   "cell_type": "code",
   "execution_count": 10,
   "id": "0f6e0469-693b-49e2-8d93-d59a451fd83d",
   "metadata": {},
   "outputs": [],
   "source": [
    "# 複数保存のパターン\n",
    "arr1 = np.arange(5)\n",
    "arr2 = np.arange(10)\n",
    "\n",
    "np.savez('ziparrays.npz',x=arr1,y=arr2) #1つにまとめて保存 zip形式"
   ]
  },
  {
   "cell_type": "code",
   "execution_count": 12,
   "id": "1e4cc24e-f723-4ad6-a712-888d4fdcd1c5",
   "metadata": {},
   "outputs": [
    {
     "data": {
      "text/plain": [
       "<numpy.lib.npyio.NpzFile at 0x7f371b4bebb0>"
      ]
     },
     "execution_count": 12,
     "metadata": {},
     "output_type": "execute_result"
    }
   ],
   "source": [
    "#zipとして保存するパターン\n",
    "archlive = np.load('ziparrays.npz')\n",
    "archlive #このままではzip情報になる"
   ]
  },
  {
   "cell_type": "code",
   "execution_count": 15,
   "id": "dfc8f1b5-ff02-45ab-b2bf-a38970ece8f7",
   "metadata": {},
   "outputs": [
    {
     "data": {
      "text/plain": [
       "array([0, 1, 2, 3, 4])"
      ]
     },
     "execution_count": 15,
     "metadata": {},
     "output_type": "execute_result"
    }
   ],
   "source": [
    "archlive['x']"
   ]
  },
  {
   "cell_type": "code",
   "execution_count": 16,
   "id": "4071a4b2-2293-45d7-b131-0a74b49d7a8c",
   "metadata": {},
   "outputs": [],
   "source": [
    "#テキストとして保存するパターン\n",
    "np.savetxt('my_test.txt',arr,delimiter=',')"
   ]
  },
  {
   "cell_type": "code",
   "execution_count": 18,
   "id": "7edd9f81-ab3d-4220-8c9c-ebbcd53f42de",
   "metadata": {},
   "outputs": [
    {
     "name": "stdout",
     "output_type": "stream",
     "text": [
      "0.000000000000000000e+00\n",
      "1.000000000000000000e+00\n",
      "2.000000000000000000e+00\n",
      "3.000000000000000000e+00\n",
      "4.000000000000000000e+00\n"
     ]
    }
   ],
   "source": [
    "!cat my_test.txt #!でshellのコマンドを呼び出せる"
   ]
  },
  {
   "cell_type": "code",
   "execution_count": 20,
   "id": "95260804-635d-4f02-8bc3-42678b83d249",
   "metadata": {},
   "outputs": [
    {
     "data": {
      "text/plain": [
       "array([0., 1., 2., 3., 4.])"
      ]
     },
     "execution_count": 20,
     "metadata": {},
     "output_type": "execute_result"
    }
   ],
   "source": [
    "#loadはそのままloadtxtを用いる\n",
    "txtarr = np.loadtxt('my_test.txt')\n",
    "txtarr"
   ]
  }
 ],
 "metadata": {
  "kernelspec": {
   "display_name": "Python 3 (ipykernel)",
   "language": "python",
   "name": "python3"
  },
  "language_info": {
   "codemirror_mode": {
    "name": "ipython",
    "version": 3
   },
   "file_extension": ".py",
   "mimetype": "text/x-python",
   "name": "python",
   "nbconvert_exporter": "python",
   "pygments_lexer": "ipython3",
   "version": "3.9.13"
  }
 },
 "nbformat": 4,
 "nbformat_minor": 5
}
