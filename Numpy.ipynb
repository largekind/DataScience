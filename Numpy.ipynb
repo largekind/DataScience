{
 "cells": [
  {
   "cell_type": "markdown",
   "id": "467edcf0-4a12-4728-9b1c-d31c0527f1a1",
   "metadata": {},
   "source": [
    "# numpy 基本的な使い方\n",
    "\n",
    "## インポート\n",
    "\n",
    "いつものやつ"
   ]
  },
  {
   "cell_type": "code",
   "execution_count": 15,
   "id": "1493c38c-ae26-4390-be2a-799c78250007",
   "metadata": {},
   "outputs": [],
   "source": [
    "import numpy as np"
   ]
  },
  {
   "cell_type": "markdown",
   "id": "938aa3f1-d491-46af-a9a6-6de8fa266fdd",
   "metadata": {},
   "source": [
    "## リストの作り方\n",
    "\n",
    "こちらもいつものやつ。np.arrayを使うだけ"
   ]
  },
  {
   "cell_type": "code",
   "execution_count": 16,
   "id": "847d7cce-0d8d-4c4e-b261-5c8cfba28983",
   "metadata": {},
   "outputs": [],
   "source": [
    "np_list = np.array([1,2,3,4])"
   ]
  },
  {
   "cell_type": "code",
   "execution_count": 17,
   "id": "8225c32b-1805-4040-bc89-d9185b6b4a00",
   "metadata": {},
   "outputs": [
    {
     "data": {
      "text/plain": [
       "array([1, 2, 3, 4])"
      ]
     },
     "execution_count": 17,
     "metadata": {},
     "output_type": "execute_result"
    }
   ],
   "source": [
    "np_list"
   ]
  },
  {
   "cell_type": "markdown",
   "id": "6d80fa18-b056-4712-a8f7-3ec022afdaf4",
   "metadata": {},
   "source": [
    "## データの結合\n",
    "\n",
    "リストと同様にくっつけて、np.arrayで定義すれば結合可能"
   ]
  },
  {
   "cell_type": "code",
   "execution_count": 18,
   "id": "fb447dcc-e102-429e-947c-81baf5db2390",
   "metadata": {},
   "outputs": [],
   "source": [
    "my_list2 = [11,22,33,44]\n",
    "my_lists = [np_list,my_list2]"
   ]
  },
  {
   "cell_type": "code",
   "execution_count": 19,
   "id": "8abe767a-4501-473b-ba48-f4fd91728f9d",
   "metadata": {},
   "outputs": [
    {
     "data": {
      "text/plain": [
       "[array([1, 2, 3, 4]), [11, 22, 33, 44]]"
      ]
     },
     "execution_count": 19,
     "metadata": {},
     "output_type": "execute_result"
    }
   ],
   "source": [
    "my_lists"
   ]
  },
  {
   "cell_type": "code",
   "execution_count": 20,
   "id": "1e2bca05-90fe-4feb-9706-ddf85ed31160",
   "metadata": {},
   "outputs": [],
   "source": [
    "np_lists = np.array(my_lists) #複数のリストをまとめるパターン"
   ]
  },
  {
   "cell_type": "code",
   "execution_count": 21,
   "id": "662e64cf-290d-4357-b89c-4bfc2c9ed558",
   "metadata": {},
   "outputs": [
    {
     "data": {
      "text/plain": [
       "array([[ 1,  2,  3,  4],\n",
       "       [11, 22, 33, 44]])"
      ]
     },
     "execution_count": 21,
     "metadata": {},
     "output_type": "execute_result"
    }
   ],
   "source": [
    "np_lists"
   ]
  },
  {
   "cell_type": "code",
   "execution_count": 22,
   "id": "62d9dadc-bf09-48a3-a178-a4d1756f8a94",
   "metadata": {},
   "outputs": [
    {
     "data": {
      "text/plain": [
       "array([0., 0., 0., 0., 0.])"
      ]
     },
     "execution_count": 22,
     "metadata": {},
     "output_type": "execute_result"
    }
   ],
   "source": [
    "np.zeros(5)"
   ]
  },
  {
   "cell_type": "code",
   "execution_count": 23,
   "id": "918949d8-389e-43e3-a1b6-362966ff75a0",
   "metadata": {},
   "outputs": [
    {
     "data": {
      "text/plain": [
       "dtype('float64')"
      ]
     },
     "execution_count": 23,
     "metadata": {},
     "output_type": "execute_result"
    }
   ],
   "source": [
    "np.zeros(5).dtype #dtypeで型出力"
   ]
  },
  {
   "cell_type": "markdown",
   "id": "b46c20c2-44e6-4df5-9a09-42ae083d79b0",
   "metadata": {},
   "source": [
    "## 単位行列\n",
    "\n",
    "対角成分が1のやつ。np.eyeで作成できる"
   ]
  },
  {
   "cell_type": "code",
   "execution_count": 24,
   "id": "bfe8f598-4b5e-47be-adf0-17c038c0e1bf",
   "metadata": {},
   "outputs": [
    {
     "data": {
      "text/plain": [
       "array([[1., 0., 0., 0., 0.],\n",
       "       [0., 1., 0., 0., 0.],\n",
       "       [0., 0., 1., 0., 0.],\n",
       "       [0., 0., 0., 1., 0.],\n",
       "       [0., 0., 0., 0., 1.]])"
      ]
     },
     "execution_count": 24,
     "metadata": {},
     "output_type": "execute_result"
    }
   ],
   "source": [
    "np.eye(5)"
   ]
  },
  {
   "cell_type": "code",
   "execution_count": null,
   "id": "19bb2fe8-0178-4a5f-8c46-caea607c2c06",
   "metadata": {},
   "outputs": [],
   "source": [
    "# arry"
   ]
  }
 ],
 "metadata": {
  "kernelspec": {
   "display_name": "Python 3 (ipykernel)",
   "language": "python",
   "name": "python3"
  },
  "language_info": {
   "codemirror_mode": {
    "name": "ipython",
    "version": 3
   },
   "file_extension": ".py",
   "mimetype": "text/x-python",
   "name": "python",
   "nbconvert_exporter": "python",
   "pygments_lexer": "ipython3",
   "version": "3.9.13"
  }
 },
 "nbformat": 4,
 "nbformat_minor": 5
}
